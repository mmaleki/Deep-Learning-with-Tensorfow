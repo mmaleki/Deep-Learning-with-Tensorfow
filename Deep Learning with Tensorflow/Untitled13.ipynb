{
 "cells": [
  {
   "cell_type": "code",
   "execution_count": 1,
   "metadata": {},
   "outputs": [],
   "source": [
    "import numpy as np\n",
    "import matplotlib.pyplot as plt\n",
    "import tensorflow as tf"
   ]
  },
  {
   "cell_type": "code",
   "execution_count": 2,
   "metadata": {},
   "outputs": [],
   "source": [
    "x=tf.Variable(3.0)\n",
    "\n",
    "with tf.GradientTape() as tape:\n",
    "    y=x**2\n",
    "    \n"
   ]
  },
  {
   "cell_type": "code",
   "execution_count": 3,
   "metadata": {},
   "outputs": [],
   "source": [
    "dy_dx=tape.gradient(y,x)"
   ]
  },
  {
   "cell_type": "code",
   "execution_count": 5,
   "metadata": {},
   "outputs": [
    {
     "data": {
      "text/plain": [
       "6.0"
      ]
     },
     "execution_count": 5,
     "metadata": {},
     "output_type": "execute_result"
    }
   ],
   "source": [
    "dy_dx.numpy()"
   ]
  },
  {
   "cell_type": "code",
   "execution_count": 17,
   "metadata": {},
   "outputs": [],
   "source": [
    "w=tf.Variable(tf.random.normal((3,2)),name='w')\n",
    "b=tf.Variable(tf.zeros(2,tf.float32),name='b')\n",
    "x=[[1.0, 2.0, 3.0]]\n",
    "\n",
    "with tf.GradientTape(persistent=True) as tape:\n",
    "    y=x @ w+b\n",
    "    loss=tf.reduce_mean(y**2)\n",
    "    "
   ]
  },
  {
   "cell_type": "code",
   "execution_count": 18,
   "metadata": {},
   "outputs": [],
   "source": [
    "[dloss_dw, dloss_db]=tape.gradient(loss, [w,b])"
   ]
  },
  {
   "cell_type": "code",
   "execution_count": 19,
   "metadata": {},
   "outputs": [],
   "source": [
    "my_variables={'w':w,'b':b}\n",
    "grad=tape.gradient(loss,my_variables)"
   ]
  },
  {
   "cell_type": "code",
   "execution_count": 20,
   "metadata": {},
   "outputs": [
    {
     "data": {
      "text/plain": [
       "<tf.Tensor: shape=(3, 2), dtype=float32, numpy=\n",
       "array([[ -5.209317 ,  -5.9433346],\n",
       "       [-10.418634 , -11.886669 ],\n",
       "       [-15.627952 , -17.830004 ]], dtype=float32)>"
      ]
     },
     "execution_count": 20,
     "metadata": {},
     "output_type": "execute_result"
    }
   ],
   "source": [
    "grad['w']"
   ]
  },
  {
   "cell_type": "code",
   "execution_count": 24,
   "metadata": {},
   "outputs": [],
   "source": [
    "layer=tf.keras.layers.Dense(20,activation='relu')\n",
    "x=tf.constant([[1., 2., 3.]])\n",
    "\n",
    "with tf.GradientTape(persistent=True) as tape:\n",
    "    y=layer(x)\n",
    "    loss=tf.reduce_mean(y**2)\n",
    "    \n",
    "grad=tape.gradient(loss,layer.trainable_variables)"
   ]
  },
  {
   "cell_type": "code",
   "execution_count": 25,
   "metadata": {},
   "outputs": [
    {
     "data": {
      "text/plain": [
       "[<tf.Tensor: shape=(3, 20), dtype=float32, numpy=\n",
       " array([[0.13188525, 0.        , 0.24974942, 0.10492277, 0.08109027,\n",
       "         0.        , 0.06072878, 0.06901947, 0.1127395 , 0.19193168,\n",
       "         0.01008061, 0.1083164 , 0.        , 0.04430643, 0.        ,\n",
       "         0.01360787, 0.13142155, 0.        , 0.06618112, 0.12208553],\n",
       "        [0.2637705 , 0.        , 0.49949884, 0.20984554, 0.16218054,\n",
       "         0.        , 0.12145755, 0.13803895, 0.22547899, 0.38386336,\n",
       "         0.02016121, 0.2166328 , 0.        , 0.08861287, 0.        ,\n",
       "         0.02721574, 0.2628431 , 0.        , 0.13236223, 0.24417105],\n",
       "        [0.39565575, 0.        , 0.74924827, 0.3147683 , 0.24327081,\n",
       "         0.        , 0.18218634, 0.20705843, 0.33821848, 0.57579505,\n",
       "         0.03024182, 0.3249492 , 0.        , 0.13291931, 0.        ,\n",
       "         0.04082362, 0.39426464, 0.        , 0.19854334, 0.3662566 ]],\n",
       "       dtype=float32)>, <tf.Tensor: shape=(20,), dtype=float32, numpy=\n",
       " array([0.13188525, 0.        , 0.24974942, 0.10492277, 0.08109027,\n",
       "        0.        , 0.06072878, 0.06901947, 0.1127395 , 0.19193168,\n",
       "        0.01008061, 0.1083164 , 0.        , 0.04430643, 0.        ,\n",
       "        0.01360787, 0.13142155, 0.        , 0.06618112, 0.12208553],\n",
       "       dtype=float32)>]"
      ]
     },
     "execution_count": 25,
     "metadata": {},
     "output_type": "execute_result"
    }
   ],
   "source": [
    "grad"
   ]
  },
  {
   "cell_type": "code",
   "execution_count": 26,
   "metadata": {},
   "outputs": [],
   "source": [
    "x=tf.constant(3.0)\n",
    "with tf.GradientTape() as tape:\n",
    "    tape.watch(x)\n",
    "    y=x**2\n",
    "    \n",
    "dy_dx=tape.gradient(y,x)"
   ]
  },
  {
   "cell_type": "code",
   "execution_count": 27,
   "metadata": {},
   "outputs": [
    {
     "data": {
      "text/plain": [
       "6.0"
      ]
     },
     "execution_count": 27,
     "metadata": {},
     "output_type": "execute_result"
    }
   ],
   "source": [
    "dy_dx.numpy()"
   ]
  },
  {
   "cell_type": "code",
   "execution_count": 31,
   "metadata": {},
   "outputs": [],
   "source": [
    "x0=tf.constant(0.0)\n",
    "x1=tf.constant(10.0)\n",
    "\n",
    "with tf.GradientTape(persistent=True) as tape:\n",
    "    \n",
    "    tape.watch(x1)\n",
    "    y0=tf.math.sin(x0)\n",
    "    y1=tf.math.sin(x1)\n",
    "    \n",
    "    y=y0+y1\n",
    "    "
   ]
  },
  {
   "cell_type": "code",
   "execution_count": 36,
   "metadata": {},
   "outputs": [],
   "source": [
    "g=tape.gradient(y,{'x0':x0,'x1':x1})"
   ]
  },
  {
   "cell_type": "code",
   "execution_count": 39,
   "metadata": {},
   "outputs": [],
   "source": [
    "g['x0']"
   ]
  },
  {
   "cell_type": "code",
   "execution_count": 40,
   "metadata": {},
   "outputs": [
    {
     "data": {
      "text/plain": [
       "<tf.Tensor: shape=(), dtype=float32, numpy=-0.8390715>"
      ]
     },
     "execution_count": 40,
     "metadata": {},
     "output_type": "execute_result"
    }
   ],
   "source": [
    "g['x1']"
   ]
  },
  {
   "cell_type": "code",
   "execution_count": 44,
   "metadata": {},
   "outputs": [],
   "source": [
    "x=tf.constant(3.0)\n",
    "\n",
    "with tf.GradientTape(persistent=True) as tape:\n",
    "    tape.watch(x)\n",
    "    y=x*x\n",
    "    z=y*y\n",
    "    "
   ]
  },
  {
   "cell_type": "code",
   "execution_count": 45,
   "metadata": {},
   "outputs": [],
   "source": [
    "g2=tape.gradient(z,y)"
   ]
  },
  {
   "cell_type": "code",
   "execution_count": 46,
   "metadata": {},
   "outputs": [],
   "source": [
    "g3=tape.gradient(z,x)"
   ]
  },
  {
   "cell_type": "code",
   "execution_count": 47,
   "metadata": {},
   "outputs": [
    {
     "data": {
      "text/plain": [
       "18.0"
      ]
     },
     "execution_count": 47,
     "metadata": {},
     "output_type": "execute_result"
    }
   ],
   "source": [
    "g2.numpy()"
   ]
  },
  {
   "cell_type": "code",
   "execution_count": 48,
   "metadata": {},
   "outputs": [
    {
     "data": {
      "text/plain": [
       "108.0"
      ]
     },
     "execution_count": 48,
     "metadata": {},
     "output_type": "execute_result"
    }
   ],
   "source": [
    "g3.numpy()"
   ]
  },
  {
   "cell_type": "code",
   "execution_count": 49,
   "metadata": {},
   "outputs": [],
   "source": [
    "x=tf.Variable(2.0)\n",
    "with tf.GradientTape(persistent=True) as tape:\n",
    "    y0=x**2\n",
    "    y1=1/x\n",
    "    \n",
    "    "
   ]
  },
  {
   "cell_type": "code",
   "execution_count": 50,
   "metadata": {},
   "outputs": [
    {
     "data": {
      "text/plain": [
       "4.0"
      ]
     },
     "execution_count": 50,
     "metadata": {},
     "output_type": "execute_result"
    }
   ],
   "source": [
    "tape.gradient(y0,x).numpy()"
   ]
  },
  {
   "cell_type": "code",
   "execution_count": 51,
   "metadata": {},
   "outputs": [
    {
     "data": {
      "text/plain": [
       "-0.25"
      ]
     },
     "execution_count": 51,
     "metadata": {},
     "output_type": "execute_result"
    }
   ],
   "source": [
    "tape.gradient(y1,x).numpy()"
   ]
  },
  {
   "cell_type": "code",
   "execution_count": 52,
   "metadata": {},
   "outputs": [],
   "source": [
    "x=tf.Variable(2.0)\n",
    "\n",
    "with tf.GradientTape() as tape:\n",
    "    y=x*[3., 4.]"
   ]
  },
  {
   "cell_type": "code",
   "execution_count": 53,
   "metadata": {},
   "outputs": [
    {
     "data": {
      "text/plain": [
       "7.0"
      ]
     },
     "execution_count": 53,
     "metadata": {},
     "output_type": "execute_result"
    }
   ],
   "source": [
    "tape.gradient(y,x).numpy()"
   ]
  },
  {
   "cell_type": "code",
   "execution_count": null,
   "metadata": {},
   "outputs": [],
   "source": []
  }
 ],
 "metadata": {
  "kernelspec": {
   "display_name": "Python 3",
   "language": "python",
   "name": "python3"
  },
  "language_info": {
   "codemirror_mode": {
    "name": "ipython",
    "version": 3
   },
   "file_extension": ".py",
   "mimetype": "text/x-python",
   "name": "python",
   "nbconvert_exporter": "python",
   "pygments_lexer": "ipython3",
   "version": "3.7.3"
  }
 },
 "nbformat": 4,
 "nbformat_minor": 2
}
