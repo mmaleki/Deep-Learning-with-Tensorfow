{
 "cells": [
  {
   "cell_type": "code",
   "execution_count": 1,
   "metadata": {},
   "outputs": [],
   "source": [
    "import numpy as np\n",
    "import pandas as pd\n",
    "import matplotlib.pyplot as plt"
   ]
  },
  {
   "cell_type": "code",
   "execution_count": 2,
   "metadata": {},
   "outputs": [],
   "source": [
    "def quadratic(x):\n",
    "    return -x**2+4*x+2"
   ]
  },
  {
   "cell_type": "code",
   "execution_count": 3,
   "metadata": {},
   "outputs": [],
   "source": [
    "x=np.array([0.5,1.2,1.5,2.2,3])"
   ]
  },
  {
   "cell_type": "code",
   "execution_count": 4,
   "metadata": {},
   "outputs": [
    {
     "data": {
      "text/plain": [
       "<matplotlib.collections.PathCollection at 0x7f1d7d30f5f8>"
      ]
     },
     "execution_count": 4,
     "metadata": {},
     "output_type": "execute_result"
    },
    {
     "data": {
      "image/png": "[encoded data removed]",
      "text/plain": [
       "<Figure size 432x288 with 1 Axes>"
      ]
     },
     "metadata": {
      "needs_background": "light"
     },
     "output_type": "display_data"
    }
   ],
   "source": [
    "plt.scatter(x,quadratic(x),color='red')"
   ]
  },
  {
   "cell_type": "code",
   "execution_count": 5,
   "metadata": {},
   "outputs": [],
   "source": [
    "dataset=[(1,t,quadratic(t)) for t in x]"
   ]
  },
  {
   "cell_type": "code",
   "execution_count": 6,
   "metadata": {},
   "outputs": [],
   "source": [
    "dataset=pd.DataFrame(dataset)"
   ]
  },
  {
   "cell_type": "code",
   "execution_count": 7,
   "metadata": {
    "scrolled": true
   },
   "outputs": [
    {
     "data": {
      "text/html": [
       "<div>\n",
       "<style scoped>\n",
       "    .dataframe tbody tr th:only-of-type {\n",
       "        vertical-align: middle;\n",
       "    }\n",
       "\n",
       "    .dataframe tbody tr th {\n",
       "        vertical-align: top;\n",
       "    }\n",
       "\n",
       "    .dataframe thead th {\n",
       "        text-align: right;\n",
       "    }\n",
       "</style>\n",
       "<table border=\"1\" class=\"dataframe\">\n",
       "  <thead>\n",
       "    <tr style=\"text-align: right;\">\n",
       "      <th></th>\n",
       "      <th>0</th>\n",
       "      <th>1</th>\n",
       "      <th>2</th>\n",
       "    </tr>\n",
       "  </thead>\n",
       "  <tbody>\n",
       "    <tr>\n",
       "      <th>0</th>\n",
       "      <td>1</td>\n",
       "      <td>0.5</td>\n",
       "      <td>3.75</td>\n",
       "    </tr>\n",
       "    <tr>\n",
       "      <th>1</th>\n",
       "      <td>1</td>\n",
       "      <td>1.2</td>\n",
       "      <td>5.36</td>\n",
       "    </tr>\n",
       "    <tr>\n",
       "      <th>2</th>\n",
       "      <td>1</td>\n",
       "      <td>1.5</td>\n",
       "      <td>5.75</td>\n",
       "    </tr>\n",
       "    <tr>\n",
       "      <th>3</th>\n",
       "      <td>1</td>\n",
       "      <td>2.2</td>\n",
       "      <td>5.96</td>\n",
       "    </tr>\n",
       "    <tr>\n",
       "      <th>4</th>\n",
       "      <td>1</td>\n",
       "      <td>3.0</td>\n",
       "      <td>5.00</td>\n",
       "    </tr>\n",
       "  </tbody>\n",
       "</table>\n",
       "</div>"
      ],
      "text/plain": [
       "   0    1     2\n",
       "0  1  0.5  3.75\n",
       "1  1  1.2  5.36\n",
       "2  1  1.5  5.75\n",
       "3  1  2.2  5.96\n",
       "4  1  3.0  5.00"
      ]
     },
     "execution_count": 7,
     "metadata": {},
     "output_type": "execute_result"
    }
   ],
   "source": [
    "dataset"
   ]
  },
  {
   "cell_type": "code",
   "execution_count": 8,
   "metadata": {},
   "outputs": [],
   "source": [
    "x1=dataset[1][:]"
   ]
  },
  {
   "cell_type": "code",
   "execution_count": 9,
   "metadata": {},
   "outputs": [],
   "source": [
    "x2=dataset[2][:]"
   ]
  },
  {
   "cell_type": "code",
   "execution_count": 10,
   "metadata": {},
   "outputs": [
    {
     "data": {
      "text/plain": [
       "0    3.75\n",
       "1    5.36\n",
       "2    5.75\n",
       "3    5.96\n",
       "4    5.00\n",
       "Name: 2, dtype: float64"
      ]
     },
     "execution_count": 10,
     "metadata": {},
     "output_type": "execute_result"
    }
   ],
   "source": [
    "x2"
   ]
  },
  {
   "cell_type": "code",
   "execution_count": 11,
   "metadata": {},
   "outputs": [
    {
     "data": {
      "text/plain": [
       "Text(0, 0.5, 'y')"
      ]
     },
     "execution_count": 11,
     "metadata": {},
     "output_type": "execute_result"
    },
    {
     "data": {
      "image/png": "[encoded data removed]",
      "text/plain": [
       "<Figure size 432x288 with 1 Axes>"
      ]
     },
     "metadata": {
      "needs_background": "light"
     },
     "output_type": "display_data"
    }
   ],
   "source": [
    "fig=plt.figure()\n",
    "ax=fig.add_axes([0,0,1,1])\n",
    "ax.scatter(x1,x2,color='red',s=100)\n",
    "ax.set_xlabel('X')\n",
    "ax.set_ylabel('y')"
   ]
  },
  {
   "cell_type": "code",
   "execution_count": 12,
   "metadata": {},
   "outputs": [],
   "source": [
    "def E(dataset,order):\n",
    "    n=np.shape(dataset)[0]\n",
    "    \n",
    "    \n",
    "    if order=='linear':\n",
    "        xhat=dataset[:,0:2]\n",
    "        p=np.shape(xhat)[1]\n",
    "        w=np.random.randn(p,1)\n",
    "        yhat=np.dot(xhat,w)\n",
    "        y=dataset[:,2:3]\n",
    "        error=1/n*np.linalg.norm(yhat-dataset[:,1:2])\n",
    "        dl=2*np.dot(np.dot(xhat.T,xhat),w)-2*np.dot(xhat.T,y)\n",
    "    elif order=='quadratic':\n",
    "        xhat=dataset[:,0:3]\n",
    "        p=np.shape(xhat)[1]\n",
    "        w=np.random.randn(p,1)\n",
    "        yhat=np.dot(xhat,w)\n",
    "        y=dataset[:,2:3]\n",
    "        error=1/n*np.linalg.norm(yhat-dataset[:,1:2])\n",
    "        dl=2*np.dot(np.dot(xhat.T,xhat),w)-2*np.dot(xhat.T,y)\n",
    "      \n",
    "    propagation={'L':error,'dL':dl}\n",
    "    return propagation\n",
    "    "
   ]
  },
  {
   "cell_type": "code",
   "execution_count": 13,
   "metadata": {},
   "outputs": [],
   "source": [
    "dataset=np.array(dataset)"
   ]
  },
  {
   "cell_type": "code",
   "execution_count": 14,
   "metadata": {},
   "outputs": [
    {
     "data": {
      "text/plain": [
       "{'L': 1.0952387521383107, 'dL': array([[ -57.14613167],\n",
       "        [ -85.14087028],\n",
       "        [-298.90491863]])}"
      ]
     },
     "execution_count": 14,
     "metadata": {},
     "output_type": "execute_result"
    }
   ],
   "source": [
    "E(dataset,'quadratic')"
   ]
  },
  {
   "cell_type": "code",
   "execution_count": 15,
   "metadata": {},
   "outputs": [],
   "source": [
    "def update(dataset,w,alpha,order):\n",
    "    dl=E(dataset,order)['dL']\n",
    "    new=w-alpha*dl\n",
    "    return new"
   ]
  },
  {
   "cell_type": "code",
   "execution_count": 16,
   "metadata": {},
   "outputs": [],
   "source": [
    "def gradient_desc(dataset,alpha,order,steps):\n",
    "    if order=='linear':\n",
    "        p=np.shape(dataset)[1]-1\n",
    "    else:\n",
    "        p=np.shape(dataset)[1]\n",
    "    w=np.random.randn(p,1)\n",
    "    for i in range(steps):\n",
    "       w=update(dataset,w,alpha,order)\n",
    "    final=E(dataset,order)\n",
    "    return w"
   ]
  },
  {
   "cell_type": "code",
   "execution_count": 17,
   "metadata": {},
   "outputs": [
    {
     "data": {
      "text/plain": [
       "array([[1.04838757],\n",
       "       [2.93174251]])"
      ]
     },
     "execution_count": 17,
     "metadata": {},
     "output_type": "execute_result"
    }
   ],
   "source": [
    "gradient_desc(dataset,0.00001,'linear',2000)"
   ]
  },
  {
   "cell_type": "code",
   "execution_count": 18,
   "metadata": {},
   "outputs": [
    {
     "data": {
      "text/plain": [
       "array([[-0.04024378],\n",
       "       [ 0.61993202],\n",
       "       [-0.11071179]])"
      ]
     },
     "execution_count": 18,
     "metadata": {},
     "output_type": "execute_result"
    }
   ],
   "source": [
    "gradient_desc(dataset,0.0000001,'quadratic',2000)"
   ]
  },
  {
   "cell_type": "code",
   "execution_count": 19,
   "metadata": {},
   "outputs": [],
   "source": [
    "def plot_data(dataset,alpha,order,steps):\n",
    "    w=gradient_desc(dataset,alpha,order,steps)\n",
    "    w0=w[0][0]\n",
    "    w1=w[1][0]\n",
    "    m1=np.min(dataset[:,0:1])-2\n",
    "    m2=np.max(dataset[:,0:1])+2\n",
    "    \n",
    "    plt.xlim(0,3.5)\n",
    "    plt.ylim(0,7)\n",
    "\n",
    "    x=np.linspace(0,3.5,20)\n",
    "    y=w0+w1*x\n",
    "    plt.plot(x,y,'b')\n",
    "    plt.scatter(dataset[:,1:2],dataset[:,2:3],color='red')\n",
    "    plt.savefig('Linear.jpeg',dpi=300)\n",
    "    "
   ]
  },
  {
   "cell_type": "code",
   "execution_count": 20,
   "metadata": {},
   "outputs": [],
   "source": [
    "def plot_data_2(dataset,alpha,steps):\n",
    "    w=gradient_desc(dataset,alpha,'quadratic',steps)\n",
    "    w0=w[0][0]\n",
    "    w1=w[1][0]\n",
    "    w2=w[2][0]\n",
    "   \n",
    "    plt.xlim(0,3.5)\n",
    "    plt.ylim(0,7)\n",
    "\n",
    "    x=np.linspace(0,3.5,20)\n",
    "    y=w0+w1*x+w2*x**2\n",
    "    plt.plot(x,y,'b')\n",
    "    plt.scatter(dataset[:,1:2],dataset[:,2:3],color='red')\n",
    "    plt.savefig('Quadratic.jpeg',dpi=300)"
   ]
  },
  {
   "cell_type": "code",
   "execution_count": 21,
   "metadata": {},
   "outputs": [
    {
     "data": {
      "text/plain": [
       "array([[ 0.55387849],\n",
       "       [ 2.4521436 ],\n",
       "       [15.38291046]])"
      ]
     },
     "execution_count": 21,
     "metadata": {},
     "output_type": "execute_result"
    }
   ],
   "source": [
    "gradient_desc(dataset,0.0001,'quadratic',500)"
   ]
  },
  {
   "cell_type": "code",
   "execution_count": 67,
   "metadata": {},
   "outputs": [
    {
     "data": {
      "image/png": "[encoded data removed]",
      "text/plain": [
       "<Figure size 432x288 with 1 Axes>"
      ]
     },
     "metadata": {
      "needs_background": "light"
     },
     "output_type": "display_data"
    }
   ],
   "source": [
    "plot_data_2(dataset,0.00000000001,2000000)"
   ]
  },
  {
   "cell_type": "code",
   "execution_count": 49,
   "metadata": {},
   "outputs": [
    {
     "data": {
      "image/png": "[encoded data removed]",
      "text/plain": [
       "<Figure size 432x288 with 1 Axes>"
      ]
     },
     "metadata": {
      "needs_background": "light"
     },
     "output_type": "display_data"
    }
   ],
   "source": [
    "plot_data(dataset,0.00001,'linear',2000)"
   ]
  },
  {
   "cell_type": "code",
   "execution_count": null,
   "metadata": {},
   "outputs": [],
   "source": []
  },
  {
   "cell_type": "code",
   "execution_count": 85,
   "metadata": {},
   "outputs": [
    {
     "data": {
      "text/plain": [
       "<matplotlib.collections.PathCollection at 0x7f1d7c4a3e48>"
      ]
     },
     "execution_count": 85,
     "metadata": {},
     "output_type": "execute_result"
    },
    {
     "data": {
      "image/png": "[encoded data removed]",
      "text/plain": [
       "<Figure size 432x288 with 1 Axes>"
      ]
     },
     "metadata": {
      "needs_background": "light"
     },
     "output_type": "display_data"
    }
   ],
   "source": []
  },
  {
   "cell_type": "code",
   "execution_count": 86,
   "metadata": {},
   "outputs": [
    {
     "data": {
      "text/plain": [
       "array([[1.  , 0.5 , 3.75],\n",
       "       [1.  , 1.2 , 5.36],\n",
       "       [1.  , 1.5 , 5.75],\n",
       "       [1.  , 2.2 , 5.96],\n",
       "       [1.  , 3.  , 5.  ]])"
      ]
     },
     "execution_count": 86,
     "metadata": {},
     "output_type": "execute_result"
    }
   ],
   "source": [
    "dataset"
   ]
  },
  {
   "cell_type": "code",
   "execution_count": 156,
   "metadata": {},
   "outputs": [],
   "source": [
    "def f(x):\n",
    "    return [1,x,x**2,x**3,x**4,x**5]"
   ]
  },
  {
   "cell_type": "code",
   "execution_count": 157,
   "metadata": {},
   "outputs": [],
   "source": [
    "a=np.array([f(0.5),f(1.2),f(1.5),f(2.2),f(3),f(3.5)])"
   ]
  },
  {
   "cell_type": "code",
   "execution_count": 158,
   "metadata": {},
   "outputs": [
    {
     "data": {
      "text/plain": [
       "array([[1.0000000e+00, 5.0000000e-01, 2.5000000e-01, 1.2500000e-01,\n",
       "        6.2500000e-02, 3.1250000e-02],\n",
       "       [1.0000000e+00, 1.2000000e+00, 1.4400000e+00, 1.7280000e+00,\n",
       "        2.0736000e+00, 2.4883200e+00],\n",
       "       [1.0000000e+00, 1.5000000e+00, 2.2500000e+00, 3.3750000e+00,\n",
       "        5.0625000e+00, 7.5937500e+00],\n",
       "       [1.0000000e+00, 2.2000000e+00, 4.8400000e+00, 1.0648000e+01,\n",
       "        2.3425600e+01, 5.1536320e+01],\n",
       "       [1.0000000e+00, 3.0000000e+00, 9.0000000e+00, 2.7000000e+01,\n",
       "        8.1000000e+01, 2.4300000e+02],\n",
       "       [1.0000000e+00, 3.5000000e+00, 1.2250000e+01, 4.2875000e+01,\n",
       "        1.5006250e+02, 5.2521875e+02]])"
      ]
     },
     "execution_count": 158,
     "metadata": {},
     "output_type": "execute_result"
    }
   ],
   "source": [
    "a"
   ]
  },
  {
   "cell_type": "code",
   "execution_count": 159,
   "metadata": {},
   "outputs": [],
   "source": [
    "b=np.array([3.75,5.36,5.75,5.96,5,6])"
   ]
  },
  {
   "cell_type": "code",
   "execution_count": 160,
   "metadata": {},
   "outputs": [],
   "source": [
    "x2=np.linalg.solve(a,b)"
   ]
  },
  {
   "cell_type": "code",
   "execution_count": 161,
   "metadata": {},
   "outputs": [
    {
     "data": {
      "text/plain": [
       "array([  0.51003344,  10.38879599, -10.63210702,   6.61956522,\n",
       "        -2.10702341,   0.25083612])"
      ]
     },
     "execution_count": 161,
     "metadata": {},
     "output_type": "execute_result"
    }
   ],
   "source": [
    "x2"
   ]
  },
  {
   "cell_type": "code",
   "execution_count": null,
   "metadata": {},
   "outputs": [],
   "source": []
  },
  {
   "cell_type": "code",
   "execution_count": 162,
   "metadata": {},
   "outputs": [
    {
     "data": {
      "text/plain": [
       "1.9999999999999925"
      ]
     },
     "execution_count": 162,
     "metadata": {},
     "output_type": "execute_result"
    }
   ],
   "source": [
    "w"
   ]
  },
  {
   "cell_type": "code",
   "execution_count": 165,
   "metadata": {},
   "outputs": [
    {
     "data": {
      "image/png": "[encoded data removed]",
      "text/plain": [
       "<Figure size 432x288 with 1 Axes>"
      ]
     },
     "metadata": {
      "needs_background": "light"
     },
     "output_type": "display_data"
    }
   ],
   "source": [
    "\n",
    "plt.xlim(0,4)\n",
    "plt.ylim(0,7)\n",
    "\n",
    "x=np.linspace(0,4,50)\n",
    "y=x2[0]+x2[1]*x+x2[2]*x**2+x2[3]*x**3+x2[4]*x**4+x2[5]*x**5\n",
    "plt.plot(x,y,'b')\n",
    "plt.scatter(dataset[:,1:2],dataset[:,2:3],color='red')\n",
    "plt.savefig('Quadratic.jpeg',dpi=300)"
   ]
  },
  {
   "cell_type": "code",
   "execution_count": 35,
   "metadata": {},
   "outputs": [
    {
     "data": {
      "image/png": "[encoded data removed]",
      "text/plain": [
       "<Figure size 432x288 with 1 Axes>"
      ]
     },
     "metadata": {
      "needs_background": "light"
     },
     "output_type": "display_data"
    }
   ],
   "source": [
    "import numpy as np\n",
    "import matplotlib.pyplot as plt\n",
    "import matplotlib.text as text\n",
    "\n",
    "a = np.arange(0, 3, .02)\n",
    "b = np.arange(0, 3, .02)\n",
    "c = np.exp(a)\n",
    "d = c[::-1]\n",
    "\n",
    "fig, ax = plt.subplots()\n",
    "plt.plot( a, d, 'k:', a, 0.4*c + d, 'k')\n",
    "\n",
    "plt.legend(('Training error', 'Test error'),\n",
    "           loc='upper center', shadow=True)\n",
    "plt.ylim([-1, 20])\n",
    "plt.grid(False)\n",
    "plt.xlabel('Capacity --->')\n",
    "plt.ylabel('Error --->')\n",
    "plt.title('Optimal Capacity Graph')\n",
    "\n",
    "\n",
    "# match on arbitrary function\n",
    "def myfunc(x):\n",
    "    return hasattr(x, 'set_color') and not hasattr(x, 'set_facecolor')\n",
    "\n",
    "\n",
    "for o in fig.findobj(myfunc):\n",
    "    o.set_color('blue')\n",
    "    \n",
    "plt.plot([1.8,1.8],[-0.8,20],c='red')\n",
    "\n",
    "\n",
    "\n",
    "# match on class instances\n",
    "for o in fig.findobj(text.Text):\n",
    "    o.set_fontstyle('italic')\n",
    "\n",
    "plt.savefig('Overfitting.jpeg',dpi=300)\n",
    "plt.show()"
   ]
  },
  {
   "cell_type": "code",
   "execution_count": 38,
   "metadata": {},
   "outputs": [
    {
     "data": {
      "image/png": "[encoded data removed]",
      "text/plain": [
       "<Figure size 432x288 with 1 Axes>"
      ]
     },
     "metadata": {
      "needs_background": "light"
     },
     "output_type": "display_data"
    }
   ],
   "source": [
    "import numpy as np\n",
    "import matplotlib.pyplot as plt\n",
    "import matplotlib.text as text\n",
    "\n",
    "a = np.arange(0, 3, .02)\n",
    "b = np.arange(0, 3, .02)\n",
    "c = np.exp(a)\n",
    "d = c[::-1]\n",
    "\n",
    "fig, ax = plt.subplots()\n",
    "plt.plot(a, c, 'k--', a, d, 'k:', a, c + d, 'k')\n",
    "plt.legend(('Variance', 'Bias', 'Generalization error'),\n",
    "           loc='upper center', shadow=True)\n",
    "plt.ylim([-1, 20])\n",
    "plt.grid(False)\n",
    "plt.xlabel('Capacity --->')\n",
    "plt.ylabel('Error --->')\n",
    "plt.title('Minimum Message Length')\n",
    "\n",
    "\n",
    "# match on arbitrary function\n",
    "def myfunc(x):\n",
    "    return hasattr(x, 'set_color') and not hasattr(x, 'set_facecolor')\n",
    "\n",
    "\n",
    "for o in fig.findobj(myfunc):\n",
    "    o.set_color('blue')\n",
    "plt.plot([1.5,1.5],[-0.8,20],c='red')\n",
    "\n",
    "# match on class instances\n",
    "for o in fig.findobj(text.Text):\n",
    "    o.set_fontstyle('italic')\n",
    "\n",
    "plt.savefig('Bias.jpeg',dpi=300)\n",
    "plt.show()\n",
    "\n"
   ]
  },
  {
   "cell_type": "code",
   "execution_count": null,
   "metadata": {},
   "outputs": [],
   "source": []
  }
 ],
 "metadata": {
  "kernelspec": {
   "display_name": "Python 3",
   "language": "python",
   "name": "python3"
  },
  "language_info": {
   "codemirror_mode": {
    "name": "ipython",
    "version": 3
   },
   "file_extension": ".py",
   "mimetype": "text/x-python",
   "name": "python",
   "nbconvert_exporter": "python",
   "pygments_lexer": "ipython3",
   "version": "3.7.3"
  }
 },
 "nbformat": 4,
 "nbformat_minor": 2
}
