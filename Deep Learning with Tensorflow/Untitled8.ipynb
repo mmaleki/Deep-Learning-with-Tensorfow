{
 "cells": [
  {
   "cell_type": "markdown",
   "metadata": {},
   "source": [
    "$$\n",
    "\\begin{vmatrix}\n",
    "p & q \n",
    "\\end{vmatrix}\\\\\n",
    "\\begin{vmatrix}\n",
    "3 & 4\\\\\n",
    "5 & 6\n",
    "\\end{vmatrix}\n",
    "$$"
   ]
  },
  {
   "cell_type": "markdown",
   "metadata": {},
   "source": [
    "------"
   ]
  },
  {
   "cell_type": "markdown",
   "metadata": {},
   "source": [
    "<div class=\"math\">\n",
    "\\[\n",
    "\\begin{array}{cc} &\n",
    "\\begin{array}{c|c|c} a & b & c\n",
    "\\end{array}\n",
    "\\\\\n",
    "&\n",
    "\\left(\n",
    "\\begin{array}{c|c|c}\n",
    ".1 & .1 & 0 \\\\\n",
    ".4 & 1 & 0 \\\\\n",
    ".8 & 0 & .4\n",
    "\\end{array}\n",
    "\\right)\n",
    "\\end{array}\n",
    "\\]\n",
    "</div>"
   ]
  },
  {
   "cell_type": "code",
   "execution_count": null,
   "metadata": {},
   "outputs": [],
   "source": []
  }
 ],
 "metadata": {
  "kernelspec": {
   "display_name": "Python 3",
   "language": "python",
   "name": "python3"
  },
  "language_info": {
   "codemirror_mode": {
    "name": "ipython",
    "version": 3
   },
   "file_extension": ".py",
   "mimetype": "text/x-python",
   "name": "python",
   "nbconvert_exporter": "python",
   "pygments_lexer": "ipython3",
   "version": "3.7.3"
  }
 },
 "nbformat": 4,
 "nbformat_minor": 2
}
