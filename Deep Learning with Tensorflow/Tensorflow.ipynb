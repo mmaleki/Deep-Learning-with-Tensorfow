{
 "cells": [
  {
   "cell_type": "code",
   "execution_count": null,
   "metadata": {
    "scrolled": false
   },
   "outputs": [],
   "source": [
    "#!pip install --upgrade tensorflow"
   ]
  },
  {
   "cell_type": "code",
   "execution_count": null,
   "metadata": {},
   "outputs": [],
   "source": [
    "#!pip3 install --upgrade pip"
   ]
  },
  {
   "cell_type": "code",
   "execution_count": 60,
   "metadata": {},
   "outputs": [],
   "source": [
    "import tensorflow.compat.v1 as tf\n",
    "import numpy as np"
   ]
  },
  {
   "cell_type": "code",
   "execution_count": 61,
   "metadata": {},
   "outputs": [],
   "source": [
    "tf.disable_v2_behavior()"
   ]
  },
  {
   "cell_type": "code",
   "execution_count": 62,
   "metadata": {},
   "outputs": [],
   "source": [
    "five=tf.constant(5)\n",
    "six=tf.constant(6)\n",
    "eleven=tf.add(five,six)\n",
    "thirty=tf.multiply(five,six)\n"
   ]
  },
  {
   "cell_type": "code",
   "execution_count": 63,
   "metadata": {},
   "outputs": [],
   "source": [
    "sess=tf.Session()"
   ]
  },
  {
   "cell_type": "code",
   "execution_count": 64,
   "metadata": {},
   "outputs": [
    {
     "data": {
      "text/plain": [
       "11"
      ]
     },
     "execution_count": 64,
     "metadata": {},
     "output_type": "execute_result"
    }
   ],
   "source": [
    "sess.run(eleven)"
   ]
  },
  {
   "cell_type": "code",
   "execution_count": 65,
   "metadata": {},
   "outputs": [
    {
     "data": {
      "text/plain": [
       "30"
      ]
     },
     "execution_count": 65,
     "metadata": {},
     "output_type": "execute_result"
    }
   ],
   "source": [
    "sess.run(thirty)"
   ]
  },
  {
   "cell_type": "code",
   "execution_count": 66,
   "metadata": {},
   "outputs": [],
   "source": [
    "a=tf.zeros([2,3],dtype=tf.float32,name='zero')\n",
    "b=tf.ones([3,3],dtype=tf.int32,name='one')\n",
    "c=tf.random_normal([4,5],stddev=0.5)\n",
    "d=tf.random_uniform([3,2],-1,1)\n",
    "e=tf.random_normal([2,3],mean=4,stddev=0.5)"
   ]
  },
  {
   "cell_type": "code",
   "execution_count": 67,
   "metadata": {},
   "outputs": [
    {
     "data": {
      "text/plain": [
       "array([[4.440245 , 3.9283342, 4.491803 ],\n",
       "       [4.0104475, 4.4286866, 4.3707056]], dtype=float32)"
      ]
     },
     "execution_count": 67,
     "metadata": {},
     "output_type": "execute_result"
    }
   ],
   "source": [
    "sess.run(e)"
   ]
  },
  {
   "cell_type": "code",
   "execution_count": 68,
   "metadata": {},
   "outputs": [],
   "source": [
    "u=np.array([[2.,3.,4.],\n",
    "            [5.,6.,7.]])"
   ]
  },
  {
   "cell_type": "code",
   "execution_count": 69,
   "metadata": {},
   "outputs": [],
   "source": [
    "ut=tf.linalg.transpose(u)"
   ]
  },
  {
   "cell_type": "code",
   "execution_count": 70,
   "metadata": {
    "scrolled": true
   },
   "outputs": [
    {
     "data": {
      "text/plain": [
       "array([[2., 5.],\n",
       "       [3., 6.],\n",
       "       [4., 7.]])"
      ]
     },
     "execution_count": 70,
     "metadata": {},
     "output_type": "execute_result"
    }
   ],
   "source": [
    "sess.run(ut)"
   ]
  },
  {
   "cell_type": "code",
   "execution_count": 71,
   "metadata": {},
   "outputs": [],
   "source": [
    "uut=tf.linalg.matmul(u,ut)"
   ]
  },
  {
   "cell_type": "code",
   "execution_count": 72,
   "metadata": {},
   "outputs": [
    {
     "data": {
      "text/plain": [
       "array([[ 29.,  56.],\n",
       "       [ 56., 110.]])"
      ]
     },
     "execution_count": 72,
     "metadata": {},
     "output_type": "execute_result"
    }
   ],
   "source": [
    "sess.run(uut)"
   ]
  },
  {
   "cell_type": "code",
   "execution_count": 73,
   "metadata": {},
   "outputs": [],
   "source": [
    "uut=tf.linalg.matmul(u,ut,transpose_a=True,transpose_b=True)"
   ]
  },
  {
   "cell_type": "code",
   "execution_count": 74,
   "metadata": {},
   "outputs": [
    {
     "data": {
      "text/plain": [
       "array([[29., 36., 43.],\n",
       "       [36., 45., 54.],\n",
       "       [43., 54., 65.]])"
      ]
     },
     "execution_count": 74,
     "metadata": {},
     "output_type": "execute_result"
    }
   ],
   "source": [
    "sess.run(uut)"
   ]
  },
  {
   "cell_type": "code",
   "execution_count": 75,
   "metadata": {},
   "outputs": [],
   "source": [
    "detuut=tf.linalg.det(uut)"
   ]
  },
  {
   "cell_type": "code",
   "execution_count": 76,
   "metadata": {},
   "outputs": [
    {
     "data": {
      "text/plain": [
       "-6.294964549624617e-14"
      ]
     },
     "execution_count": 76,
     "metadata": {},
     "output_type": "execute_result"
    }
   ],
   "source": [
    "sess.run(detuut)"
   ]
  },
  {
   "cell_type": "code",
   "execution_count": 77,
   "metadata": {},
   "outputs": [],
   "source": [
    "invuut=tf.linalg.inv(uut)"
   ]
  },
  {
   "cell_type": "code",
   "execution_count": 78,
   "metadata": {},
   "outputs": [
    {
     "data": {
      "text/plain": [
       "array([[-1.42971417e+14,  2.85942833e+14, -1.42971417e+14],\n",
       "       [ 2.85942833e+14, -5.71885667e+14,  2.85942833e+14],\n",
       "       [-1.42971417e+14,  2.85942833e+14, -1.42971417e+14]])"
      ]
     },
     "execution_count": 78,
     "metadata": {},
     "output_type": "execute_result"
    }
   ],
   "source": [
    "sess.run(invuut)"
   ]
  },
  {
   "cell_type": "code",
   "execution_count": 79,
   "metadata": {},
   "outputs": [],
   "source": [
    "i=tf.eye(3,3)"
   ]
  },
  {
   "cell_type": "code",
   "execution_count": 80,
   "metadata": {},
   "outputs": [
    {
     "data": {
      "text/plain": [
       "array([[1., 0., 0.],\n",
       "       [0., 1., 0.],\n",
       "       [0., 0., 1.]], dtype=float32)"
      ]
     },
     "execution_count": 80,
     "metadata": {},
     "output_type": "execute_result"
    }
   ],
   "source": [
    "sess.run(i)"
   ]
  },
  {
   "cell_type": "code",
   "execution_count": null,
   "metadata": {},
   "outputs": [],
   "source": []
  },
  {
   "cell_type": "code",
   "execution_count": null,
   "metadata": {},
   "outputs": [],
   "source": []
  },
  {
   "cell_type": "code",
   "execution_count": 81,
   "metadata": {},
   "outputs": [],
   "source": [
    "w=tf.Variable(uut,name='weight')"
   ]
  },
  {
   "cell_type": "code",
   "execution_count": 82,
   "metadata": {},
   "outputs": [],
   "source": [
    "init=tf.initialize_all_variables()"
   ]
  },
  {
   "cell_type": "code",
   "execution_count": 83,
   "metadata": {},
   "outputs": [],
   "source": [
    "sess.run(init)"
   ]
  },
  {
   "cell_type": "code",
   "execution_count": 84,
   "metadata": {},
   "outputs": [
    {
     "data": {
      "text/plain": [
       "array([[29., 36., 43.],\n",
       "       [36., 45., 54.],\n",
       "       [43., 54., 65.]])"
      ]
     },
     "execution_count": 84,
     "metadata": {},
     "output_type": "execute_result"
    }
   ],
   "source": [
    "sess.run(w)"
   ]
  },
  {
   "cell_type": "code",
   "execution_count": null,
   "metadata": {},
   "outputs": [],
   "source": []
  },
  {
   "cell_type": "code",
   "execution_count": null,
   "metadata": {},
   "outputs": [],
   "source": []
  },
  {
   "cell_type": "code",
   "execution_count": 85,
   "metadata": {},
   "outputs": [],
   "source": [
    "p=tf.placeholder(tf.float32,name='first',shape=None)\n",
    "q=4*p\n"
   ]
  },
  {
   "cell_type": "code",
   "execution_count": 86,
   "metadata": {},
   "outputs": [
    {
     "data": {
      "text/plain": [
       "array([ 8., 12., 16., 20.], dtype=float32)"
      ]
     },
     "execution_count": 86,
     "metadata": {},
     "output_type": "execute_result"
    }
   ],
   "source": [
    "sess.run(q,feed_dict={p:[2,3,4,5]})"
   ]
  },
  {
   "cell_type": "code",
   "execution_count": 87,
   "metadata": {},
   "outputs": [],
   "source": [
    "p2=tf.placeholder(tf.float32,name='first',shape=None)\n",
    "q2=tf.placeholder(tf.float32,name='second',shape=None)\n",
    "r2=p2*q2\n"
   ]
  },
  {
   "cell_type": "code",
   "execution_count": 88,
   "metadata": {},
   "outputs": [
    {
     "data": {
      "text/plain": [
       "array([18., 28., 40.], dtype=float32)"
      ]
     },
     "execution_count": 88,
     "metadata": {},
     "output_type": "execute_result"
    }
   ],
   "source": [
    "sess.run(r2,feed_dict={p2:[3,4,5],q2:[6,7,8]})"
   ]
  },
  {
   "cell_type": "code",
   "execution_count": null,
   "metadata": {},
   "outputs": [],
   "source": []
  },
  {
   "cell_type": "code",
   "execution_count": 89,
   "metadata": {},
   "outputs": [
    {
     "data": {
      "text/plain": [
       "array([[-8.359296 , -4.070917 ],\n",
       "       [-4.3690777, -1.8759284],\n",
       "       [-1.9573102, -1.3991921],\n",
       "       [-3.4601634, -3.72084  ]], dtype=float32)"
      ]
     },
     "execution_count": 89,
     "metadata": {},
     "output_type": "execute_result"
    }
   ],
   "source": [
    "\n",
    "x=tf.placeholder(tf.float32,name='x',shape=[None,3])\n",
    "W=tf.Variable(tf.random_uniform([3,2],-1,1),name='W')\n",
    "b=tf.Variable(tf.zeros([2]),name='biases')\n",
    "output=tf.linalg.matmul(x,W)+b\n",
    "\n",
    "init_op=tf.initialize_all_variables()\n",
    "\n",
    "sess=tf.Session()\n",
    "sess.run(init_op)\n",
    "\n",
    "feed={x:np.array([[5,6,7],\n",
    "                  [2,3,4],\n",
    "                  [1,1,2],\n",
    "                  [2,1,4]])}\n",
    "\n",
    "sess.run(output,feed_dict=feed)"
   ]
  },
  {
   "cell_type": "code",
   "execution_count": null,
   "metadata": {},
   "outputs": [],
   "source": []
  },
  {
   "cell_type": "code",
   "execution_count": 90,
   "metadata": {},
   "outputs": [],
   "source": [
    "def my_network(input):\n",
    "    W_1=tf.Variable(tf.random_uniform([784,100],-1,1),name='W1')\n",
    "    b_1=tf.Variable(tf.zeros([100]),name='biases_1')\n",
    "    output_1=tf.linalg.matmul(input,W_1)+b_1\n",
    "    \n",
    "    W_2=tf.Variable(tf.random_uniform([100,50],-1,1),name='W2')\n",
    "    b_2=tf.Variable(tf.zeros([50]),name='biases_2')\n",
    "    output_2=tf.linalg.matmul(output_1,W_2)+b_2\n",
    "    \n",
    "    W_3=tf.Variable(tf.random_uniform([50,10],-1,1),name='W3')\n",
    "    b_3=tf.Variable(tf.zeros([10]),name='biases_3')\n",
    "    output_3=tf.linalg.matmul(output_2,W_3)+b_3\n",
    "    \n",
    "    print('Name of weights:',W_1.name,W_2.name,W_3.name)\n",
    "    print('Name of biases:',b_1.name,b_2.name,b_3.name)\n",
    "    \n",
    "    return output_3"
   ]
  },
  {
   "cell_type": "code",
   "execution_count": 91,
   "metadata": {},
   "outputs": [],
   "source": [
    "i_1=tf.placeholder(tf.float32,[1000,784],name='i_1')"
   ]
  },
  {
   "cell_type": "code",
   "execution_count": 92,
   "metadata": {},
   "outputs": [
    {
     "name": "stdout",
     "output_type": "stream",
     "text": [
      "Name of weights: W1_3:0 W2_3:0 W3_3:0\n",
      "Name of biases: biases_1_3:0 biases_2_3:0 biases_3_3:0\n"
     ]
    },
    {
     "data": {
      "text/plain": [
       "<tf.Tensor 'add_15:0' shape=(1000, 10) dtype=float32>"
      ]
     },
     "execution_count": 92,
     "metadata": {},
     "output_type": "execute_result"
    }
   ],
   "source": [
    "my_network(i_1)"
   ]
  },
  {
   "cell_type": "code",
   "execution_count": 93,
   "metadata": {},
   "outputs": [],
   "source": [
    "i_2=tf.placeholder(tf.float32,[1000,784],name='i_1')"
   ]
  },
  {
   "cell_type": "code",
   "execution_count": 94,
   "metadata": {},
   "outputs": [
    {
     "name": "stdout",
     "output_type": "stream",
     "text": [
      "Name of weights: W1_4:0 W2_4:0 W3_4:0\n",
      "Name of biases: biases_1_4:0 biases_2_4:0 biases_3_4:0\n"
     ]
    },
    {
     "data": {
      "text/plain": [
       "<tf.Tensor 'add_18:0' shape=(1000, 10) dtype=float32>"
      ]
     },
     "execution_count": 94,
     "metadata": {},
     "output_type": "execute_result"
    }
   ],
   "source": [
    "my_network(i_2)"
   ]
  },
  {
   "cell_type": "code",
   "execution_count": 95,
   "metadata": {},
   "outputs": [
    {
     "name": "stdout",
     "output_type": "stream",
     "text": [
      "Name of weights: W1_5:0 W2_5:0 W3_5:0\n",
      "Name of biases: biases_1_5:0 biases_2_5:0 biases_3_5:0\n"
     ]
    },
    {
     "data": {
      "text/plain": [
       "<tf.Tensor 'add_21:0' shape=(1000, 10) dtype=float32>"
      ]
     },
     "execution_count": 95,
     "metadata": {},
     "output_type": "execute_result"
    }
   ],
   "source": [
    "my_network(i_1)"
   ]
  },
  {
   "cell_type": "code",
   "execution_count": 96,
   "metadata": {},
   "outputs": [],
   "source": [
    "o=tf.placeholder(float,[1,2],name='o')\n"
   ]
  },
  {
   "cell_type": "code",
   "execution_count": 97,
   "metadata": {},
   "outputs": [],
   "source": [
    "t=tf.linalg.matmul(o,tf.transpose(o))"
   ]
  },
  {
   "cell_type": "code",
   "execution_count": 98,
   "metadata": {},
   "outputs": [],
   "source": [
    "init=tf.initialize_all_variables()"
   ]
  },
  {
   "cell_type": "code",
   "execution_count": 99,
   "metadata": {},
   "outputs": [],
   "source": [
    "sess.run(init)"
   ]
  },
  {
   "cell_type": "code",
   "execution_count": 100,
   "metadata": {},
   "outputs": [
    {
     "data": {
      "text/plain": [
       "array([[74.]], dtype=float32)"
      ]
     },
     "execution_count": 100,
     "metadata": {},
     "output_type": "execute_result"
    }
   ],
   "source": [
    "sess.run(t,feed_dict={o:np.array([[5,7]])})"
   ]
  },
  {
   "cell_type": "code",
   "execution_count": 101,
   "metadata": {},
   "outputs": [
    {
     "data": {
      "text/plain": [
       "74"
      ]
     },
     "execution_count": 101,
     "metadata": {},
     "output_type": "execute_result"
    }
   ],
   "source": [
    "25+49"
   ]
  },
  {
   "cell_type": "code",
   "execution_count": 102,
   "metadata": {},
   "outputs": [],
   "source": [
    "def layer(input,weight_shape,bias_shape):\n",
    "    weight_init=tf.random_normal_initializer(-1,1)\n",
    "    bias_init=tf.constant_initializer(value=0)\n",
    "    W=tf.get_variable('W',weight_shape,initializer=weight_init)\n",
    "    b=tf.get_variable('b',bias_shape,initializer=bias_init)\n",
    "    \n",
    "    return tf.matmul(input,W)+b"
   ]
  },
  {
   "cell_type": "code",
   "execution_count": 103,
   "metadata": {},
   "outputs": [],
   "source": [
    "def my_network2(input):\n",
    "    with tf.variable_scope('layer_1'):\n",
    "        output_1=layer(input,[784,100],[100])\n",
    "        \n",
    "    with tf.variable_scope('layer_2'):\n",
    "        output_2=layer(output_1,[100,50],[50])\n",
    "        \n",
    "    with tf.variable_scope('layer_3'):\n",
    "        output_3=layer(output_2,[50,10],[10])\n",
    "        \n",
    "    return output_3\n",
    "        "
   ]
  },
  {
   "cell_type": "code",
   "execution_count": 104,
   "metadata": {},
   "outputs": [],
   "source": [
    "#i2_1=tf.placeholder(tf.float32,[1000,784],name='i_1')"
   ]
  },
  {
   "cell_type": "code",
   "execution_count": 105,
   "metadata": {},
   "outputs": [],
   "source": [
    "#my_network2(i2_1)"
   ]
  },
  {
   "cell_type": "markdown",
   "metadata": {},
   "source": [
    "# Logistic regression"
   ]
  },
  {
   "cell_type": "code",
   "execution_count": 106,
   "metadata": {},
   "outputs": [],
   "source": [
    "learning_rate=0.01\n",
    "training_epochs=1000\n",
    "batch_size=100\n",
    "display_step=1"
   ]
  },
  {
   "cell_type": "code",
   "execution_count": 107,
   "metadata": {},
   "outputs": [],
   "source": [
    "def inference(x):\n",
    "    init=tf.constant_initializer(value=0)\n",
    "    W=tf.get_variable('W',[784,10],initializer=init)\n",
    "    b=tf.get_variable('b',[10],initializer=init)\n",
    "    output=tf.nn.softmax(tf.matmul(x,W)+b)\n",
    "    \n",
    "    return output"
   ]
  },
  {
   "cell_type": "code",
   "execution_count": 108,
   "metadata": {},
   "outputs": [],
   "source": [
    "def loss(output,y):\n",
    "    dot_product=y*tf.log(output)\n",
    "    xentropy=-tf.reduce_sum(dot_product,reduction_indices=1)\n",
    "    loss=tf.reduce_mean(xentropy)\n",
    "    \n",
    "    return loss"
   ]
  },
  {
   "cell_type": "code",
   "execution_count": 109,
   "metadata": {},
   "outputs": [],
   "source": [
    "def training(cost,global_step):\n",
    " #   tf.summary.scalar('cost',cost)\n",
    "    optimizer=tf.train.GradientDescentOptimizer(learning_rate=learning_rate)\n",
    "    train_op=optimizer.compute_gradients(cost,global_step)\n",
    "    return train_op"
   ]
  },
  {
   "cell_type": "code",
   "execution_count": 110,
   "metadata": {},
   "outputs": [],
   "source": [
    "def evaluate(output,y):\n",
    "    correct_prediction=tf.equal(tf.argmax(output,1),tf.argmax(y,1))\n",
    "    accuracy=tf.reduce_mean(tf.cast(correct_prediction,tf.float32))\n",
    "    return accuracy"
   ]
  },
  {
   "cell_type": "code",
   "execution_count": 111,
   "metadata": {},
   "outputs": [
    {
     "name": "stdout",
     "output_type": "stream",
     "text": [
      "WARNING:tensorflow:Passing a `GraphDef` to the SummaryWriter is deprecated. Pass a `Graph` object instead, such as `sess.graph`.\n"
     ]
    },
    {
     "ename": "NameError",
     "evalue": "name 'mnist' is not defined",
     "output_type": "error",
     "traceback": [
      "\u001b[0;31m---------------------------------------------------------------------------\u001b[0m",
      "\u001b[0;31mNameError\u001b[0m                                 Traceback (most recent call last)",
      "\u001b[0;32m<ipython-input-111-ba4040747fe6>\u001b[0m in \u001b[0;36m<module>\u001b[0;34m()\u001b[0m\n\u001b[1;32m     17\u001b[0m     \u001b[0;32mfor\u001b[0m \u001b[0mepoch\u001b[0m \u001b[0;32min\u001b[0m \u001b[0mrange\u001b[0m\u001b[0;34m(\u001b[0m\u001b[0mtraining_epochs\u001b[0m\u001b[0;34m)\u001b[0m\u001b[0;34m:\u001b[0m\u001b[0;34m\u001b[0m\u001b[0;34m\u001b[0m\u001b[0m\n\u001b[1;32m     18\u001b[0m         \u001b[0mavg_cost\u001b[0m\u001b[0;34m=\u001b[0m\u001b[0;36m0.\u001b[0m\u001b[0;34m\u001b[0m\u001b[0;34m\u001b[0m\u001b[0m\n\u001b[0;32m---> 19\u001b[0;31m         \u001b[0mtotal_batch\u001b[0m\u001b[0;34m=\u001b[0m\u001b[0mint\u001b[0m\u001b[0;34m(\u001b[0m\u001b[0mmnist\u001b[0m\u001b[0;34m.\u001b[0m\u001b[0mtrain\u001b[0m\u001b[0;34m.\u001b[0m\u001b[0mnum_examples\u001b[0m\u001b[0;34m/\u001b[0m\u001b[0mbatch_size\u001b[0m\u001b[0;34m)\u001b[0m\u001b[0;34m\u001b[0m\u001b[0;34m\u001b[0m\u001b[0m\n\u001b[0m\u001b[1;32m     20\u001b[0m         \u001b[0;32mfor\u001b[0m \u001b[0mi\u001b[0m \u001b[0;32min\u001b[0m \u001b[0mrange\u001b[0m\u001b[0;34m(\u001b[0m\u001b[0mtotal_batch\u001b[0m\u001b[0;34m)\u001b[0m\u001b[0;34m:\u001b[0m\u001b[0;34m\u001b[0m\u001b[0;34m\u001b[0m\u001b[0m\n\u001b[1;32m     21\u001b[0m             \u001b[0mmbatchx\u001b[0m\u001b[0;34m,\u001b[0m \u001b[0mmbatchy\u001b[0m\u001b[0;34m=\u001b[0m\u001b[0mmnist\u001b[0m\u001b[0;34m.\u001b[0m\u001b[0mtrain\u001b[0m\u001b[0;34m.\u001b[0m\u001b[0mnext_batch\u001b[0m\u001b[0;34m(\u001b[0m\u001b[0mbatch_size\u001b[0m\u001b[0;34m)\u001b[0m\u001b[0;34m\u001b[0m\u001b[0;34m\u001b[0m\u001b[0m\n",
      "\u001b[0;31mNameError\u001b[0m: name 'mnist' is not defined"
     ]
    }
   ],
   "source": [
    "with tf.Graph().as_default():\n",
    "    x=tf.placeholder('float',[None,784])\n",
    "    y=tf.placeholder('float',[None,10])\n",
    "    \n",
    "    output=inference(x)\n",
    "    cost=loss(output,y)\n",
    "    global_step=tf.Variable(0,name='global_step',trainable=False)\n",
    "    train_op=training(cost,global_step)\n",
    "    eval_op=evaluate(output,y)\n",
    "    summary_op=tf.summary.merge_all()\n",
    "    saver=tf.train.Saver()\n",
    "    sess=tf.Session()\n",
    "    summary_writer=tf.summary.FileWriter('logistic_logs/',graph_def=sess.graph_def)\n",
    "    init_op=tf.initialize_all_variables()\n",
    "    sess.run(init_op)\n",
    "    \n",
    "    for epoch in range(training_epochs):\n",
    "        avg_cost=0.\n",
    "        total_batch=int(mnist.train.num_examples/batch_size)\n",
    "        for i in range(total_batch):\n",
    "            mbatchx, mbatchy=mnist.train.next_batch(batch_size)\n",
    "            feed_dict={x:mbatchx,y:mbatchy}\n",
    "            sess.run(train_op,feed_dict=feed_dict)\n",
    "            minibatch_cost=sess.run(cost,feed_dict=feed_dict)\n",
    "            avg_cost+=minibatch_cost/total_batch\n",
    "        if epoch % display_step == 0:\n",
    "            val_feed_dict={x:mnist.validation.images,\n",
    "                           y:mnist.validation.labels}\n",
    "            accuracy=sess.run(eval_op,feed_dict=val_feed_dict)\n",
    "            print('validation error:',1-accurary)\n",
    "            summary_str=sess.run(summary_op,feed_dict=feed_dict)\n",
    "            summary_writer.add_summary(summary_str,sess.run(global_step))\n",
    "            saver.save(sess,'logistic_logs/model-checkpoint',global_step=global_step)\n",
    "            \n",
    "    print('optimization finished')\n",
    "    \n",
    "    test_feed_dict={x:mnist.test.images,y:mnist.test.labels}\n",
    "    \n",
    "    accuracy=sess.run(eval_op,feed_dict=test_feed_dict)\n",
    "    \n",
    "    print('test accuracy',accurary)"
   ]
  },
  {
   "cell_type": "code",
   "execution_count": null,
   "metadata": {},
   "outputs": [],
   "source": []
  },
  {
   "cell_type": "code",
   "execution_count": null,
   "metadata": {},
   "outputs": [],
   "source": []
  }
 ],
 "metadata": {
  "kernelspec": {
   "display_name": "Python 3",
   "language": "python",
   "name": "python3"
  },
  "language_info": {
   "codemirror_mode": {
    "name": "ipython",
    "version": 3
   },
   "file_extension": ".py",
   "mimetype": "text/x-python",
   "name": "python",
   "nbconvert_exporter": "python",
   "pygments_lexer": "ipython3",
   "version": "3.7.3"
  }
 },
 "nbformat": 4,
 "nbformat_minor": 2
}
