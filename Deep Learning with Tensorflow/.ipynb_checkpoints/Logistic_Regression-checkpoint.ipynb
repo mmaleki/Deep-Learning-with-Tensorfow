{
 "cells": [
  {
   "cell_type": "code",
   "execution_count": 1,
   "metadata": {},
   "outputs": [],
   "source": [
    "import numpy as np\n",
    "import pandas as pd\n",
    "import matplotlib.pyplot as plt\n",
    "import random\n"
   ]
  },
  {
   "cell_type": "code",
   "execution_count": 19,
   "metadata": {},
   "outputs": [],
   "source": [
    "def sigmoid(z):\n",
    "    return (1/(1+np.exp(-z)))\n",
    "       "
   ]
  },
  {
   "cell_type": "code",
   "execution_count": 23,
   "metadata": {},
   "outputs": [],
   "source": [
    "def propagation(b,X_hat,y_hat):\n",
    "    N=X_hat.shape[0]\n",
    "    z=np.dot(X_hat,b)\n",
    "    s=sigmoid(z)\n",
    "    temp=-(y_hat*np.log(s+0.001)+(1-y_hat)*np.log(1-s+0.001))\n",
    "    L= np.mean(temp,axis=0,keepdims=True)\n",
    "    x1=sigmoid(z)-y_hat\n",
    "    dL= 1/N*np.dot(x1.T,X_hat)\n",
    "    propagate={\"L\":L,\"dL\":dL}\n",
    "    return propagate"
   ]
  },
  {
   "cell_type": "code",
   "execution_count": 27,
   "metadata": {},
   "outputs": [],
   "source": [
    "def update(b,X_hat,y_hat,eta):\n",
    "    dl=propagation(b,X_hat,y_hat)[\"dL\"].T\n",
    "    return (b-eta*dl)"
   ]
  },
  {
   "cell_type": "code",
   "execution_count": 32,
   "metadata": {},
   "outputs": [],
   "source": [
    "def init(m,n,method):\n",
    "    if method=='zero':\n",
    "        b=np.zeros((m,n))\n",
    "    elif method=='random':\n",
    "        b=np.random.randn(m,n)\n",
    "    else:\n",
    "        raise Exception('Choose correct method: zero or random')\n",
    "    return b"
   ]
  },
  {
   "cell_type": "code",
   "execution_count": 33,
   "metadata": {},
   "outputs": [],
   "source": [
    "def b_opt(X_hat,y_hat,eta,steps,initialization):\n",
    "    N=X_hat.shape[0]\n",
    "    p=X_hat.shape[1]\n",
    "    b=init(p,1,initialization)\n",
    "    for i in range(steps):       \n",
    "        b1=update(b,X_hat,y_hat,eta)\n",
    "        b=update(b1,X_hat,y_hat,eta)\n",
    "        loss=propagation(b,X_hat,y_hat)[\"L\"]\n",
    "        if i%10 == 0:\n",
    "            print (\"Loss after iteration %i= %f\" %(i, loss))\n",
    "            \n",
    "    return b\n"
   ]
  },
  {
   "cell_type": "code",
   "execution_count": 35,
   "metadata": {},
   "outputs": [],
   "source": [
    "def predict(x,X_hat,y_hat,eta,steps=20):\n",
    "    b_optimal=b_opt(X_hat,y_hat,eta,steps,'random')\n",
    "    z=np.dot(x.T,b_optimal)\n",
    "    prob=sigmoid(z)\n",
    "    if prob>0.5:\n",
    "        return 1\n",
    "    else:\n",
    "        return 0"
   ]
  },
  {
   "cell_type": "code",
   "execution_count": 39,
   "metadata": {},
   "outputs": [],
   "source": [
    "def predict2(x,X_train,y_train,eta,steps,initialization):\n",
    "    N=X_train.shape[0]\n",
    "    one=np.ones((N,1))\n",
    "    X_hat=np.concatenate((one,X_train),axis=1)\n",
    "    b_optimal=b_opt(X_hat,y_train,eta,steps,initialization)\n",
    "    xnew=np.append(1,x).reshape(-1,1)\n",
    "    z=np.dot(xnew.T,b_optimal)\n",
    "    prob=sigmoid(z)\n",
    "    if prob>0.5:\n",
    "        return 1\n",
    "    else:\n",
    "        return 0"
   ]
  }
 ],
 "metadata": {
  "kernelspec": {
   "display_name": "Python 3",
   "language": "python",
   "name": "python3"
  },
  "language_info": {
   "codemirror_mode": {
    "name": "ipython",
    "version": 3
   },
   "file_extension": ".py",
   "mimetype": "text/x-python",
   "name": "python",
   "nbconvert_exporter": "python",
   "pygments_lexer": "ipython3",
   "version": "3.7.3"
  }
 },
 "nbformat": 4,
 "nbformat_minor": 2
}
