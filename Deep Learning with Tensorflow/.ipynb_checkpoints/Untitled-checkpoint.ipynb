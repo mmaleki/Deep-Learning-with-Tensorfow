{
 "cells": [
  {
   "cell_type": "markdown",
   "metadata": {},
   "source": [
    "# Deep Learning with TensorFlow"
   ]
  },
  {
   "cell_type": "markdown",
   "metadata": {},
   "source": [
    "### 1. Linear Algebra\n",
    "+ Vectors, Matrices and Tensors\n",
    "+ Matrix operations\n",
    "+ Inverse of a matrix\n",
    "+ Eigenvalue and eigenvector\n",
    "\n",
    "### 2. Probability Theory \n",
    "+ Random variable\n",
    "+ Probability distribution\n",
    "+ Conditional Probability and Chain rule for conditional probability\n",
    "+ Expectation and Variance\n",
    "+ Bayes rule\n",
    "+ Continuous variables, e.g., Gaussian.\n",
    "\n",
    "### 3. Calculus\n",
    "+ Limit and derivative\n",
    "+ Chain rule\n",
    "+ Jacobian\n",
    "+ Matrix derivatives\n",
    "\n",
    "### 4. Perceptron\n",
    "+ Logistic regression\n",
    "+ Comparison with Bayes Classifier\n",
    "\n",
    "### 5. Multi Layer Perceptron\n",
    "+ Definition of Deep Network\n",
    "+ Architecture\n",
    "+ UAT\n",
    "\n",
    "### 6. Gradient Descent\n",
    "\n",
    "### 7. Backpropagation\n",
    "+ Backpropagation\n",
    "+ Stochastic and Minibatch Gradient Descent\n",
    "\n",
    "### 8. Test Sets, Validation Sets, and Overfitting\n",
    "\n",
    "### 9. Convolutional Neural Networks \n",
    "+ Convolution\n",
    "+ Pooling\n",
    "+ Max pooling\n",
    "+ Full Architecture\n",
    "\n",
    "### 10. TensorFlow I\n",
    "+ Comparison with other libraries\n",
    "+ Installing\n",
    "+ Variables in TensorFlow\n",
    "+ Tensorflow operations\n",
    "+ Placeholder tensors\n",
    "\n",
    "### 11. TensorFlow II\n",
    "+ Sessions in TensorFlow\n",
    "+ Navigating Variable Scopes and Sharing Variables.\n",
    "+ Specifying the Logistic Regression Model in TensorFlow\n",
    "+ Logging and Training the Logistic Regression Model in TensorFlow.\n",
    "\n",
    "### 12. Project: Building Multilayer Neural Networks with TensorFlow\n",
    "\n",
    "### 13. Project: Building a Convolutional Neural Network with TensorFlow\n",
    "\n",
    "### 14. Lab for the Final Project."
   ]
  },
  {
   "cell_type": "code",
   "execution_count": null,
   "metadata": {},
   "outputs": [],
   "source": []
  }
 ],
 "metadata": {
  "kernelspec": {
   "display_name": "Python 3",
   "language": "python",
   "name": "python3"
  },
  "language_info": {
   "codemirror_mode": {
    "name": "ipython",
    "version": 3
   },
   "file_extension": ".py",
   "mimetype": "text/x-python",
   "name": "python",
   "nbconvert_exporter": "python",
   "pygments_lexer": "ipython3",
   "version": "3.7.3"
  }
 },
 "nbformat": 4,
 "nbformat_minor": 2
}
