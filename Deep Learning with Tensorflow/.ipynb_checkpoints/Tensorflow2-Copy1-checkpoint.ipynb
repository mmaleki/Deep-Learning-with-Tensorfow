{
 "cells": [
  {
   "cell_type": "code",
   "execution_count": null,
   "metadata": {},
   "outputs": [],
   "source": [
    "from __future__ import absolute_import, division, print_function"
   ]
  },
  {
   "cell_type": "code",
   "execution_count": null,
   "metadata": {},
   "outputs": [],
   "source": [
    "import tensorflow.compat.v2 as tf"
   ]
  },
  {
   "cell_type": "code",
   "execution_count": null,
   "metadata": {},
   "outputs": [],
   "source": [
    "import numpy as np"
   ]
  },
  {
   "cell_type": "code",
   "execution_count": null,
   "metadata": {},
   "outputs": [],
   "source": [
    "#tf.disable_v2_behavior()"
   ]
  },
  {
   "cell_type": "code",
   "execution_count": null,
   "metadata": {},
   "outputs": [],
   "source": [
    "from tensorflow.keras.datasets import mnist"
   ]
  },
  {
   "cell_type": "code",
   "execution_count": null,
   "metadata": {},
   "outputs": [],
   "source": [
    "(x_train, y_train), (x_test, y_test) = mnist.load_data()\n"
   ]
  },
  {
   "cell_type": "code",
   "execution_count": null,
   "metadata": {},
   "outputs": [],
   "source": [
    "import matplotlib.pyplot as plt\n",
    "import matplotlib.image as img"
   ]
  },
  {
   "cell_type": "code",
   "execution_count": null,
   "metadata": {},
   "outputs": [],
   "source": [
    "plt.imshow(x_train[2])"
   ]
  },
  {
   "cell_type": "code",
   "execution_count": null,
   "metadata": {},
   "outputs": [],
   "source": [
    "# Convert to float32.\n",
    "\n",
    "x_train, x_test = np.array(x_train, np.float32), np.array(x_test, np.float32)\n",
    "\n",
    "# Flatten images to 1-D vector of 784 features (28*28).\n",
    "\n",
    "x_train, x_test = x_train.reshape([-1, 784]), x_test.reshape([-1, 784])\n",
    "\n",
    "# Normalize images value from [0, 255] to [0, 1].\n",
    "\n",
    "x_train, x_test = x_train / 255., x_test / 255."
   ]
  },
  {
   "cell_type": "code",
   "execution_count": null,
   "metadata": {},
   "outputs": [],
   "source": [
    "# MNIST dataset parameters.\n",
    "\n",
    "num_classes = 10 # 0 to 9 digits\n",
    "\n",
    "num_features = 784 # 28*28\n",
    "\n",
    "# Training parameters.\n",
    "\n",
    "learning_rate = 0.01\n",
    "\n",
    "training_steps = 1000\n",
    "\n",
    "batch_size = 256\n",
    "\n",
    "display_step = 50"
   ]
  },
  {
   "cell_type": "code",
   "execution_count": null,
   "metadata": {},
   "outputs": [],
   "source": [
    "# Use tf.data API to shuffle and batch data.\n",
    "\n",
    "train_data=tf.data.Dataset.from_tensor_slices((x_train,y_train))\n",
    "\n",
    "train_data=train_data.repeat().shuffle(5000).batch(batch_size).prefetch(1)"
   ]
  },
  {
   "cell_type": "code",
   "execution_count": null,
   "metadata": {},
   "outputs": [],
   "source": [
    "# Weight of shape [784, 10], the 28*28 image features, and a total number of classes.\n",
    "\n",
    "W = tf.Variable(tf.ones([num_features, num_classes]), name=\"weight\")\n",
    "\n",
    "# Bias of shape [10], the total number of classes.\n",
    "\n",
    "b = tf.Variable(tf.zeros([num_classes]), name=\"bias\")\n",
    "\n",
    "W1 = tf.Variable(tf.ones([784, 256]), name=\"weight1\")\n",
    "b1 = tf.Variable(tf.zeros([256]), name=\"bias1\")\n",
    "\n",
    "\n",
    "W2 = tf.Variable(tf.ones([256, 10]), name=\"weight2\")\n",
    "b2 = tf.Variable(tf.zeros([10]), name=\"bias2\")\n"
   ]
  },
  {
   "cell_type": "code",
   "execution_count": null,
   "metadata": {},
   "outputs": [],
   "source": [
    "# Logistic regression (Wx + b).\n",
    "\n",
    "def logistic_regression(x):\n",
    "    out1=tf.nn.relu(tf.matmul(x, W1) + b1)\n",
    "    out2=tf.nn.softmax(tf.matmul(out1, W2) + b2)\n",
    "    \n",
    "    return out2\n",
    "    \n",
    "            \n",
    "\n",
    "    return out2\n",
    "\n",
    "# Cross-Entropy loss function.\n",
    "#def layer(input,weight_shape,bias_shape):\n",
    "#    weight_stdv=(2.0/weight_shape[0])**0.5\n",
    "#    w_init=tf.random_normal_initializer(stddev=weight_stdv)\n",
    "#    bias_init=tf.constant_initializer(value=0)\n",
    "#    W=tf.compat.v1.get_variable('W',weight_shape,initializer=w_init)\n",
    "#    b=tf.compat.v1.get_variable('b',bias_shape,initializer=bias_init)\n",
    "    \n",
    "#    return tf.nn.relu(tf.matmul(input,W)+b)\n",
    "\n",
    "#def logistic_regression(x):\n",
    "#    with tf.compat.v1.variable_scope('hidden_1'):\n",
    "#        hidden_1=layer(x,[784,256],[256])\n",
    "#    with tf.compat.v1.variable_scope('hidden_2'):\n",
    "#        hidden_2=layer(hidden_1,[256,256],[256])\n",
    "#        \n",
    "#    with tf.compat.v1.variable_scope('hidden_3'):\n",
    "#        output=layer(hidden_2,[256,10],[10])\n",
    "        \n",
    "#    return output\n",
    "        \n",
    "    \n",
    "    \n",
    "def cross_entropy(y_pred, y_true):\n",
    "\n",
    "    # Encode label to a one hot vector.\n",
    "\n",
    "    y_true = tf.one_hot(y_true, depth=num_classes)\n",
    "\n",
    "    # Clip prediction values to avoid log(0) error.\n",
    "\n",
    "    y_pred = tf.clip_by_value(y_pred, 1e-9, 1.)\n",
    "\n",
    "    # Compute cross-entropy.\n",
    "\n",
    "    return tf.reduce_mean(-tf.reduce_sum(y_true * tf.math.log(y_pred)))"
   ]
  },
  {
   "cell_type": "code",
   "execution_count": null,
   "metadata": {},
   "outputs": [],
   "source": [
    "# Accuracy metric.\n",
    "\n",
    "def accuracy(y_pred, y_true):\n",
    "    \n",
    "\n",
    "    # Predicted class is the index of the highest score in prediction vector (i.e. argmax).\n",
    "\n",
    "    correct_prediction = tf.equal(tf.argmax(y_pred, 1), tf.cast(y_true, tf.int64))\n",
    "\n",
    "    return tf.reduce_mean(tf.cast(correct_prediction, tf.float32))\n",
    "\n",
    "    # Stochastic gradient descent optimizer.\n",
    "\n",
    "optimizer = tf.optimizers.SGD(learning_rate)"
   ]
  },
  {
   "cell_type": "code",
   "execution_count": null,
   "metadata": {},
   "outputs": [],
   "source": [
    "# Optimization process. \n",
    "\n",
    "def run_optimization(x, y):\n",
    "\n",
    "# Wrap computation inside a GradientTape for automatic differentiation.\n",
    "\n",
    "    with tf.GradientTape() as g:\n",
    "\n",
    "        pred = logistic_regression(x)\n",
    "\n",
    "        loss = cross_entropy(pred, y)\n",
    "\n",
    "    # Compute gradients.\n",
    "\n",
    "    gradients = g.gradient(loss, [W, b])\n",
    "\n",
    "  \n",
    "\n",
    "    # Update W and b following gradients.\n",
    "\n",
    "    optimizer.apply_gradients(zip(gradients, [W, b]))"
   ]
  },
  {
   "cell_type": "code",
   "execution_count": null,
   "metadata": {},
   "outputs": [],
   "source": [
    "# Run training for the given number of steps.\n",
    "\n",
    "for step, (batch_x, batch_y) in enumerate(train_data.take(training_steps), 1):\n",
    "\n",
    "    # Run the optimization to update W and b values.\n",
    "\n",
    "    run_optimization(batch_x, batch_y)\n",
    "\n",
    "    \n",
    "\n",
    "    if step % display_step == 0:\n",
    "\n",
    "        pred = logistic_regression(batch_x)\n",
    "\n",
    "        loss = cross_entropy(pred, batch_y)\n",
    "\n",
    "        acc = accuracy(pred, batch_y)\n",
    "\n",
    "        print(\"step: %i, loss: %f, accuracy: %f\" % (step, loss, acc))"
   ]
  },
  {
   "cell_type": "code",
   "execution_count": null,
   "metadata": {},
   "outputs": [],
   "source": [
    "# Test model on validation set.\n",
    "\n",
    "pred = logistic_regression(x_test)\n",
    "\n",
    "print(\"Test Accuracy: %f\" % accuracy(pred, y_test))"
   ]
  },
  {
   "cell_type": "code",
   "execution_count": null,
   "metadata": {},
   "outputs": [],
   "source": []
  }
 ],
 "metadata": {
  "kernelspec": {
   "display_name": "Python 3",
   "language": "python",
   "name": "python3"
  },
  "language_info": {
   "codemirror_mode": {
    "name": "ipython",
    "version": 3
   },
   "file_extension": ".py",
   "mimetype": "text/x-python",
   "name": "python",
   "nbconvert_exporter": "python",
   "pygments_lexer": "ipython3",
   "version": "3.7.3"
  }
 },
 "nbformat": 4,
 "nbformat_minor": 2
}
