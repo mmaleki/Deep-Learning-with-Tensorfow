{
 "cells": [
  {
   "cell_type": "code",
   "execution_count": 21,
   "metadata": {},
   "outputs": [],
   "source": [
    "import numpy as np\n",
    "import matplotlib.pyplot as plt"
   ]
  },
  {
   "cell_type": "code",
   "execution_count": 22,
   "metadata": {},
   "outputs": [],
   "source": [
    "red=np.array([[2,3],\n",
    "              [2,4],\n",
    "              [0,1],\n",
    "              [3.5,4],\n",
    "              [-1,3],\n",
    "              [-3,3]])"
   ]
  },
  {
   "cell_type": "code",
   "execution_count": 23,
   "metadata": {},
   "outputs": [],
   "source": [
    "blue=np.array([[1,-1],\n",
    "               [3,0],\n",
    "               [4,3],\n",
    "               [1,0.7]])"
   ]
  },
  {
   "cell_type": "code",
   "execution_count": 24,
   "metadata": {},
   "outputs": [],
   "source": [
    "x1,y1=red.T\n",
    "z1,w1=blue.T"
   ]
  },
  {
   "cell_type": "code",
   "execution_count": 25,
   "metadata": {
    "scrolled": true
   },
   "outputs": [
    {
     "data": {
      "text/plain": [
       "<matplotlib.collections.PathCollection at 0x7fc7fec710f0>"
      ]
     },
     "execution_count": 25,
     "metadata": {},
     "output_type": "execute_result"
    },
    {
     "data": {
      "image/png": "[encoded data removed]",
      "text/plain": [
       "<Figure size 432x288 with 1 Axes>"
      ]
     },
     "metadata": {
      "needs_background": "light"
     },
     "output_type": "display_data"
    }
   ],
   "source": [
    "plt.scatter(x1,y1,color='red')\n",
    "plt.scatter(z1,w1,color='blue')"
   ]
  },
  {
   "cell_type": "code",
   "execution_count": 26,
   "metadata": {},
   "outputs": [],
   "source": [
    "def sigmoid(z):\n",
    "    return 1/(1+np.exp(-z))"
   ]
  },
  {
   "cell_type": "code",
   "execution_count": 27,
   "metadata": {},
   "outputs": [],
   "source": [
    "def propagation(w,X_hat,y_hat):\n",
    "    N=X_hat.shape[0]\n",
    "    z=np.dot(X_hat,w)\n",
    "    s=sigmoid(z)\n",
    "    temp=-(y_hat*np.log(s+0.001)+(1-y_hat)*np.log(1-s+0.001))\n",
    "    L= np.mean(temp,axis=0,keepdims=True)\n",
    "    x1=sigmoid(z)-y_hat\n",
    "    dL= 1/N*np.dot(x1.T,X_hat)\n",
    "    propagate={\"L\":L,\"dL\":dL}\n",
    "    return propagate"
   ]
  },
  {
   "cell_type": "code",
   "execution_count": 28,
   "metadata": {},
   "outputs": [],
   "source": [
    "X=np.array([[1,2,3],\n",
    "            [1,2,4],\n",
    "            [1,0,1],\n",
    "            [1,3.5,4],\n",
    "            [1,-1,3],\n",
    "            [1,-3,3],\n",
    "            [1,1,-1],\n",
    "            [1,3,0],\n",
    "            [1,4,3],\n",
    "            [1,1,0.7]])"
   ]
  },
  {
   "cell_type": "code",
   "execution_count": 29,
   "metadata": {},
   "outputs": [],
   "source": [
    "y=np.array([[1],\n",
    "            [1],\n",
    "            [1],\n",
    "            [1],\n",
    "            [1],\n",
    "            [1],\n",
    "            [0],\n",
    "            [0],\n",
    "            [0],\n",
    "            [0]])"
   ]
  },
  {
   "cell_type": "code",
   "execution_count": 30,
   "metadata": {},
   "outputs": [],
   "source": [
    "w=np.array([[1,0.5,0.5]]).T"
   ]
  },
  {
   "cell_type": "code",
   "execution_count": 31,
   "metadata": {},
   "outputs": [
    {
     "data": {
      "text/plain": [
       "{'L': array([[1.09793217]]),\n",
       " 'dL': array([[0.28818948, 0.91250725, 0.12998195]])}"
      ]
     },
     "execution_count": 31,
     "metadata": {},
     "output_type": "execute_result"
    }
   ],
   "source": [
    "propagation(w,X,y)"
   ]
  },
  {
   "cell_type": "code",
   "execution_count": 32,
   "metadata": {},
   "outputs": [],
   "source": [
    "def update(b,X_hat,y_hat,eta):\n",
    "    dl=propagation(b,X_hat,y_hat)[\"dL\"].T\n",
    "    return (b-eta*dl)"
   ]
  },
  {
   "cell_type": "code",
   "execution_count": 33,
   "metadata": {},
   "outputs": [],
   "source": [
    "def init(m,n,method):\n",
    "    if method=='zero':\n",
    "        b=np.zeros((m,n))\n",
    "    elif method=='random':\n",
    "        b=np.random.randn(m,n)\n",
    "    else:\n",
    "        raise Exception('Choose correct method: zero or random')\n",
    "    return b"
   ]
  },
  {
   "cell_type": "code",
   "execution_count": 34,
   "metadata": {},
   "outputs": [],
   "source": [
    "def b_opt(X_hat,y_hat,eta,steps,initialization):\n",
    "    N=X_hat.shape[0]\n",
    "    p=X_hat.shape[1]\n",
    "    b=init(p,1,initialization)\n",
    "    for i in range(steps):       \n",
    "        b1=update(b,X_hat,y_hat,eta)\n",
    "        b=update(b1,X_hat,y_hat,eta)\n",
    "        loss=propagation(b,X_hat,y_hat)[\"L\"]\n",
    "#        if i%10 == 0:\n",
    "#            print (\"Loss after iteration %i= %f\" %(i, loss))\n",
    "            \n",
    "    return b\n"
   ]
  },
  {
   "cell_type": "code",
   "execution_count": 49,
   "metadata": {},
   "outputs": [],
   "source": [
    "w=b_opt(X,y,0.001,50,'random')"
   ]
  },
  {
   "cell_type": "code",
   "execution_count": 50,
   "metadata": {},
   "outputs": [
    {
     "data": {
      "text/plain": [
       "1.7398292558687563"
      ]
     },
     "execution_count": 50,
     "metadata": {},
     "output_type": "execute_result"
    }
   ],
   "source": [
    "w[1][0]"
   ]
  },
  {
   "cell_type": "code",
   "execution_count": 51,
   "metadata": {},
   "outputs": [],
   "source": [
    "def plot(w):\n",
    "    x=np.arange(-3,6,0.1)\n",
    "    plt.plot(x,-w[1][0]/w[2][0]*x-w[0][0]/w[2][0])\n",
    "    "
   ]
  },
  {
   "cell_type": "code",
   "execution_count": 52,
   "metadata": {},
   "outputs": [
    {
     "data": {
      "image/png": "[encoded data removed]",
      "text/plain": [
       "<Figure size 432x288 with 1 Axes>"
      ]
     },
     "metadata": {
      "needs_background": "light"
     },
     "output_type": "display_data"
    }
   ],
   "source": [
    "plt.scatter(x1,y1,color='red')\n",
    "plt.scatter(z1,w1,color='blue')\n",
    "plot(w)\n",
    "plt.savefig(\"GradDesc.jpg\",dpi=300)"
   ]
  },
  {
   "cell_type": "code",
   "execution_count": 43,
   "metadata": {},
   "outputs": [
    {
     "data": {
      "text/plain": [
       "<Figure size 432x288 with 0 Axes>"
      ]
     },
     "metadata": {},
     "output_type": "display_data"
    }
   ],
   "source": []
  },
  {
   "cell_type": "code",
   "execution_count": null,
   "metadata": {},
   "outputs": [],
   "source": []
  }
 ],
 "metadata": {
  "kernelspec": {
   "display_name": "Python 3",
   "language": "python",
   "name": "python3"
  },
  "language_info": {
   "codemirror_mode": {
    "name": "ipython",
    "version": 3
   },
   "file_extension": ".py",
   "mimetype": "text/x-python",
   "name": "python",
   "nbconvert_exporter": "python",
   "pygments_lexer": "ipython3",
   "version": "3.7.3"
  }
 },
 "nbformat": 4,
 "nbformat_minor": 2
}
