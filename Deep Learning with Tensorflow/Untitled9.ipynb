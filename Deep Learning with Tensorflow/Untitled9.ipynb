{
 "cells": [
  {
   "cell_type": "code",
   "execution_count": 1,
   "metadata": {},
   "outputs": [],
   "source": [
    "import numpy as np\n",
    "import pandas as pd\n",
    "import matplotlib.pyplot as plt\n",
    "import random"
   ]
  },
  {
   "cell_type": "code",
   "execution_count": 2,
   "metadata": {},
   "outputs": [],
   "source": [
    "xs=[1,2,3,4]\n",
    "ys=[2,1,4,5]\n",
    "\n",
    "xv=[2,4]\n",
    "yv=[2,3.5]\n",
    "\n",
    "xt=[6,7]\n",
    "yt=[8,9]"
   ]
  },
  {
   "cell_type": "code",
   "execution_count": 3,
   "metadata": {},
   "outputs": [
    {
     "data": {
      "text/plain": [
       "<matplotlib.legend.Legend at 0x7f2df4161940>"
      ]
     },
     "execution_count": 3,
     "metadata": {},
     "output_type": "execute_result"
    },
    {
     "data": {
      "image/png": "[encoded data removed]",
      "text/plain": [
       "<Figure size 432x288 with 1 Axes>"
      ]
     },
     "metadata": {
      "needs_background": "light"
     },
     "output_type": "display_data"
    }
   ],
   "source": [
    "plt.xlabel('x')\n",
    "plt.ylabel('y')\n",
    "plt.plot(xs,ys,'r*',label='Train')\n",
    "#plt.plot(xv,yv,'g^',label='Validation')\n",
    "plt.plot(xt,yt,'bo',label='Test')\n",
    "plt.legend()"
   ]
  },
  {
   "cell_type": "code",
   "execution_count": 4,
   "metadata": {},
   "outputs": [],
   "source": [
    "def l(w0,w1,x,y):\n",
    "    yy=w0+np.dot(w1,x)\n",
    "    temp=(yy-y)**2\n",
    "    loss=np.mean(temp)\n",
    "    \n",
    "    dtempw0=2*(yy-y)\n",
    "    dw0=np.mean(dtempw0)\n",
    "    \n",
    "    dtempw1=2*(yy-y)*x\n",
    "    dw1=np.mean(dtempw1)\n",
    "    \n",
    "    return {'dw0':dw0,'dw1':dw1,'loss':loss}"
   ]
  },
  {
   "cell_type": "code",
   "execution_count": 5,
   "metadata": {},
   "outputs": [
    {
     "data": {
      "text/plain": [
       "{'dw0': 26.0, 'dw1': 170.0, 'loss': 170.0}"
      ]
     },
     "execution_count": 5,
     "metadata": {},
     "output_type": "execute_result"
    }
   ],
   "source": [
    "l(2,3,xt,yt)"
   ]
  },
  {
   "cell_type": "code",
   "execution_count": 6,
   "metadata": {},
   "outputs": [],
   "source": [
    "def update(w0,w1,x,y,alpha):\n",
    "    dl=l(w0,w1,x,y)\n",
    "    dw0=dl['dw0']\n",
    "    dw1=dl['dw1']\n",
    "    w0=w0-alpha*dw0\n",
    "    w1=w1-alpha*dw1\n",
    "    \n",
    "    return (w0,w1)\n",
    "    "
   ]
  },
  {
   "cell_type": "code",
   "execution_count": 7,
   "metadata": {},
   "outputs": [
    {
     "data": {
      "text/plain": [
       "(-11.0, -82.0)"
      ]
     },
     "execution_count": 7,
     "metadata": {},
     "output_type": "execute_result"
    }
   ],
   "source": [
    "update(2,3,xt,yt,0.5)"
   ]
  },
  {
   "cell_type": "code",
   "execution_count": 8,
   "metadata": {},
   "outputs": [],
   "source": [
    "def gd(x,y,alpha):\n",
    "#    fig, ax=plt.subplots(1,2)\n",
    "    w0=np.random.randn(1)[0]\n",
    "    w1=np.random.randn(1)[0]\n",
    "    ww0=[]\n",
    "    ww1=[]\n",
    "    ll=[]\n",
    "    for i in range(50):\n",
    "        new_w=update(w0,w1,x,y,alpha)\n",
    "        w0=new_w[0]\n",
    "        w1=new_w[1]\n",
    "        loss=l(w0,w1,x,y)['loss']\n",
    "        ll.append(loss)\n",
    "        ww0.append(w0)\n",
    "        ww1.append(w1)\n",
    " #       ax[0].plot(ww0,ww1,'bo-')\n",
    " #       ax[1].plot(ll)\n",
    "    return {'loss':ll,'w0':ww0,'w1':ww1}"
   ]
  },
  {
   "cell_type": "code",
   "execution_count": 9,
   "metadata": {},
   "outputs": [],
   "source": [
    "train=gd(xs,ys,0.01)['loss']\n",
    "#val=gd(xv,yv,0.01)['loss']"
   ]
  },
  {
   "cell_type": "code",
   "execution_count": 11,
   "metadata": {},
   "outputs": [
    {
     "data": {
      "text/plain": [
       "[11.624371789278293,\n",
       " 8.292287078427753,\n",
       " 5.980151674366342,\n",
       " 4.375737946487203,\n",
       " 3.262397745477135,\n",
       " 2.489803501825751,\n",
       " 1.953646093144305,\n",
       " 1.5815476238531212,\n",
       " 1.3232866010657383,\n",
       " 1.1440153909517412,\n",
       " 1.0195539552127217,\n",
       " 0.9331242743985605,\n",
       " 0.873084433339971,\n",
       " 0.8313563509725495,\n",
       " 0.8023348153278795,\n",
       " 0.7821304859965437,\n",
       " 0.7680446295537637,\n",
       " 0.7582046495847804,\n",
       " 0.7513111886808761,\n",
       " 0.7464626478651776,\n",
       " 0.7430334243349755,\n",
       " 0.7405894232072942,\n",
       " 0.7388294329066731,\n",
       " 0.7375444467870508,\n",
       " 0.7365894372657852,\n",
       " 0.7358637704923744,\n",
       " 0.7352976165013897,\n",
       " 0.7348425195050473,\n",
       " 0.7344648548186619,\n",
       " 0.7341412887595734,\n",
       " 0.7338556283669944,\n",
       " 0.7335966354891873,\n",
       " 0.7333565100247248,\n",
       " 0.7331298374756171,\n",
       " 0.732912858676613,\n",
       " 0.7327029630757386,\n",
       " 0.7324983371323042,\n",
       " 0.7322977203476462,\n",
       " 0.7321002359799434,\n",
       " 0.7319052735807344,\n",
       " 0.7317124074894165,\n",
       " 0.7315213402782278,\n",
       " 0.7313318635098434,\n",
       " 0.7311438305078274,\n",
       " 0.7309571374625523,\n",
       " 0.7307717103209199,\n",
       " 0.7305874956893504,\n",
       " 0.7304044545214788,\n",
       " 0.730222557738115,\n",
       " 0.7300417831879503]"
      ]
     },
     "execution_count": 11,
     "metadata": {},
     "output_type": "execute_result"
    }
   ],
   "source": [
    "train"
   ]
  },
  {
   "cell_type": "code",
   "execution_count": 10,
   "metadata": {
    "scrolled": true
   },
   "outputs": [
    {
     "data": {
      "text/plain": [
       "<matplotlib.legend.Legend at 0x7f2df410bbe0>"
      ]
     },
     "execution_count": 10,
     "metadata": {},
     "output_type": "execute_result"
    },
    {
     "data": {
      "image/png": "[encoded data removed]",
      "text/plain": [
       "<Figure size 432x288 with 1 Axes>"
      ]
     },
     "metadata": {
      "needs_background": "light"
     },
     "output_type": "display_data"
    }
   ],
   "source": [
    "plt.plot(train,label='Train')\n",
    "plt.plot(val,label='Validation')\n",
    "plt.legend()"
   ]
  },
  {
   "cell_type": "code",
   "execution_count": 20,
   "metadata": {},
   "outputs": [
    {
     "data": {
      "text/plain": [
       "<matplotlib.legend.Legend at 0x7f7b68ec9320>"
      ]
     },
     "execution_count": 20,
     "metadata": {},
     "output_type": "execute_result"
    },
    {
     "data": {
      "image/png": "[encoded data removed]",
      "text/plain": [
       "<Figure size 432x288 with 1 Axes>"
      ]
     },
     "metadata": {
      "needs_background": "light"
     },
     "output_type": "display_data"
    }
   ],
   "source": [
    "xs2=[1,2,3,4]\n",
    "ys2=[2,4,9,13]\n",
    "\n",
    "xv2=[3,5]\n",
    "yv2=[3,4]\n",
    "\n",
    "xt2=[6,7]\n",
    "yt2=[8,9]\n",
    "\n",
    "plt.xlabel('x')\n",
    "plt.ylabel('y')\n",
    "plt.plot(xs2,ys2,'r*',label='Train')\n",
    "plt.plot(xv2,yv2,'g^',label='Validation')\n",
    "plt.plot(xt2,yt2,'bo',label='Test')\n",
    "plt.legend()"
   ]
  },
  {
   "cell_type": "code",
   "execution_count": 21,
   "metadata": {},
   "outputs": [],
   "source": [
    "train2=gd(xs2,ys2,0.01)['loss']\n",
    "val2=gd(xv2,yv2,0.01)['loss']"
   ]
  },
  {
   "cell_type": "code",
   "execution_count": 22,
   "metadata": {},
   "outputs": [
    {
     "data": {
      "text/plain": [
       "<matplotlib.legend.Legend at 0x7f7b68e61908>"
      ]
     },
     "execution_count": 22,
     "metadata": {},
     "output_type": "execute_result"
    },
    {
     "data": {
      "image/png": "[encoded data removed]",
      "text/plain": [
       "<Figure size 432x288 with 1 Axes>"
      ]
     },
     "metadata": {
      "needs_background": "light"
     },
     "output_type": "display_data"
    }
   ],
   "source": [
    "plt.plot(train2,label='Train')\n",
    "plt.plot(val2,label='Validation')\n",
    "plt.legend()"
   ]
  },
  {
   "cell_type": "code",
   "execution_count": null,
   "metadata": {},
   "outputs": [],
   "source": []
  },
  {
   "cell_type": "code",
   "execution_count": 23,
   "metadata": {},
   "outputs": [
    {
     "ename": "NameError",
     "evalue": "name 'w0' is not defined",
     "output_type": "error",
     "traceback": [
      "\u001b[0;31m---------------------------------------------------------------------------\u001b[0m",
      "\u001b[0;31mNameError\u001b[0m                                 Traceback (most recent call last)",
      "\u001b[0;32m<ipython-input-23-ba9db9fa902e>\u001b[0m in \u001b[0;36m<module>\u001b[0;34m()\u001b[0m\n\u001b[1;32m      1\u001b[0m \u001b[0mt\u001b[0m\u001b[0;34m=\u001b[0m\u001b[0mnp\u001b[0m\u001b[0;34m.\u001b[0m\u001b[0mlinspace\u001b[0m\u001b[0;34m(\u001b[0m\u001b[0;36m0\u001b[0m\u001b[0;34m,\u001b[0m\u001b[0;36m5\u001b[0m\u001b[0;34m,\u001b[0m\u001b[0;36m20\u001b[0m\u001b[0;34m)\u001b[0m\u001b[0;34m\u001b[0m\u001b[0;34m\u001b[0m\u001b[0m\n\u001b[1;32m      2\u001b[0m \u001b[0mplt\u001b[0m\u001b[0;34m.\u001b[0m\u001b[0mplot\u001b[0m\u001b[0;34m(\u001b[0m\u001b[0mxs\u001b[0m\u001b[0;34m,\u001b[0m\u001b[0mys\u001b[0m\u001b[0;34m,\u001b[0m\u001b[0;34m'r*'\u001b[0m\u001b[0;34m)\u001b[0m\u001b[0;34m\u001b[0m\u001b[0;34m\u001b[0m\u001b[0m\n\u001b[0;32m----> 3\u001b[0;31m \u001b[0mplt\u001b[0m\u001b[0;34m.\u001b[0m\u001b[0mplot\u001b[0m\u001b[0;34m(\u001b[0m\u001b[0mt\u001b[0m\u001b[0;34m,\u001b[0m\u001b[0mw0\u001b[0m\u001b[0;34m+\u001b[0m\u001b[0mw1\u001b[0m\u001b[0;34m*\u001b[0m\u001b[0mt\u001b[0m\u001b[0;34m)\u001b[0m\u001b[0;34m\u001b[0m\u001b[0;34m\u001b[0m\u001b[0m\n\u001b[0m",
      "\u001b[0;31mNameError\u001b[0m: name 'w0' is not defined"
     ]
    },
    {
     "data": {
      "image/png": "[encoded data removed]",
      "text/plain": [
       "<Figure size 432x288 with 1 Axes>"
      ]
     },
     "metadata": {
      "needs_background": "light"
     },
     "output_type": "display_data"
    }
   ],
   "source": [
    "t=np.linspace(0,5,20)\n",
    "plt.plot(xs,ys,'r*')\n",
    "plt.plot(t,w0+w1*t)"
   ]
  },
  {
   "cell_type": "code",
   "execution_count": null,
   "metadata": {},
   "outputs": [],
   "source": [
    "def l2(w0,w1):\n",
    "    y=w0+np.dot(w1,xs)\n",
    "    temp=(y-ys)**2\n",
    "    loss=random.choice(temp)\n",
    "    \n",
    "    dtemp0=2*(y-ys)\n",
    "    dw0=random.choice(dtemp0)\n",
    "    \n",
    "    dtemp1=2*(y-ys)*xs\n",
    "    dw1=random.choice(dtemp1)\n",
    "    \n",
    "    return {'dw0':dw0,'dw1':dw1}\n",
    "    "
   ]
  },
  {
   "cell_type": "code",
   "execution_count": null,
   "metadata": {},
   "outputs": [],
   "source": [
    "l2(2,3)"
   ]
  },
  {
   "cell_type": "code",
   "execution_count": null,
   "metadata": {},
   "outputs": [],
   "source": [
    "def update2(w0,w1,alpha):\n",
    "    dl=l2(w0,w1)\n",
    "    dw0=dl['dw0']\n",
    "    dw1=dl['dw1']\n",
    "    w0=w0-alpha*dw0\n",
    "    w1=w1-alpha*dw1\n",
    "    \n",
    "    return (w0,w1)"
   ]
  },
  {
   "cell_type": "code",
   "execution_count": null,
   "metadata": {},
   "outputs": [],
   "source": [
    "w0=np.random.randn(1)[0]\n",
    "w1=np.random.randn(1)[0]\n",
    "ww0=[]\n",
    "ww1=[]\n",
    "for i in range(500):\n",
    "    new_w=update2(w0,w1,0.01)\n",
    "    w0=new_w[0]\n",
    "    w1=new_w[1]\n",
    "    ww0.append(w0)\n",
    "    ww1.append(w1)\n",
    "    plt.xlabel('w0')\n",
    "    plt.ylabel('w1')\n",
    "    plt.plot(ww0,ww1,'bo-')"
   ]
  },
  {
   "cell_type": "code",
   "execution_count": null,
   "metadata": {},
   "outputs": [],
   "source": [
    "t=np.linspace(0,5,20)\n",
    "plt.plot(xs,ys,'r*')\n",
    "plt.plot(t,w0+w1*t)"
   ]
  },
  {
   "cell_type": "code",
   "execution_count": null,
   "metadata": {},
   "outputs": [],
   "source": []
  },
  {
   "cell_type": "code",
   "execution_count": null,
   "metadata": {},
   "outputs": [],
   "source": []
  }
 ],
 "metadata": {
  "kernelspec": {
   "display_name": "Python 3",
   "language": "python",
   "name": "python3"
  },
  "language_info": {
   "codemirror_mode": {
    "name": "ipython",
    "version": 3
   },
   "file_extension": ".py",
   "mimetype": "text/x-python",
   "name": "python",
   "nbconvert_exporter": "python",
   "pygments_lexer": "ipython3",
   "version": "3.7.3"
  }
 },
 "nbformat": 4,
 "nbformat_minor": 2
}
