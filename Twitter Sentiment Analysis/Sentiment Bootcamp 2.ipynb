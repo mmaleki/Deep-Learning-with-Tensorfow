{
 "cells": [
  {
   "cell_type": "code",
   "execution_count": 3,
   "metadata": {},
   "outputs": [],
   "source": [
    "from nltk.tokenize import sent_tokenize"
   ]
  },
  {
   "cell_type": "code",
   "execution_count": 4,
   "metadata": {},
   "outputs": [],
   "source": [
    "kahneman='''The second section offers explanations for why humans struggle\n",
    "to think statistically. It begins by documenting a variety of situations in\n",
    "which we either arrive at binary decisions or fail to associate precisely \n",
    "reasonable probabilities with outcomes. Kahneman explains this phenomenon \n",
    "using the theory of heuristics. Kahneman and Tversky originally discussed this\n",
    "topic in their 1974 article titled Judgment Under Uncertainty: Heuristics and \n",
    "Biases.[7] I think it is true. The pi number is 3. 14 and is a irrational number.\n",
    "Kahneman uses heuristics to assert that System 1 thinking involves associating\n",
    "new information with existing patterns, or thoughts, rather than creating new \n",
    "patterns for each new experience. For example, a child who has only seen shapes\n",
    "with straight edges might perceive an octagon when first viewing a circle. As a \n",
    "legal metaphor, a judge limited to heuristic thinking would only be able to think \n",
    "of similar historical cases when presented with a new dispute, rather than \n",
    "considering the unique aspects of that case. In addition to offering an\n",
    "explanation for the statistical problem, the theory also offers an explanation\n",
    "for human biases. befor1940 and 1950after and in1960between'''"
   ]
  },
  {
   "cell_type": "code",
   "execution_count": 5,
   "metadata": {},
   "outputs": [
    {
     "data": {
      "text/plain": [
       "1217"
      ]
     },
     "execution_count": 5,
     "metadata": {},
     "output_type": "execute_result"
    }
   ],
   "source": [
    "len(kahneman)"
   ]
  },
  {
   "cell_type": "code",
   "execution_count": 6,
   "metadata": {},
   "outputs": [
    {
     "data": {
      "text/plain": [
       "5"
      ]
     },
     "execution_count": 6,
     "metadata": {},
     "output_type": "execute_result"
    }
   ],
   "source": [
    "len('abc d')"
   ]
  },
  {
   "cell_type": "code",
   "execution_count": 9,
   "metadata": {},
   "outputs": [],
   "source": [
    "kan_tokenize=sent_tokenize(kahneman)"
   ]
  },
  {
   "cell_type": "code",
   "execution_count": 11,
   "metadata": {},
   "outputs": [
    {
     "data": {
      "text/plain": [
       "12"
      ]
     },
     "execution_count": 11,
     "metadata": {},
     "output_type": "execute_result"
    }
   ],
   "source": [
    "len(kan_tokenize)"
   ]
  },
  {
   "cell_type": "code",
   "execution_count": 12,
   "metadata": {},
   "outputs": [
    {
     "data": {
      "text/plain": [
       "['The second section offers explanations for why humans struggle\\nto think statistically.',\n",
       " 'It begins by documenting a variety of situations in\\nwhich we either arrive at binary decisions or fail to associate precisely \\nreasonable probabilities with outcomes.',\n",
       " 'Kahneman explains this phenomenon \\nusing the theory of heuristics.',\n",
       " 'Kahneman and Tversky originally discussed this\\ntopic in their 1974 article titled Judgment Under Uncertainty: Heuristics and \\nBiases.',\n",
       " '[7] I think it is true.',\n",
       " 'The pi number is 3.',\n",
       " '14 and is a irrational number.',\n",
       " 'Kahneman uses heuristics to assert that System 1 thinking involves associating\\nnew information with existing patterns, or thoughts, rather than creating new \\npatterns for each new experience.',\n",
       " 'For example, a child who has only seen shapes\\nwith straight edges might perceive an octagon when first viewing a circle.',\n",
       " 'As a \\nlegal metaphor, a judge limited to heuristic thinking would only be able to think \\nof similar historical cases when presented with a new dispute, rather than \\nconsidering the unique aspects of that case.',\n",
       " 'In addition to offering an\\nexplanation for the statistical problem, the theory also offers an explanation\\nfor human biases.',\n",
       " 'befor1940 and 1950after and in1960between']"
      ]
     },
     "execution_count": 12,
     "metadata": {},
     "output_type": "execute_result"
    }
   ],
   "source": [
    "kan_tokenize"
   ]
  },
  {
   "cell_type": "code",
   "execution_count": 13,
   "metadata": {},
   "outputs": [],
   "source": [
    "from nltk.tokenize import word_tokenize"
   ]
  },
  {
   "cell_type": "code",
   "execution_count": 14,
   "metadata": {},
   "outputs": [],
   "source": [
    "kan_word_tokenize=word_tokenize(kahneman)"
   ]
  },
  {
   "cell_type": "code",
   "execution_count": 15,
   "metadata": {},
   "outputs": [
    {
     "data": {
      "text/plain": [
       "208"
      ]
     },
     "execution_count": 15,
     "metadata": {},
     "output_type": "execute_result"
    }
   ],
   "source": [
    "len(kan_word_tokenize)"
   ]
  },
  {
   "cell_type": "code",
   "execution_count": 16,
   "metadata": {},
   "outputs": [
    {
     "data": {
      "text/plain": [
       "['The',\n",
       " 'second',\n",
       " 'section',\n",
       " 'offers',\n",
       " 'explanations',\n",
       " 'for',\n",
       " 'why',\n",
       " 'humans',\n",
       " 'struggle',\n",
       " 'to',\n",
       " 'think',\n",
       " 'statistically',\n",
       " '.',\n",
       " 'It',\n",
       " 'begins',\n",
       " 'by',\n",
       " 'documenting',\n",
       " 'a',\n",
       " 'variety',\n",
       " 'of',\n",
       " 'situations',\n",
       " 'in',\n",
       " 'which',\n",
       " 'we',\n",
       " 'either',\n",
       " 'arrive',\n",
       " 'at',\n",
       " 'binary',\n",
       " 'decisions',\n",
       " 'or',\n",
       " 'fail',\n",
       " 'to',\n",
       " 'associate',\n",
       " 'precisely',\n",
       " 'reasonable',\n",
       " 'probabilities',\n",
       " 'with',\n",
       " 'outcomes',\n",
       " '.',\n",
       " 'Kahneman',\n",
       " 'explains',\n",
       " 'this',\n",
       " 'phenomenon',\n",
       " 'using',\n",
       " 'the',\n",
       " 'theory',\n",
       " 'of',\n",
       " 'heuristics',\n",
       " '.',\n",
       " 'Kahneman',\n",
       " 'and',\n",
       " 'Tversky',\n",
       " 'originally',\n",
       " 'discussed',\n",
       " 'this',\n",
       " 'topic',\n",
       " 'in',\n",
       " 'their',\n",
       " '1974',\n",
       " 'article',\n",
       " 'titled',\n",
       " 'Judgment',\n",
       " 'Under',\n",
       " 'Uncertainty',\n",
       " ':',\n",
       " 'Heuristics',\n",
       " 'and',\n",
       " 'Biases',\n",
       " '.',\n",
       " '[',\n",
       " '7',\n",
       " ']',\n",
       " 'I',\n",
       " 'think',\n",
       " 'it',\n",
       " 'is',\n",
       " 'true',\n",
       " '.',\n",
       " 'The',\n",
       " 'pi',\n",
       " 'number',\n",
       " 'is',\n",
       " '3',\n",
       " '.',\n",
       " '14',\n",
       " 'and',\n",
       " 'is',\n",
       " 'a',\n",
       " 'irrational',\n",
       " 'number',\n",
       " '.',\n",
       " 'Kahneman',\n",
       " 'uses',\n",
       " 'heuristics',\n",
       " 'to',\n",
       " 'assert',\n",
       " 'that',\n",
       " 'System',\n",
       " '1',\n",
       " 'thinking',\n",
       " 'involves',\n",
       " 'associating',\n",
       " 'new',\n",
       " 'information',\n",
       " 'with',\n",
       " 'existing',\n",
       " 'patterns',\n",
       " ',',\n",
       " 'or',\n",
       " 'thoughts',\n",
       " ',',\n",
       " 'rather',\n",
       " 'than',\n",
       " 'creating',\n",
       " 'new',\n",
       " 'patterns',\n",
       " 'for',\n",
       " 'each',\n",
       " 'new',\n",
       " 'experience',\n",
       " '.',\n",
       " 'For',\n",
       " 'example',\n",
       " ',',\n",
       " 'a',\n",
       " 'child',\n",
       " 'who',\n",
       " 'has',\n",
       " 'only',\n",
       " 'seen',\n",
       " 'shapes',\n",
       " 'with',\n",
       " 'straight',\n",
       " 'edges',\n",
       " 'might',\n",
       " 'perceive',\n",
       " 'an',\n",
       " 'octagon',\n",
       " 'when',\n",
       " 'first',\n",
       " 'viewing',\n",
       " 'a',\n",
       " 'circle',\n",
       " '.',\n",
       " 'As',\n",
       " 'a',\n",
       " 'legal',\n",
       " 'metaphor',\n",
       " ',',\n",
       " 'a',\n",
       " 'judge',\n",
       " 'limited',\n",
       " 'to',\n",
       " 'heuristic',\n",
       " 'thinking',\n",
       " 'would',\n",
       " 'only',\n",
       " 'be',\n",
       " 'able',\n",
       " 'to',\n",
       " 'think',\n",
       " 'of',\n",
       " 'similar',\n",
       " 'historical',\n",
       " 'cases',\n",
       " 'when',\n",
       " 'presented',\n",
       " 'with',\n",
       " 'a',\n",
       " 'new',\n",
       " 'dispute',\n",
       " ',',\n",
       " 'rather',\n",
       " 'than',\n",
       " 'considering',\n",
       " 'the',\n",
       " 'unique',\n",
       " 'aspects',\n",
       " 'of',\n",
       " 'that',\n",
       " 'case',\n",
       " '.',\n",
       " 'In',\n",
       " 'addition',\n",
       " 'to',\n",
       " 'offering',\n",
       " 'an',\n",
       " 'explanation',\n",
       " 'for',\n",
       " 'the',\n",
       " 'statistical',\n",
       " 'problem',\n",
       " ',',\n",
       " 'the',\n",
       " 'theory',\n",
       " 'also',\n",
       " 'offers',\n",
       " 'an',\n",
       " 'explanation',\n",
       " 'for',\n",
       " 'human',\n",
       " 'biases',\n",
       " '.',\n",
       " 'befor1940',\n",
       " 'and',\n",
       " '1950after',\n",
       " 'and',\n",
       " 'in1960between']"
      ]
     },
     "execution_count": 16,
     "metadata": {},
     "output_type": "execute_result"
    }
   ],
   "source": [
    "kan_word_tokenize"
   ]
  },
  {
   "cell_type": "code",
   "execution_count": 17,
   "metadata": {},
   "outputs": [],
   "source": [
    "epsilon=''"
   ]
  },
  {
   "cell_type": "code",
   "execution_count": 18,
   "metadata": {},
   "outputs": [
    {
     "data": {
      "text/plain": [
       "0"
      ]
     },
     "execution_count": 18,
     "metadata": {},
     "output_type": "execute_result"
    }
   ],
   "source": [
    "len(epsilon)"
   ]
  },
  {
   "cell_type": "code",
   "execution_count": 19,
   "metadata": {},
   "outputs": [],
   "source": [
    "epsilon2=' '"
   ]
  },
  {
   "cell_type": "code",
   "execution_count": 20,
   "metadata": {},
   "outputs": [
    {
     "data": {
      "text/plain": [
       "1"
      ]
     },
     "execution_count": 20,
     "metadata": {},
     "output_type": "execute_result"
    }
   ],
   "source": [
    "len(epsilon2)"
   ]
  },
  {
   "cell_type": "code",
   "execution_count": 21,
   "metadata": {},
   "outputs": [],
   "source": [
    "from nltk.tokenize import RegexpTokenizer"
   ]
  },
  {
   "cell_type": "code",
   "execution_count": 104,
   "metadata": {},
   "outputs": [],
   "source": [
    "reg1=RegexpTokenizer('I\\w*')\n",
    "reg2=RegexpTokenizer('I\\w+')\n",
    "reg3=RegexpTokenizer('\\w*[0-9]\\w*')\n",
    "reg4=RegexpTokenizer('\\n\\w*')\n",
    "reg5=RegexpTokenizer('[a-z]\\w*|[A-Z]\\w*')"
   ]
  },
  {
   "cell_type": "code",
   "execution_count": 105,
   "metadata": {},
   "outputs": [],
   "source": [
    "reg1_kan=reg1.tokenize(kahneman)\n",
    "reg2_kan=reg2.tokenize(kahneman)\n",
    "reg3_kan=reg3.tokenize(kahneman)\n",
    "reg4_kan=reg4.tokenize(kahneman)\n",
    "reg5_kan=reg5.tokenize(kahneman)"
   ]
  },
  {
   "cell_type": "code",
   "execution_count": 106,
   "metadata": {},
   "outputs": [
    {
     "data": {
      "text/plain": [
       "['It', 'I', 'In']"
      ]
     },
     "execution_count": 106,
     "metadata": {},
     "output_type": "execute_result"
    }
   ],
   "source": [
    "reg1_kan"
   ]
  },
  {
   "cell_type": "code",
   "execution_count": 107,
   "metadata": {},
   "outputs": [
    {
     "data": {
      "text/plain": [
       "['It', 'In']"
      ]
     },
     "execution_count": 107,
     "metadata": {},
     "output_type": "execute_result"
    }
   ],
   "source": [
    "reg2_kan"
   ]
  },
  {
   "cell_type": "code",
   "execution_count": 108,
   "metadata": {},
   "outputs": [
    {
     "data": {
      "text/plain": [
       "['1974', '7', '3', '14', '1', 'befor1940', '1950after', 'in1960between']"
      ]
     },
     "execution_count": 108,
     "metadata": {},
     "output_type": "execute_result"
    }
   ],
   "source": [
    "reg3_kan"
   ]
  },
  {
   "cell_type": "code",
   "execution_count": 109,
   "metadata": {},
   "outputs": [
    {
     "data": {
      "text/plain": [
       "['\\nto',\n",
       " '\\nwhich',\n",
       " '\\nreasonable',\n",
       " '\\nusing',\n",
       " '\\ntopic',\n",
       " '\\nBiases',\n",
       " '\\nKahneman',\n",
       " '\\nnew',\n",
       " '\\npatterns',\n",
       " '\\nwith',\n",
       " '\\nlegal',\n",
       " '\\nof',\n",
       " '\\nconsidering',\n",
       " '\\nexplanation',\n",
       " '\\nfor']"
      ]
     },
     "execution_count": 109,
     "metadata": {},
     "output_type": "execute_result"
    }
   ],
   "source": [
    "reg4_kan"
   ]
  },
  {
   "cell_type": "code",
   "execution_count": 110,
   "metadata": {},
   "outputs": [
    {
     "data": {
      "text/plain": [
       "['The',\n",
       " 'second',\n",
       " 'section',\n",
       " 'offers',\n",
       " 'explanations',\n",
       " 'for',\n",
       " 'why',\n",
       " 'humans',\n",
       " 'struggle',\n",
       " 'to',\n",
       " 'think',\n",
       " 'statistically',\n",
       " 'It',\n",
       " 'begins',\n",
       " 'by',\n",
       " 'documenting',\n",
       " 'a',\n",
       " 'variety',\n",
       " 'of',\n",
       " 'situations',\n",
       " 'in',\n",
       " 'which',\n",
       " 'we',\n",
       " 'either',\n",
       " 'arrive',\n",
       " 'at',\n",
       " 'binary',\n",
       " 'decisions',\n",
       " 'or',\n",
       " 'fail',\n",
       " 'to',\n",
       " 'associate',\n",
       " 'precisely',\n",
       " 'reasonable',\n",
       " 'probabilities',\n",
       " 'with',\n",
       " 'outcomes',\n",
       " 'Kahneman',\n",
       " 'explains',\n",
       " 'this',\n",
       " 'phenomenon',\n",
       " 'using',\n",
       " 'the',\n",
       " 'theory',\n",
       " 'of',\n",
       " 'heuristics',\n",
       " 'Kahneman',\n",
       " 'and',\n",
       " 'Tversky',\n",
       " 'originally',\n",
       " 'discussed',\n",
       " 'this',\n",
       " 'topic',\n",
       " 'in',\n",
       " 'their',\n",
       " 'article',\n",
       " 'titled',\n",
       " 'Judgment',\n",
       " 'Under',\n",
       " 'Uncertainty',\n",
       " 'Heuristics',\n",
       " 'and',\n",
       " 'Biases',\n",
       " 'I',\n",
       " 'think',\n",
       " 'it',\n",
       " 'is',\n",
       " 'true',\n",
       " 'The',\n",
       " 'pi',\n",
       " 'number',\n",
       " 'is',\n",
       " 'and',\n",
       " 'is',\n",
       " 'a',\n",
       " 'irrational',\n",
       " 'number',\n",
       " 'Kahneman',\n",
       " 'uses',\n",
       " 'heuristics',\n",
       " 'to',\n",
       " 'assert',\n",
       " 'that',\n",
       " 'System',\n",
       " 'thinking',\n",
       " 'involves',\n",
       " 'associating',\n",
       " 'new',\n",
       " 'information',\n",
       " 'with',\n",
       " 'existing',\n",
       " 'patterns',\n",
       " 'or',\n",
       " 'thoughts',\n",
       " 'rather',\n",
       " 'than',\n",
       " 'creating',\n",
       " 'new',\n",
       " 'patterns',\n",
       " 'for',\n",
       " 'each',\n",
       " 'new',\n",
       " 'experience',\n",
       " 'For',\n",
       " 'example',\n",
       " 'a',\n",
       " 'child',\n",
       " 'who',\n",
       " 'has',\n",
       " 'only',\n",
       " 'seen',\n",
       " 'shapes',\n",
       " 'with',\n",
       " 'straight',\n",
       " 'edges',\n",
       " 'might',\n",
       " 'perceive',\n",
       " 'an',\n",
       " 'octagon',\n",
       " 'when',\n",
       " 'first',\n",
       " 'viewing',\n",
       " 'a',\n",
       " 'circle',\n",
       " 'As',\n",
       " 'a',\n",
       " 'legal',\n",
       " 'metaphor',\n",
       " 'a',\n",
       " 'judge',\n",
       " 'limited',\n",
       " 'to',\n",
       " 'heuristic',\n",
       " 'thinking',\n",
       " 'would',\n",
       " 'only',\n",
       " 'be',\n",
       " 'able',\n",
       " 'to',\n",
       " 'think',\n",
       " 'of',\n",
       " 'similar',\n",
       " 'historical',\n",
       " 'cases',\n",
       " 'when',\n",
       " 'presented',\n",
       " 'with',\n",
       " 'a',\n",
       " 'new',\n",
       " 'dispute',\n",
       " 'rather',\n",
       " 'than',\n",
       " 'considering',\n",
       " 'the',\n",
       " 'unique',\n",
       " 'aspects',\n",
       " 'of',\n",
       " 'that',\n",
       " 'case',\n",
       " 'In',\n",
       " 'addition',\n",
       " 'to',\n",
       " 'offering',\n",
       " 'an',\n",
       " 'explanation',\n",
       " 'for',\n",
       " 'the',\n",
       " 'statistical',\n",
       " 'problem',\n",
       " 'the',\n",
       " 'theory',\n",
       " 'also',\n",
       " 'offers',\n",
       " 'an',\n",
       " 'explanation',\n",
       " 'for',\n",
       " 'human',\n",
       " 'biases',\n",
       " 'befor1940',\n",
       " 'and',\n",
       " 'after',\n",
       " 'and',\n",
       " 'in1960between']"
      ]
     },
     "execution_count": 110,
     "metadata": {},
     "output_type": "execute_result"
    }
   ],
   "source": [
    "reg5_kan"
   ]
  },
  {
   "cell_type": "code",
   "execution_count": 111,
   "metadata": {},
   "outputs": [],
   "source": [
    "from nltk.probability import FreqDist"
   ]
  },
  {
   "cell_type": "code",
   "execution_count": 112,
   "metadata": {},
   "outputs": [
    {
     "data": {
      "text/plain": [
       "FreqDist({'.': 11, 'a': 7, 'to': 6, ',': 6, 'and': 5, 'for': 4, 'of': 4, 'with': 4, 'the': 4, 'new': 4, ...})"
      ]
     },
     "execution_count": 112,
     "metadata": {},
     "output_type": "execute_result"
    }
   ],
   "source": [
    "FreqDist(kan_word_tokenize)"
   ]
  },
  {
   "cell_type": "code",
   "execution_count": 113,
   "metadata": {},
   "outputs": [
    {
     "data": {
      "text/plain": [
       "3"
      ]
     },
     "execution_count": 113,
     "metadata": {},
     "output_type": "execute_result"
    }
   ],
   "source": [
    "FreqDist(kan_word_tokenize)['Kahneman']"
   ]
  },
  {
   "cell_type": "code",
   "execution_count": 114,
   "metadata": {},
   "outputs": [],
   "source": [
    "fdist=FreqDist(kan_word_tokenize)"
   ]
  },
  {
   "cell_type": "code",
   "execution_count": 115,
   "metadata": {},
   "outputs": [
    {
     "data": {
      "image/png": "[encoded data removed]",
      "text/plain": [
       "<Figure size 432x288 with 1 Axes>"
      ]
     },
     "metadata": {
      "needs_background": "light"
     },
     "output_type": "display_data"
    },
    {
     "data": {
      "text/plain": [
       "<matplotlib.axes._subplots.AxesSubplot at 0x7f881e4627f0>"
      ]
     },
     "execution_count": 115,
     "metadata": {},
     "output_type": "execute_result"
    }
   ],
   "source": [
    "fdist.plot(10)"
   ]
  },
  {
   "cell_type": "code",
   "execution_count": 116,
   "metadata": {},
   "outputs": [],
   "source": [
    "from nltk.corpus import stopwords"
   ]
  },
  {
   "cell_type": "code",
   "execution_count": 117,
   "metadata": {},
   "outputs": [],
   "source": [
    "stop_words=stopwords.words('english')"
   ]
  },
  {
   "cell_type": "code",
   "execution_count": 118,
   "metadata": {},
   "outputs": [],
   "source": [
    "filtered_words=[]"
   ]
  },
  {
   "cell_type": "code",
   "execution_count": 119,
   "metadata": {},
   "outputs": [],
   "source": [
    "for w in reg5_kan:\n",
    "    v=w.lower()\n",
    "    if v not in stop_words:\n",
    "        filtered_words.append(v)"
   ]
  },
  {
   "cell_type": "code",
   "execution_count": 120,
   "metadata": {},
   "outputs": [
    {
     "data": {
      "text/plain": [
       "109"
      ]
     },
     "execution_count": 120,
     "metadata": {},
     "output_type": "execute_result"
    }
   ],
   "source": [
    "len(filtered_words)"
   ]
  },
  {
   "cell_type": "code",
   "execution_count": 121,
   "metadata": {},
   "outputs": [],
   "source": [
    "fdist2=FreqDist(filtered_words)"
   ]
  },
  {
   "cell_type": "code",
   "execution_count": 122,
   "metadata": {},
   "outputs": [
    {
     "data": {
      "image/png": "[encoded data removed]",
      "text/plain": [
       "<Figure size 432x288 with 1 Axes>"
      ]
     },
     "metadata": {
      "needs_background": "light"
     },
     "output_type": "display_data"
    },
    {
     "data": {
      "text/plain": [
       "<matplotlib.axes._subplots.AxesSubplot at 0x7f881e3d31d0>"
      ]
     },
     "execution_count": 122,
     "metadata": {},
     "output_type": "execute_result"
    }
   ],
   "source": [
    "fdist2.plot(10)"
   ]
  },
  {
   "cell_type": "code",
   "execution_count": 123,
   "metadata": {},
   "outputs": [],
   "source": [
    "from nltk import bigrams"
   ]
  },
  {
   "cell_type": "code",
   "execution_count": 124,
   "metadata": {},
   "outputs": [],
   "source": [
    "kan_text=[w.lower() for w in kan_word_tokenize]"
   ]
  },
  {
   "cell_type": "code",
   "execution_count": 126,
   "metadata": {},
   "outputs": [],
   "source": [
    "stop_words=set(stop_words)"
   ]
  },
  {
   "cell_type": "code",
   "execution_count": 127,
   "metadata": {},
   "outputs": [],
   "source": [
    "A=bigrams(filtered_words)"
   ]
  },
  {
   "cell_type": "code",
   "execution_count": 128,
   "metadata": {},
   "outputs": [],
   "source": [
    "fdist3=FreqDist(A)"
   ]
  },
  {
   "cell_type": "code",
   "execution_count": 129,
   "metadata": {},
   "outputs": [
    {
     "data": {
      "image/png": "[encoded data removed]",
      "text/plain": [
       "<Figure size 432x288 with 1 Axes>"
      ]
     },
     "metadata": {
      "needs_background": "light"
     },
     "output_type": "display_data"
    },
    {
     "data": {
      "text/plain": [
       "<matplotlib.axes._subplots.AxesSubplot at 0x7f881e354860>"
      ]
     },
     "execution_count": 129,
     "metadata": {},
     "output_type": "execute_result"
    }
   ],
   "source": [
    "fdist3.plot(5)"
   ]
  },
  {
   "cell_type": "code",
   "execution_count": 130,
   "metadata": {},
   "outputs": [],
   "source": [
    "from nltk import trigrams"
   ]
  },
  {
   "cell_type": "code",
   "execution_count": 131,
   "metadata": {},
   "outputs": [],
   "source": [
    "from nltk import ngrams"
   ]
  },
  {
   "cell_type": "code",
   "execution_count": 132,
   "metadata": {},
   "outputs": [],
   "source": [
    "C=ngrams(filtered_words,5)"
   ]
  },
  {
   "cell_type": "code",
   "execution_count": 133,
   "metadata": {},
   "outputs": [],
   "source": [
    "fdist5=FreqDist(C)"
   ]
  },
  {
   "cell_type": "code",
   "execution_count": 134,
   "metadata": {},
   "outputs": [
    {
     "data": {
      "image/png": "[encoded data removed]",
      "text/plain": [
       "<Figure size 432x288 with 1 Axes>"
      ]
     },
     "metadata": {
      "needs_background": "light"
     },
     "output_type": "display_data"
    },
    {
     "data": {
      "text/plain": [
       "<matplotlib.axes._subplots.AxesSubplot at 0x7f881e321b00>"
      ]
     },
     "execution_count": 134,
     "metadata": {},
     "output_type": "execute_result"
    }
   ],
   "source": [
    "fdist5.plot(5)"
   ]
  },
  {
   "cell_type": "code",
   "execution_count": null,
   "metadata": {},
   "outputs": [],
   "source": []
  }
 ],
 "metadata": {
  "kernelspec": {
   "display_name": "Python 3",
   "language": "python",
   "name": "python3"
  },
  "language_info": {
   "codemirror_mode": {
    "name": "ipython",
    "version": 3
   },
   "file_extension": ".py",
   "mimetype": "text/x-python",
   "name": "python",
   "nbconvert_exporter": "python",
   "pygments_lexer": "ipython3",
   "version": "3.7.3"
  }
 },
 "nbformat": 4,
 "nbformat_minor": 2
}
