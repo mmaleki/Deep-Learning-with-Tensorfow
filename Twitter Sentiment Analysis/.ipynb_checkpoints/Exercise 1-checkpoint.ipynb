{
 "cells": [
  {
   "cell_type": "markdown",
   "metadata": {},
   "source": [
    "# Exercise 1\n",
    "+ Deadline 25/June/2021 23:00 (Iran's time zone)."
   ]
  },
  {
   "cell_type": "markdown",
   "metadata": {},
   "source": [
    "Download the file \"alice.txt\" from the Google Drive and import it in the Jupyter Notebook\n",
    "in a variable named alice and answer the following questions:\n",
    "+ 1. Plot the frequency distribution of words for the most 10 frequent words.\n",
    "+ 2. Plot bigrams and trigrams for the most 5 frequent words.\n",
    "+ 3. Extract words that contain digits."
   ]
  },
  {
   "cell_type": "code",
   "execution_count": null,
   "metadata": {},
   "outputs": [],
   "source": []
  }
 ],
 "metadata": {
  "kernelspec": {
   "display_name": "Python 3",
   "language": "python",
   "name": "python3"
  },
  "language_info": {
   "codemirror_mode": {
    "name": "ipython",
    "version": 3
   },
   "file_extension": ".py",
   "mimetype": "text/x-python",
   "name": "python",
   "nbconvert_exporter": "python",
   "pygments_lexer": "ipython3",
   "version": "3.7.3"
  }
 },
 "nbformat": 4,
 "nbformat_minor": 2
}
