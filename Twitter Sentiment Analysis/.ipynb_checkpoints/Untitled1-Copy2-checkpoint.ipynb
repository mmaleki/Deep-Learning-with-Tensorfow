{
 "cells": [
  {
   "cell_type": "code",
   "execution_count": 1,
   "metadata": {},
   "outputs": [],
   "source": [
    "import numpy as np\n",
    "import pandas as pd\n",
    "import matplotlib.pyplot as plt\n",
    "import nltk\n",
    "from nltk import word_tokenize\n",
    "from nltk import sent_tokenize"
   ]
  },
  {
   "cell_type": "code",
   "execution_count": 2,
   "metadata": {},
   "outputs": [],
   "source": [
    "twitter=pd.read_csv('twitter.csv',header=None,encoding='latin-1')"
   ]
  },
  {
   "cell_type": "code",
   "execution_count": 3,
   "metadata": {},
   "outputs": [],
   "source": [
    "twitter=twitter.sample(frac=1)"
   ]
  },
  {
   "cell_type": "code",
   "execution_count": 4,
   "metadata": {},
   "outputs": [],
   "source": [
    "twitter.to_csv(\"twitter4.csv\",header=None)"
   ]
  },
  {
   "cell_type": "code",
   "execution_count": 5,
   "metadata": {},
   "outputs": [],
   "source": [
    "data=pd.read_csv('twitter4.csv',header=None,encoding='latin-1')"
   ]
  },
  {
   "cell_type": "code",
   "execution_count": 6,
   "metadata": {},
   "outputs": [],
   "source": [
    "twitter=data[:500000]"
   ]
  },
  {
   "cell_type": "code",
   "execution_count": 7,
   "metadata": {},
   "outputs": [],
   "source": [
    "test=data[500000:500010]"
   ]
  },
  {
   "cell_type": "code",
   "execution_count": 8,
   "metadata": {},
   "outputs": [
    {
     "data": {
      "text/html": [
       "<div>\n",
       "<style scoped>\n",
       "    .dataframe tbody tr th:only-of-type {\n",
       "        vertical-align: middle;\n",
       "    }\n",
       "\n",
       "    .dataframe tbody tr th {\n",
       "        vertical-align: top;\n",
       "    }\n",
       "\n",
       "    .dataframe thead th {\n",
       "        text-align: right;\n",
       "    }\n",
       "</style>\n",
       "<table border=\"1\" class=\"dataframe\">\n",
       "  <thead>\n",
       "    <tr style=\"text-align: right;\">\n",
       "      <th></th>\n",
       "      <th>0</th>\n",
       "      <th>1</th>\n",
       "      <th>2</th>\n",
       "      <th>3</th>\n",
       "      <th>4</th>\n",
       "      <th>5</th>\n",
       "      <th>6</th>\n",
       "    </tr>\n",
       "  </thead>\n",
       "  <tbody>\n",
       "    <tr>\n",
       "      <th>0</th>\n",
       "      <td>1290713</td>\n",
       "      <td>4</td>\n",
       "      <td>2002787870</td>\n",
       "      <td>Tue Jun 02 05:09:42 PDT 2009</td>\n",
       "      <td>NO_QUERY</td>\n",
       "      <td>loris_sl</td>\n",
       "      <td>@BertaWooster I bought that antique Windsor Ca...</td>\n",
       "    </tr>\n",
       "    <tr>\n",
       "      <th>1</th>\n",
       "      <td>485019</td>\n",
       "      <td>0</td>\n",
       "      <td>2180996451</td>\n",
       "      <td>Mon Jun 15 11:13:29 PDT 2009</td>\n",
       "      <td>NO_QUERY</td>\n",
       "      <td>ingridwerner</td>\n",
       "      <td>sooooooo tired from working - now relaxing wit...</td>\n",
       "    </tr>\n",
       "    <tr>\n",
       "      <th>2</th>\n",
       "      <td>1192660</td>\n",
       "      <td>4</td>\n",
       "      <td>1984107152</td>\n",
       "      <td>Sun May 31 14:27:23 PDT 2009</td>\n",
       "      <td>NO_QUERY</td>\n",
       "      <td>thetiniestspark</td>\n",
       "      <td>@istaraen I don't know how I remember that you...</td>\n",
       "    </tr>\n",
       "    <tr>\n",
       "      <th>3</th>\n",
       "      <td>65119</td>\n",
       "      <td>0</td>\n",
       "      <td>1690830331</td>\n",
       "      <td>Sun May 03 16:28:38 PDT 2009</td>\n",
       "      <td>NO_QUERY</td>\n",
       "      <td>kimberly625</td>\n",
       "      <td>@DavidArchie i've been thinking of cook all da...</td>\n",
       "    </tr>\n",
       "    <tr>\n",
       "      <th>4</th>\n",
       "      <td>181647</td>\n",
       "      <td>0</td>\n",
       "      <td>1966939232</td>\n",
       "      <td>Fri May 29 18:40:38 PDT 2009</td>\n",
       "      <td>NO_QUERY</td>\n",
       "      <td>winecountrydog</td>\n",
       "      <td>@ArtyTheCat oh my dogness. you are pullin' my ...</td>\n",
       "    </tr>\n",
       "  </tbody>\n",
       "</table>\n",
       "</div>"
      ],
      "text/plain": [
       "         0  1           2                             3         4  \\\n",
       "0  1290713  4  2002787870  Tue Jun 02 05:09:42 PDT 2009  NO_QUERY   \n",
       "1   485019  0  2180996451  Mon Jun 15 11:13:29 PDT 2009  NO_QUERY   \n",
       "2  1192660  4  1984107152  Sun May 31 14:27:23 PDT 2009  NO_QUERY   \n",
       "3    65119  0  1690830331  Sun May 03 16:28:38 PDT 2009  NO_QUERY   \n",
       "4   181647  0  1966939232  Fri May 29 18:40:38 PDT 2009  NO_QUERY   \n",
       "\n",
       "                 5                                                  6  \n",
       "0         loris_sl  @BertaWooster I bought that antique Windsor Ca...  \n",
       "1     ingridwerner  sooooooo tired from working - now relaxing wit...  \n",
       "2  thetiniestspark  @istaraen I don't know how I remember that you...  \n",
       "3      kimberly625  @DavidArchie i've been thinking of cook all da...  \n",
       "4   winecountrydog  @ArtyTheCat oh my dogness. you are pullin' my ...  "
      ]
     },
     "execution_count": 8,
     "metadata": {},
     "output_type": "execute_result"
    }
   ],
   "source": [
    "twitter.head(5)"
   ]
  },
  {
   "cell_type": "code",
   "execution_count": 9,
   "metadata": {},
   "outputs": [],
   "source": [
    "sen=twitter[6]"
   ]
  },
  {
   "cell_type": "code",
   "execution_count": 10,
   "metadata": {},
   "outputs": [
    {
     "data": {
      "text/plain": [
       "500000"
      ]
     },
     "execution_count": 10,
     "metadata": {},
     "output_type": "execute_result"
    }
   ],
   "source": [
    "len(sen)"
   ]
  },
  {
   "cell_type": "code",
   "execution_count": 11,
   "metadata": {},
   "outputs": [],
   "source": [
    "sent=[sen[i].lower() for i in range(len(twitter))]"
   ]
  },
  {
   "cell_type": "code",
   "execution_count": 12,
   "metadata": {},
   "outputs": [
    {
     "data": {
      "text/plain": [
       "\"@istaraen i don't know how i remember that you like blueberry scone candles, but the huge ones are 2/$25 at yankee candle right now. \""
      ]
     },
     "execution_count": 12,
     "metadata": {},
     "output_type": "execute_result"
    }
   ],
   "source": [
    "sent[2]"
   ]
  },
  {
   "cell_type": "code",
   "execution_count": 13,
   "metadata": {},
   "outputs": [],
   "source": [
    "tag=twitter[1]"
   ]
  },
  {
   "cell_type": "code",
   "execution_count": 14,
   "metadata": {},
   "outputs": [
    {
     "data": {
      "text/plain": [
       "4"
      ]
     },
     "execution_count": 14,
     "metadata": {},
     "output_type": "execute_result"
    }
   ],
   "source": [
    "tag[2]"
   ]
  },
  {
   "cell_type": "code",
   "execution_count": 15,
   "metadata": {},
   "outputs": [],
   "source": [
    "def p(v):\n",
    "    temp=len(tag[tag==v])\n",
    "    prob=temp/(len(twitter))\n",
    "    return prob"
   ]
  },
  {
   "cell_type": "code",
   "execution_count": 16,
   "metadata": {},
   "outputs": [
    {
     "data": {
      "text/plain": [
       "249954"
      ]
     },
     "execution_count": 16,
     "metadata": {},
     "output_type": "execute_result"
    }
   ],
   "source": [
    "len(tag[tag==0])"
   ]
  },
  {
   "cell_type": "code",
   "execution_count": 17,
   "metadata": {},
   "outputs": [
    {
     "data": {
      "text/plain": [
       "0.499908"
      ]
     },
     "execution_count": 17,
     "metadata": {},
     "output_type": "execute_result"
    }
   ],
   "source": [
    "p(0)"
   ]
  },
  {
   "cell_type": "code",
   "execution_count": 18,
   "metadata": {},
   "outputs": [
    {
     "data": {
      "text/plain": [
       "0.500092"
      ]
     },
     "execution_count": 18,
     "metadata": {},
     "output_type": "execute_result"
    }
   ],
   "source": [
    "p(4)"
   ]
  },
  {
   "cell_type": "code",
   "execution_count": 19,
   "metadata": {},
   "outputs": [],
   "source": [
    "def concatData(size):  #maximum size is 15\n",
    "    ls={}\n",
    "    for i in range(size):\n",
    "        ls[\"l{}\".format(i)]=''\n",
    "        for s in sent[i*100000:(i+1)*100000]:\n",
    "            ls[\"l{}\".format(i)]=s+ls[\"l{}\".format(i)]\n",
    "    l=''\n",
    "    for i in range(size):\n",
    "        l=ls['l{}'.format(i)]+l\n",
    "    return l"
   ]
  },
  {
   "cell_type": "code",
   "execution_count": 20,
   "metadata": {},
   "outputs": [],
   "source": [
    "l=concatData(4)"
   ]
  },
  {
   "cell_type": "code",
   "execution_count": null,
   "metadata": {
    "scrolled": false
   },
   "outputs": [],
   "source": [
    "#l"
   ]
  },
  {
   "cell_type": "code",
   "execution_count": 21,
   "metadata": {},
   "outputs": [
    {
     "data": {
      "text/plain": [
       "\"@istaraen i don't know how i remember that you like blueberry scone candles, but the huge ones are 2/$25 at yankee candle right now. \""
      ]
     },
     "execution_count": 21,
     "metadata": {},
     "output_type": "execute_result"
    }
   ],
   "source": [
    "sent[2]"
   ]
  },
  {
   "cell_type": "code",
   "execution_count": null,
   "metadata": {},
   "outputs": [],
   "source": [
    "#twitter=pd.read_csv('twitter.csv',header=None,encoding='latin-1')"
   ]
  },
  {
   "cell_type": "code",
   "execution_count": null,
   "metadata": {},
   "outputs": [],
   "source": [
    "#twitt5=twitter.sample(n=100000)"
   ]
  },
  {
   "cell_type": "code",
   "execution_count": null,
   "metadata": {},
   "outputs": [],
   "source": [
    "#tag=twitt5[1]\n",
    "#sent=twitt5[6]"
   ]
  },
  {
   "cell_type": "code",
   "execution_count": null,
   "metadata": {},
   "outputs": [],
   "source": []
  },
  {
   "cell_type": "code",
   "execution_count": null,
   "metadata": {},
   "outputs": [],
   "source": []
  },
  {
   "cell_type": "code",
   "execution_count": null,
   "metadata": {},
   "outputs": [],
   "source": [
    "#twitt5"
   ]
  },
  {
   "cell_type": "code",
   "execution_count": 22,
   "metadata": {},
   "outputs": [],
   "source": [
    "def p(v):\n",
    "    temp=len(tag[tag==v])\n",
    "    prob=temp/(len(twitter))\n",
    "    return prob"
   ]
  },
  {
   "cell_type": "code",
   "execution_count": 23,
   "metadata": {},
   "outputs": [
    {
     "data": {
      "text/plain": [
       "0.499908"
      ]
     },
     "execution_count": 23,
     "metadata": {},
     "output_type": "execute_result"
    }
   ],
   "source": [
    "p(0)"
   ]
  },
  {
   "cell_type": "code",
   "execution_count": 24,
   "metadata": {},
   "outputs": [],
   "source": [
    "whole_sent=np.concatenate([sent])"
   ]
  },
  {
   "cell_type": "code",
   "execution_count": 25,
   "metadata": {},
   "outputs": [
    {
     "data": {
      "text/plain": [
       "array(['@bertawooster i bought that antique windsor castle picture stamp that is in the video ',\n",
       "       'sooooooo tired from working - now relaxing with some old gilmore girls eps. i miss lorelai and rory.... ',\n",
       "       \"@istaraen i don't know how i remember that you like blueberry scone candles, but the huge ones are 2/$25 at yankee candle right now. \",\n",
       "       ..., '@itsdarkdaze, @dannynorthphoto yeah where was my beer too? ',\n",
       "       'the new nfg stuff is awesome.. looking at you bigsis ',\n",
       "       'goodnight everyone. make lacii feel better by sending tweets. or get her a job...  kidding babe. but really...'],\n",
       "      dtype='<U598')"
      ]
     },
     "execution_count": 25,
     "metadata": {},
     "output_type": "execute_result"
    }
   ],
   "source": [
    "whole_sent"
   ]
  },
  {
   "cell_type": "code",
   "execution_count": 26,
   "metadata": {},
   "outputs": [
    {
     "data": {
      "text/plain": [
       "'@bertawooster i bought that antique windsor castle picture stamp that is in the video sooooooo tired from working - now relaxing with some old gilmore girls eps. i miss lorelai and rory.... '"
      ]
     },
     "execution_count": 26,
     "metadata": {},
     "output_type": "execute_result"
    }
   ],
   "source": [
    "whole_sent[0]+whole_sent[1]"
   ]
  },
  {
   "cell_type": "code",
   "execution_count": 28,
   "metadata": {},
   "outputs": [],
   "source": [
    "allsent=''\n",
    "for i in range(len(twitter)):\n",
    "    allsent=whole_sent[i].lower()+allsent"
   ]
  },
  {
   "cell_type": "code",
   "execution_count": null,
   "metadata": {},
   "outputs": [],
   "source": [
    "#allsent"
   ]
  },
  {
   "cell_type": "code",
   "execution_count": 29,
   "metadata": {},
   "outputs": [],
   "source": [
    "vocabulary=word_tokenize(allsent)"
   ]
  },
  {
   "cell_type": "code",
   "execution_count": 30,
   "metadata": {},
   "outputs": [
    {
     "data": {
      "text/plain": [
       "['goodnight',\n",
       " 'everyone',\n",
       " '.',\n",
       " 'make',\n",
       " 'lacii',\n",
       " 'feel',\n",
       " 'better',\n",
       " 'by',\n",
       " 'sending',\n",
       " 'tweets',\n",
       " '.',\n",
       " 'or',\n",
       " 'get',\n",
       " 'her',\n",
       " 'a',\n",
       " 'job',\n",
       " '...',\n",
       " 'kidding',\n",
       " 'babe',\n",
       " '.',\n",
       " 'but',\n",
       " 'really',\n",
       " '...',\n",
       " 'the',\n",
       " 'new',\n",
       " 'nfg',\n",
       " 'stuff',\n",
       " 'is',\n",
       " 'awesome..',\n",
       " 'looking',\n",
       " 'at',\n",
       " 'you',\n",
       " 'bigsis',\n",
       " '@',\n",
       " 'itsdarkdaze',\n",
       " ',',\n",
       " '@',\n",
       " 'dannynorthphoto',\n",
       " 'yeah',\n",
       " 'where',\n",
       " 'was',\n",
       " 'my',\n",
       " 'beer',\n",
       " 'too',\n",
       " '?',\n",
       " 'gon',\n",
       " 'na',\n",
       " 'got',\n",
       " 'edit',\n",
       " 'the',\n",
       " 'final',\n",
       " 'ones',\n",
       " 'now',\n",
       " '!',\n",
       " '!',\n",
       " 'cool',\n",
       " '!',\n",
       " '!',\n",
       " '!',\n",
       " 'dont',\n",
       " 'forget',\n",
       " 'the',\n",
       " 'edge',\n",
       " 'this',\n",
       " 'week',\n",
       " '&',\n",
       " 'quot',\n",
       " ';',\n",
       " 'takaki',\n",
       " 'matsuda',\n",
       " '&',\n",
       " 'quot',\n",
       " ';',\n",
       " 'see',\n",
       " 'you',\n",
       " 'later',\n",
       " 'on',\n",
       " 'in',\n",
       " 'the',\n",
       " 'weekend',\n",
       " '@',\n",
       " 'killafunk305',\n",
       " 'i',\n",
       " 'do',\n",
       " \"n't\",\n",
       " 'really',\n",
       " 'like',\n",
       " 'that',\n",
       " 'one',\n",
       " 'though',\n",
       " 'ok',\n",
       " '...',\n",
       " 'now',\n",
       " 'i',\n",
       " 'have',\n",
       " 'tkts',\n",
       " 'for',\n",
       " '2nite',\n",
       " '...',\n",
       " 'fast',\n",
       " 'and',\n",
       " 'the',\n",
       " 'furious',\n",
       " '!',\n",
       " 'hope',\n",
       " 'is',\n",
       " 'great',\n",
       " 'after',\n",
       " 'being',\n",
       " 'sold',\n",
       " 'out',\n",
       " 'for',\n",
       " 'the',\n",
       " 'weekend',\n",
       " '!',\n",
       " '...',\n",
       " '@',\n",
       " 'promodiva',\n",
       " 'awww',\n",
       " '...',\n",
       " 'thanks',\n",
       " '!',\n",
       " 'u',\n",
       " 'just',\n",
       " 'made',\n",
       " 'my',\n",
       " 'day',\n",
       " 'theres',\n",
       " 'a',\n",
       " 'moth',\n",
       " 'in',\n",
       " 'my',\n",
       " 'room',\n",
       " 'whyyyy',\n",
       " 'does',\n",
       " 'bea',\n",
       " 'have',\n",
       " 'to',\n",
       " 'be',\n",
       " 'in',\n",
       " 'nyc',\n",
       " 'and',\n",
       " 'only',\n",
       " 'open',\n",
       " 'to',\n",
       " 'people',\n",
       " 'already',\n",
       " 'in',\n",
       " 'the',\n",
       " 'book',\n",
       " 'industry',\n",
       " '?',\n",
       " '!',\n",
       " '?',\n",
       " '!',\n",
       " 'iiiii',\n",
       " 'wantttt',\n",
       " 'toooo',\n",
       " 'gooooo',\n",
       " 'tweet',\n",
       " 'tweet',\n",
       " 'paca',\n",
       " 'paca',\n",
       " '!',\n",
       " '!',\n",
       " 'i',\n",
       " 'love',\n",
       " 'you',\n",
       " '!',\n",
       " 'blues',\n",
       " 'about',\n",
       " 'to',\n",
       " 'kick',\n",
       " 'off',\n",
       " '-',\n",
       " 'notice',\n",
       " 'everton',\n",
       " 'are',\n",
       " 'above',\n",
       " 'chelsea',\n",
       " 'in',\n",
       " 'trending',\n",
       " 'topics',\n",
       " ',',\n",
       " 'a',\n",
       " 'good',\n",
       " 'omen',\n",
       " 'i',\n",
       " 'hope',\n",
       " 'so',\n",
       " 'excited',\n",
       " 'as',\n",
       " 'my',\n",
       " 'sister',\n",
       " 'is',\n",
       " 'coming',\n",
       " 'to',\n",
       " 'london',\n",
       " 'today',\n",
       " ',',\n",
       " 'i',\n",
       " 'got',\n",
       " 'up',\n",
       " 'really',\n",
       " 'early',\n",
       " 'as',\n",
       " 'i',\n",
       " 'ca',\n",
       " \"n't\",\n",
       " 'wait',\n",
       " 'to',\n",
       " 'see',\n",
       " 'her',\n",
       " 'i',\n",
       " 'may',\n",
       " 'be',\n",
       " '23',\n",
       " ',',\n",
       " 'but',\n",
       " 'thunderstorms',\n",
       " 'still',\n",
       " 'scare',\n",
       " 'me',\n",
       " '!',\n",
       " '!',\n",
       " '!',\n",
       " '@',\n",
       " 'ovenhaven',\n",
       " 'tts',\n",
       " 'so',\n",
       " 'cute',\n",
       " '!',\n",
       " 'and',\n",
       " 'so',\n",
       " 'is',\n",
       " 'she',\n",
       " 'showering',\n",
       " ',',\n",
       " 'atown',\n",
       " 'with',\n",
       " 'daddy',\n",
       " 'later',\n",
       " 'for',\n",
       " 'shopping',\n",
       " ',',\n",
       " 'then',\n",
       " 'out',\n",
       " 'to',\n",
       " 'dinner',\n",
       " 'at',\n",
       " 'grumpy',\n",
       " \"'s\",\n",
       " '@',\n",
       " 'andyclemmensen',\n",
       " 'http',\n",
       " ':',\n",
       " '//twitpic.com/6qeu9',\n",
       " '-',\n",
       " 'emma',\n",
       " '!',\n",
       " 'leave',\n",
       " 'andys',\n",
       " 'hair',\n",
       " 'alone',\n",
       " '!',\n",
       " 'its',\n",
       " 'sexy',\n",
       " 'i',\n",
       " 'love',\n",
       " 'it',\n",
       " 'his',\n",
       " 'hot',\n",
       " 'as',\n",
       " 'his',\n",
       " 'gourgous',\n",
       " 'love',\n",
       " 'you',\n",
       " '...',\n",
       " '@',\n",
       " 'taakeachillpill',\n",
       " 'are',\n",
       " 'you',\n",
       " 'serious',\n",
       " '?',\n",
       " 'you',\n",
       " 'have',\n",
       " 'fever',\n",
       " '?',\n",
       " 'i',\n",
       " '`',\n",
       " 'm',\n",
       " 'so',\n",
       " 'worried',\n",
       " '.',\n",
       " 'get',\n",
       " 'well',\n",
       " 'soon',\n",
       " '!',\n",
       " 'thanks',\n",
       " 'abhi',\n",
       " 'i',\n",
       " 'hope',\n",
       " 'to',\n",
       " 'use',\n",
       " 'it..',\n",
       " 'lets',\n",
       " 'see..on',\n",
       " 'the',\n",
       " 'upside',\n",
       " ',',\n",
       " 'london',\n",
       " 'soon',\n",
       " 'although',\n",
       " 'i',\n",
       " 'miss',\n",
       " 'prom',\n",
       " 'after',\n",
       " 'party/',\n",
       " 'sleepover',\n",
       " 'at',\n",
       " 'kati',\n",
       " \"'s\",\n",
       " 'coz',\n",
       " 'we',\n",
       " \"'re\",\n",
       " 'leaving',\n",
       " 'early',\n",
       " 'the',\n",
       " 'next',\n",
       " 'day',\n",
       " ')',\n",
       " ':',\n",
       " 'from',\n",
       " 'my',\n",
       " 'father',\n",
       " 'in',\n",
       " 'ten',\n",
       " 'years',\n",
       " '.',\n",
       " 'i',\n",
       " 'have',\n",
       " 'made',\n",
       " 'and',\n",
       " 'effort..',\n",
       " 'i',\n",
       " 'doubt',\n",
       " 'it',\n",
       " 'will',\n",
       " 'be',\n",
       " 'any',\n",
       " 'different',\n",
       " 'today',\n",
       " 'is',\n",
       " 'so',\n",
       " 'tired',\n",
       " '.',\n",
       " 'i',\n",
       " 'do',\n",
       " \"n't\",\n",
       " 'want',\n",
       " 'to',\n",
       " 'go',\n",
       " 'to',\n",
       " 'work',\n",
       " 'http',\n",
       " ':',\n",
       " '//plurk.com/p/12r4rbwas',\n",
       " 'in',\n",
       " 'ny',\n",
       " 'for',\n",
       " 'dad',\n",
       " \"'s\",\n",
       " '70th',\n",
       " 'birthday',\n",
       " '&',\n",
       " 'amp',\n",
       " ';',\n",
       " 'lost',\n",
       " 'my',\n",
       " 'iphone',\n",
       " 'on',\n",
       " 'the',\n",
       " 'lirr',\n",
       " 'yesterday',\n",
       " 'really',\n",
       " 'really',\n",
       " 'hope',\n",
       " 'that',\n",
       " 'the',\n",
       " '4-digit',\n",
       " 'lock',\n",
       " 'code',\n",
       " 'does',\n",
       " 'its',\n",
       " 'job',\n",
       " '.',\n",
       " '@',\n",
       " 'whoababywhoa',\n",
       " 'no',\n",
       " 'baby',\n",
       " 'do',\n",
       " \"n't\",\n",
       " 'do',\n",
       " \"n't\",\n",
       " 'shoot',\n",
       " 'urself',\n",
       " '@',\n",
       " 'tmlam_140776',\n",
       " 'less',\n",
       " 'than',\n",
       " 'that',\n",
       " '...',\n",
       " 'less',\n",
       " 'than',\n",
       " '30m',\n",
       " '@',\n",
       " 'oheather78',\n",
       " 'awww',\n",
       " 'now',\n",
       " 'you',\n",
       " \"'re\",\n",
       " 'gon',\n",
       " 'na',\n",
       " 'make',\n",
       " 'me',\n",
       " 'blush',\n",
       " '!',\n",
       " '@',\n",
       " 'twisuz',\n",
       " 'morinng',\n",
       " 'to',\n",
       " 'you',\n",
       " '!',\n",
       " '!',\n",
       " '!',\n",
       " 'my',\n",
       " 'phone',\n",
       " 'isnt',\n",
       " 'working',\n",
       " 'today',\n",
       " 'so',\n",
       " 'i',\n",
       " 'wont',\n",
       " 'be',\n",
       " 'on',\n",
       " 'as',\n",
       " 'often',\n",
       " '!',\n",
       " '!',\n",
       " '@',\n",
       " 'jhatha',\n",
       " 'oh',\n",
       " 'and',\n",
       " 'i',\n",
       " 'will',\n",
       " 'keep',\n",
       " 'you',\n",
       " 'informed',\n",
       " 'of',\n",
       " 'her',\n",
       " 'progress',\n",
       " '.',\n",
       " 'she',\n",
       " \"'s\",\n",
       " 'in',\n",
       " 'radiation',\n",
       " 'this',\n",
       " 'morning',\n",
       " '.',\n",
       " 'gmorning',\n",
       " '~',\n",
       " 'just',\n",
       " 'back',\n",
       " 'from',\n",
       " 'walking',\n",
       " 'with',\n",
       " 'dief',\n",
       " 'now',\n",
       " 'i',\n",
       " 'can',\n",
       " 'start',\n",
       " 'the',\n",
       " 'day',\n",
       " '^^if',\n",
       " 'i',\n",
       " 'have',\n",
       " 'a',\n",
       " 'nightmare',\n",
       " 'about',\n",
       " 'the',\n",
       " 'ruins',\n",
       " 'tonight',\n",
       " 'i',\n",
       " \"'m\",\n",
       " 'going',\n",
       " 'to',\n",
       " 'kill',\n",
       " 'myself',\n",
       " '.',\n",
       " 'seriously',\n",
       " ':',\n",
       " '/',\n",
       " '.',\n",
       " 'sleep',\n",
       " 'with',\n",
       " 'me',\n",
       " 'scare',\n",
       " 'the',\n",
       " 'monsters',\n",
       " 'away',\n",
       " '.',\n",
       " '@',\n",
       " 'thehideawayteam',\n",
       " 'ah',\n",
       " ',',\n",
       " 'never',\n",
       " 'heard',\n",
       " 'that',\n",
       " 'song',\n",
       " '!',\n",
       " 'thanks',\n",
       " 'for',\n",
       " 'sharing',\n",
       " 'it',\n",
       " '!',\n",
       " '@',\n",
       " 'rae_flo',\n",
       " 'after',\n",
       " 'ur',\n",
       " 'comment',\n",
       " 'i',\n",
       " 'checked',\n",
       " 'the',\n",
       " 'weather',\n",
       " 'n',\n",
       " 'its',\n",
       " 'gon',\n",
       " 'rain',\n",
       " 'tomo',\n",
       " 'luckily',\n",
       " 'i',\n",
       " 'didnt',\n",
       " 'wash',\n",
       " 'my',\n",
       " 'car',\n",
       " 'as',\n",
       " 'planned',\n",
       " '2dayhttp',\n",
       " ':',\n",
       " '//blip.fm/home',\n",
       " 'via',\n",
       " '@',\n",
       " 'gpvm',\n",
       " '&',\n",
       " 'quot',\n",
       " ';',\n",
       " 'eyes',\n",
       " 'on',\n",
       " 'fire',\n",
       " '&',\n",
       " 'quot',\n",
       " ';',\n",
       " 'blue',\n",
       " 'foundation',\n",
       " '@',\n",
       " 'jheneaiko',\n",
       " 'http',\n",
       " ':',\n",
       " '//twitpic.com/68kcf',\n",
       " '-',\n",
       " 'she',\n",
       " 'is',\n",
       " 'so',\n",
       " 'adorable',\n",
       " '!',\n",
       " 'nincompoop',\n",
       " '-',\n",
       " 'the',\n",
       " 'unfinished',\n",
       " 'quest',\n",
       " 'gets',\n",
       " 'added',\n",
       " 'to',\n",
       " 'allegro.cc',\n",
       " 'yippee',\n",
       " 'http',\n",
       " ':',\n",
       " '//tinyurl.com/c2gupkwork',\n",
       " 'tomorrow',\n",
       " 'bloody',\n",
       " 'hell',\n",
       " ',',\n",
       " 'why',\n",
       " 'ca',\n",
       " \"n't\",\n",
       " 'i',\n",
       " 'be',\n",
       " 'rich',\n",
       " 'and',\n",
       " 'own',\n",
       " 'an',\n",
       " 'island..',\n",
       " '?',\n",
       " '@',\n",
       " 'jimmyfallon',\n",
       " 'i',\n",
       " \"'m\",\n",
       " 'not',\n",
       " 'sure',\n",
       " 'i',\n",
       " \"'ll\",\n",
       " 'watch',\n",
       " 'leno',\n",
       " 'tonight',\n",
       " '.',\n",
       " 'i',\n",
       " 'ca',\n",
       " \"n't\",\n",
       " 'believe',\n",
       " 'he',\n",
       " \"'s\",\n",
       " 'leaving',\n",
       " 'the',\n",
       " 'tonight',\n",
       " 'show',\n",
       " '...',\n",
       " '@',\n",
       " 'keithgrantham',\n",
       " 'i',\n",
       " 'was',\n",
       " 'there',\n",
       " 'too',\n",
       " '.',\n",
       " 'i',\n",
       " 'did',\n",
       " 'not',\n",
       " 'see',\n",
       " 'you',\n",
       " 'though',\n",
       " 'ã¦',\n",
       " '?',\n",
       " 'â¢ã¤âºâ\\x86ion',\n",
       " ',',\n",
       " 'cmwrapã¤â¹â\\x9fã¥',\n",
       " '?',\n",
       " 'â¯ã¥â\\x8aâ¨ã¤â¹â\\x9fã¥â\\x88â·ã¥â\\x88â·ã§â\\x9aâ\\x84ã¤âºâ\\x86ã¯â¼â\\x8cã¤â¸',\n",
       " '?',\n",
       " 'ã¨â¿â\\x87ã¥â°â±ã¦â\\x98â¯ã¤â¸',\n",
       " '?',\n",
       " 'work',\n",
       " '.',\n",
       " 'yeah',\n",
       " 'i',\n",
       " 'really',\n",
       " 'need',\n",
       " 'a',\n",
       " 'drink',\n",
       " 'about',\n",
       " '5',\n",
       " 'min',\n",
       " 'ago',\n",
       " '.',\n",
       " 'lost',\n",
       " 'my',\n",
       " 'debit',\n",
       " 'card',\n",
       " '@',\n",
       " 'stephcupcakes',\n",
       " 'good',\n",
       " 'luck',\n",
       " 'hunny',\n",
       " '!',\n",
       " '!',\n",
       " '!',\n",
       " '!',\n",
       " '!',\n",
       " 'i',\n",
       " \"'m\",\n",
       " 'good',\n",
       " ',',\n",
       " 'just',\n",
       " 'bored',\n",
       " 'at',\n",
       " 'work',\n",
       " 'as',\n",
       " 'usual',\n",
       " 'and',\n",
       " 'hating',\n",
       " 'the',\n",
       " 'recession',\n",
       " 'daydreaming',\n",
       " 'about',\n",
       " 'le',\n",
       " 'wedding',\n",
       " 'lots',\n",
       " 'omg',\n",
       " ',',\n",
       " 'a',\n",
       " 'few',\n",
       " 'hours',\n",
       " 'to',\n",
       " 'see',\n",
       " 'four',\n",
       " 'of',\n",
       " 'my',\n",
       " 'idols',\n",
       " 'good',\n",
       " 'morning',\n",
       " '!',\n",
       " 'or',\n",
       " 'afternoon',\n",
       " '.',\n",
       " 'i',\n",
       " \"'ve\",\n",
       " 'got',\n",
       " 'a',\n",
       " 'hugeee',\n",
       " 'pimple',\n",
       " 'on',\n",
       " 'my',\n",
       " 'top',\n",
       " 'lip',\n",
       " '.',\n",
       " 'and',\n",
       " 'a',\n",
       " 'cut',\n",
       " 'on',\n",
       " 'the',\n",
       " 'bottom',\n",
       " 'lip',\n",
       " '.',\n",
       " 'grrr',\n",
       " '...',\n",
       " 'not',\n",
       " 'happy',\n",
       " '!',\n",
       " 'phoah',\n",
       " '...',\n",
       " 'it',\n",
       " \"'s\",\n",
       " 'hot',\n",
       " 'outside',\n",
       " 'today',\n",
       " ',',\n",
       " 'now',\n",
       " 'i',\n",
       " 'need',\n",
       " 'an',\n",
       " 'ice',\n",
       " 'coffee',\n",
       " '@',\n",
       " 'absolutelysmall',\n",
       " '-',\n",
       " 'no',\n",
       " 'it',\n",
       " 'is',\n",
       " 'amazing',\n",
       " 'for',\n",
       " 'serious',\n",
       " '!',\n",
       " 'rach',\n",
       " 'is',\n",
       " 'awesome',\n",
       " 'like',\n",
       " 'that',\n",
       " 'though',\n",
       " '-',\n",
       " 'she',\n",
       " 'always',\n",
       " 'does',\n",
       " 'stuff',\n",
       " 'with',\n",
       " 'a',\n",
       " 'bang',\n",
       " 'vs.',\n",
       " 'a',\n",
       " 'pop',\n",
       " 'robin',\n",
       " 'hood',\n",
       " 'was',\n",
       " 'very',\n",
       " 'sad',\n",
       " 'its',\n",
       " 'so',\n",
       " 'cold',\n",
       " 'out',\n",
       " 'today',\n",
       " '.',\n",
       " 'schooool',\n",
       " 'only',\n",
       " '10',\n",
       " 'more',\n",
       " 'days',\n",
       " 'left',\n",
       " '!',\n",
       " '@',\n",
       " 'tommcfly',\n",
       " 'i',\n",
       " 'love',\n",
       " 'to',\n",
       " 'laugh',\n",
       " ',',\n",
       " 'but',\n",
       " 'i',\n",
       " 'do',\n",
       " \"n't\",\n",
       " 'laugh',\n",
       " 'recently',\n",
       " 'but',\n",
       " ',',\n",
       " 'your',\n",
       " 'laughing',\n",
       " 'make',\n",
       " 'me',\n",
       " 'happy',\n",
       " '@',\n",
       " 'zendikar',\n",
       " ':',\n",
       " 'eh',\n",
       " ',',\n",
       " 'wait',\n",
       " 'til',\n",
       " 'next',\n",
       " 'week',\n",
       " 'when',\n",
       " 'official',\n",
       " 'previews',\n",
       " 'start',\n",
       " '.',\n",
       " 'then',\n",
       " 'you',\n",
       " \"'ll\",\n",
       " 'have',\n",
       " 'stuff',\n",
       " 'to',\n",
       " 'talk',\n",
       " 'about',\n",
       " '!',\n",
       " 'i',\n",
       " 'really',\n",
       " 'dont',\n",
       " 'want',\n",
       " 'to',\n",
       " 'clean',\n",
       " 'cbc',\n",
       " 'today',\n",
       " ',',\n",
       " 'i',\n",
       " 'want',\n",
       " 'to',\n",
       " 'sleep',\n",
       " '!',\n",
       " 'ahhhhhh',\n",
       " 'thirteen',\n",
       " 'aww',\n",
       " 'man',\n",
       " ',',\n",
       " 'i',\n",
       " \"'m\",\n",
       " 'out',\n",
       " 'of',\n",
       " 'the',\n",
       " 'super',\n",
       " 'soft',\n",
       " 'kleenexes',\n",
       " 'i',\n",
       " 'am',\n",
       " 'going',\n",
       " 'to',\n",
       " 'read',\n",
       " 'through',\n",
       " 'my',\n",
       " 'entire',\n",
       " 'news',\n",
       " 'feed',\n",
       " 'this',\n",
       " 'morning',\n",
       " 'before',\n",
       " 'that',\n",
       " 'scanner',\n",
       " 'boots',\n",
       " 'up',\n",
       " '.',\n",
       " 'youtube',\n",
       " 'takes',\n",
       " 'way',\n",
       " 'to',\n",
       " 'long',\n",
       " 'to',\n",
       " 'upload',\n",
       " 'the',\n",
       " 'change',\n",
       " 'machine',\n",
       " 'was',\n",
       " \"n't\",\n",
       " 'working',\n",
       " 'at',\n",
       " 'the',\n",
       " 'laundromat',\n",
       " 'i',\n",
       " \"'m\",\n",
       " 'off',\n",
       " 'to',\n",
       " 'set',\n",
       " 'up',\n",
       " 'a',\n",
       " 'delivery',\n",
       " 'time',\n",
       " 'for',\n",
       " 'my',\n",
       " 'new',\n",
       " 'machine',\n",
       " '#',\n",
       " 'fbbored',\n",
       " 'in',\n",
       " 'ict',\n",
       " ',',\n",
       " 'with',\n",
       " 'megaan',\n",
       " 'hungry',\n",
       " ':',\n",
       " 'o',\n",
       " 'x',\n",
       " '@',\n",
       " 'unusual_peanut',\n",
       " 'how',\n",
       " 'very',\n",
       " 'considerate',\n",
       " 'of',\n",
       " 'you',\n",
       " '.',\n",
       " 'noncaringperson',\n",
       " '.',\n",
       " 'thinking',\n",
       " 'of',\n",
       " 'a',\n",
       " 'new',\n",
       " '#',\n",
       " 'charityname',\n",
       " 'is',\n",
       " 'much',\n",
       " 'harder',\n",
       " 'than',\n",
       " 'i',\n",
       " 'thought..',\n",
       " 'new',\n",
       " 'brand',\n",
       " ',',\n",
       " 'new',\n",
       " 'ideas',\n",
       " ',',\n",
       " 'new',\n",
       " 'logo',\n",
       " '.etc',\n",
       " '@',\n",
       " 'recycledfish',\n",
       " 'thank',\n",
       " 'you',\n",
       " 'trying',\n",
       " ',',\n",
       " 'even',\n",
       " 'that',\n",
       " 'is',\n",
       " 'appreciated',\n",
       " 'i',\n",
       " 'have',\n",
       " \"n't\",\n",
       " 'clean',\n",
       " 'my',\n",
       " 'car',\n",
       " 'anymore',\n",
       " '!',\n",
       " 'supposed',\n",
       " 'i',\n",
       " 'could',\n",
       " 'clean',\n",
       " 'it',\n",
       " 'this',\n",
       " 'morning..but',\n",
       " '!',\n",
       " 'i',\n",
       " 'wish',\n",
       " 'every',\n",
       " 'day',\n",
       " 'felt',\n",
       " 'like',\n",
       " 'saturday',\n",
       " ',',\n",
       " 'life',\n",
       " 'would',\n",
       " 'be',\n",
       " 'so',\n",
       " 'easier',\n",
       " 'like',\n",
       " 'the',\n",
       " 'video',\n",
       " 'as',\n",
       " 'well',\n",
       " 'ã\\x97â\\x91ã\\x97â¢ã\\x97â\\x96',\n",
       " 'ã\\x97â\\x91ã\\x97â',\n",
       " ...]"
      ]
     },
     "execution_count": 30,
     "metadata": {},
     "output_type": "execute_result"
    }
   ],
   "source": [
    "vocabulary"
   ]
  },
  {
   "cell_type": "code",
   "execution_count": 31,
   "metadata": {},
   "outputs": [
    {
     "data": {
      "text/plain": [
       "8114560"
      ]
     },
     "execution_count": 31,
     "metadata": {},
     "output_type": "execute_result"
    }
   ],
   "source": [
    "len(vocabulary)"
   ]
  },
  {
   "cell_type": "code",
   "execution_count": null,
   "metadata": {},
   "outputs": [],
   "source": []
  },
  {
   "cell_type": "code",
   "execution_count": 32,
   "metadata": {},
   "outputs": [],
   "source": [
    "from nltk import FreqDist"
   ]
  },
  {
   "cell_type": "code",
   "execution_count": 33,
   "metadata": {},
   "outputs": [],
   "source": [
    "frdis1=FreqDist(vocabulary)"
   ]
  },
  {
   "cell_type": "code",
   "execution_count": 34,
   "metadata": {},
   "outputs": [
    {
     "data": {
      "image/png": "[encoded data removed]",
      "text/plain": [
       "<Figure size 432x288 with 1 Axes>"
      ]
     },
     "metadata": {
      "needs_background": "light"
     },
     "output_type": "display_data"
    },
    {
     "data": {
      "text/plain": [
       "<matplotlib.axes._subplots.AxesSubplot at 0x7f5c0bf9ccf8>"
      ]
     },
     "execution_count": 34,
     "metadata": {},
     "output_type": "execute_result"
    }
   ],
   "source": [
    "frdis1.plot(10)"
   ]
  },
  {
   "cell_type": "code",
   "execution_count": 35,
   "metadata": {},
   "outputs": [],
   "source": [
    "import re\n",
    "s = \"string With @Punctuation? and. @someone with #teeth in 1979 ate people!\"\n",
    "\n",
    "s2=re.sub('\\w*[0-9,#]\\w*|@\\w*|\\.|!', '', s)"
   ]
  },
  {
   "cell_type": "code",
   "execution_count": 36,
   "metadata": {},
   "outputs": [
    {
     "data": {
      "text/plain": [
       "'string With ? and  with  in  ate people'"
      ]
     },
     "execution_count": 36,
     "metadata": {},
     "output_type": "execute_result"
    }
   ],
   "source": [
    "s2"
   ]
  },
  {
   "cell_type": "code",
   "execution_count": 37,
   "metadata": {},
   "outputs": [],
   "source": [
    "filter_all=re.sub('\\w*[0-9,#]\\w*|@\\w*|[!,?,&,£]|\\.', '', allsent)"
   ]
  },
  {
   "cell_type": "code",
   "execution_count": 38,
   "metadata": {},
   "outputs": [],
   "source": [
    "#reg_twitt"
   ]
  },
  {
   "cell_type": "code",
   "execution_count": 39,
   "metadata": {},
   "outputs": [],
   "source": [
    "new_all=nltk.word_tokenize(filter_all)"
   ]
  },
  {
   "cell_type": "code",
   "execution_count": 40,
   "metadata": {},
   "outputs": [],
   "source": [
    "frdis2=FreqDist(new_all)"
   ]
  },
  {
   "cell_type": "code",
   "execution_count": 41,
   "metadata": {},
   "outputs": [
    {
     "data": {
      "image/png": "[encoded data removed]",
      "text/plain": [
       "<Figure size 432x288 with 1 Axes>"
      ]
     },
     "metadata": {
      "needs_background": "light"
     },
     "output_type": "display_data"
    },
    {
     "data": {
      "text/plain": [
       "<matplotlib.axes._subplots.AxesSubplot at 0x7f5bab877e48>"
      ]
     },
     "execution_count": 41,
     "metadata": {},
     "output_type": "execute_result"
    }
   ],
   "source": [
    "frdis2.plot(10)"
   ]
  },
  {
   "cell_type": "code",
   "execution_count": 42,
   "metadata": {},
   "outputs": [],
   "source": [
    "dictionary=set(filter_all)"
   ]
  },
  {
   "cell_type": "code",
   "execution_count": 43,
   "metadata": {},
   "outputs": [],
   "source": [
    "#len(whole_sent),len(twitter)"
   ]
  },
  {
   "cell_type": "code",
   "execution_count": 44,
   "metadata": {},
   "outputs": [
    {
     "data": {
      "text/plain": [
       "500000"
      ]
     },
     "execution_count": 44,
     "metadata": {},
     "output_type": "execute_result"
    }
   ],
   "source": [
    "len(sent)"
   ]
  },
  {
   "cell_type": "code",
   "execution_count": 45,
   "metadata": {},
   "outputs": [],
   "source": [
    "dc={}\n",
    "for i in range(len(whole_sent)):\n",
    "    dc['s{}'.format(i)]=word_tokenize(whole_sent[i])"
   ]
  },
  {
   "cell_type": "code",
   "execution_count": 46,
   "metadata": {},
   "outputs": [],
   "source": [
    "sen_0=[]\n",
    "sen_4=[]\n",
    "for i in range(len(whole_sent)):\n",
    "    if tag[i]==0:\n",
    "        sen_0.append(dc['s{}'.format(i)])\n",
    "    elif tag[i]==4:\n",
    "        sen_4.append(dc['s{}'.format(i)])"
   ]
  },
  {
   "cell_type": "code",
   "execution_count": 47,
   "metadata": {},
   "outputs": [],
   "source": [
    "text_0=set(np.concatenate(sen_0))\n",
    "text_4=set(np.concatenate(sen_4))"
   ]
  },
  {
   "cell_type": "code",
   "execution_count": 48,
   "metadata": {},
   "outputs": [],
   "source": [
    "voc1=set(new_all)"
   ]
  },
  {
   "cell_type": "code",
   "execution_count": 49,
   "metadata": {},
   "outputs": [],
   "source": [
    "def nk(word,given_tag,data):#total number of words whose tag is given_tag\n",
    "    if word not in voc1:\n",
    "        return 0\n",
    "    else:\n",
    "        word_in_sen=[((word in dc['s{}'.format(i)]) and (tag[i]==given_tag)) for i in range(len(data))]\n",
    "        return sum(word_in_sen)\n",
    "        "
   ]
  },
  {
   "cell_type": "code",
   "execution_count": 50,
   "metadata": {},
   "outputs": [
    {
     "data": {
      "text/plain": [
       "0"
      ]
     },
     "execution_count": 50,
     "metadata": {},
     "output_type": "execute_result"
    }
   ],
   "source": [
    "nk('@',4,twitter)"
   ]
  },
  {
   "cell_type": "code",
   "execution_count": 51,
   "metadata": {},
   "outputs": [],
   "source": [
    "def n(given_tag):\n",
    "    if given_tag==0:\n",
    "        return len(text_0)\n",
    "    elif given_tag==4:\n",
    "        return len(text_4)\n",
    "    else:\n",
    "        return 0\n"
   ]
  },
  {
   "cell_type": "code",
   "execution_count": 52,
   "metadata": {},
   "outputs": [],
   "source": [
    "def pr(w,given_tag,data):\n",
    "    n_k=nk(w,given_tag,data)\n",
    "    n_n=n(given_tag)\n",
    "    prob=(n_k+1)/(n_n+len(voc1))\n",
    "    return prob\n",
    "    "
   ]
  },
  {
   "cell_type": "code",
   "execution_count": 53,
   "metadata": {},
   "outputs": [
    {
     "data": {
      "text/plain": [
       "0.02392007676025439"
      ]
     },
     "execution_count": 53,
     "metadata": {},
     "output_type": "execute_result"
    }
   ],
   "source": [
    "pr('back',0,twitter)"
   ]
  },
  {
   "cell_type": "code",
   "execution_count": 54,
   "metadata": {},
   "outputs": [],
   "source": [
    "def sentiment(new,data):\n",
    "    tkn=word_tokenize(new)\n",
    "    p1=1\n",
    "    q1=1\n",
    "    for w in tkn:\n",
    "        p1=p1*pr(w,0,data)\n",
    "        q1=q1*pr(w,4,data)\n",
    "    p1=p(0)*p1\n",
    "    q1=p(4)*q1\n",
    "    if p1>q1:\n",
    "        return \"Negative\"\n",
    "    else:\n",
    "        return \"Positive\""
   ]
  },
  {
   "cell_type": "code",
   "execution_count": 55,
   "metadata": {},
   "outputs": [
    {
     "data": {
      "text/plain": [
       "'Negative'"
      ]
     },
     "execution_count": 55,
     "metadata": {},
     "output_type": "execute_result"
    }
   ],
   "source": [
    "sentiment('i like movie',twitter)"
   ]
  },
  {
   "cell_type": "code",
   "execution_count": 56,
   "metadata": {},
   "outputs": [
    {
     "data": {
      "text/plain": [
       "'Negative'"
      ]
     },
     "execution_count": 56,
     "metadata": {},
     "output_type": "execute_result"
    }
   ],
   "source": [
    "sentiment(\"wow its warm tonight\",twitter)"
   ]
  },
  {
   "cell_type": "code",
   "execution_count": 57,
   "metadata": {},
   "outputs": [
    {
     "data": {
      "text/plain": [
       "'Negative'"
      ]
     },
     "execution_count": 57,
     "metadata": {},
     "output_type": "execute_result"
    }
   ],
   "source": [
    "sentiment(\"I like this movie\",twitter)"
   ]
  },
  {
   "cell_type": "code",
   "execution_count": 58,
   "metadata": {},
   "outputs": [
    {
     "data": {
      "text/plain": [
       "'Negative'"
      ]
     },
     "execution_count": 58,
     "metadata": {},
     "output_type": "execute_result"
    }
   ],
   "source": [
    "sentiment(\"hate\",twitter)"
   ]
  },
  {
   "cell_type": "code",
   "execution_count": 59,
   "metadata": {},
   "outputs": [
    {
     "data": {
      "text/plain": [
       "'Positive'"
      ]
     },
     "execution_count": 59,
     "metadata": {},
     "output_type": "execute_result"
    }
   ],
   "source": [
    "sentiment(\"love\",twitter)"
   ]
  },
  {
   "cell_type": "code",
   "execution_count": null,
   "metadata": {},
   "outputs": [],
   "source": []
  },
  {
   "cell_type": "code",
   "execution_count": null,
   "metadata": {},
   "outputs": [],
   "source": []
  }
 ],
 "metadata": {
  "kernelspec": {
   "display_name": "Python 3",
   "language": "python",
   "name": "python3"
  },
  "language_info": {
   "codemirror_mode": {
    "name": "ipython",
    "version": 3
   },
   "file_extension": ".py",
   "mimetype": "text/x-python",
   "name": "python",
   "nbconvert_exporter": "python",
   "pygments_lexer": "ipython3",
   "version": "3.7.3"
  }
 },
 "nbformat": 4,
 "nbformat_minor": 2
}
