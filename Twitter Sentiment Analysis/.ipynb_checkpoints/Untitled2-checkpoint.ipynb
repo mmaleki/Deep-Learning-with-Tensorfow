{
 "cells": [
  {
   "cell_type": "code",
   "execution_count": 1,
   "metadata": {},
   "outputs": [],
   "source": [
    "import numpy as np\n",
    "import pandas as pd\n",
    "import matplotlib.pyplot as plt\n",
    "from nltk import word_tokenize\n",
    "from nltk import sent_tokenize\n",
    "from nltk import FreqDist\n",
    "from nltk.tokenize import RegexpTokenizer"
   ]
  },
  {
   "cell_type": "code",
   "execution_count": 2,
   "metadata": {},
   "outputs": [],
   "source": [
    "twitter=pd.read_csv('twitter.csv',header=None,encoding='latin-1')"
   ]
  },
  {
   "cell_type": "code",
   "execution_count": 3,
   "metadata": {},
   "outputs": [],
   "source": [
    "twitter=twitter.sample(frac=1)"
   ]
  },
  {
   "cell_type": "code",
   "execution_count": 4,
   "metadata": {},
   "outputs": [],
   "source": [
    "twitter.to_csv('twitter5.csv',header=None)"
   ]
  },
  {
   "cell_type": "code",
   "execution_count": 5,
   "metadata": {},
   "outputs": [],
   "source": [
    "data=pd.read_csv('twitter5.csv',header=None,encoding='latin-1')"
   ]
  },
  {
   "cell_type": "code",
   "execution_count": 6,
   "metadata": {},
   "outputs": [],
   "source": [
    "twitter=data[:500000]"
   ]
  },
  {
   "cell_type": "code",
   "execution_count": 7,
   "metadata": {},
   "outputs": [
    {
     "data": {
      "text/html": [
       "<div>\n",
       "<style scoped>\n",
       "    .dataframe tbody tr th:only-of-type {\n",
       "        vertical-align: middle;\n",
       "    }\n",
       "\n",
       "    .dataframe tbody tr th {\n",
       "        vertical-align: top;\n",
       "    }\n",
       "\n",
       "    .dataframe thead th {\n",
       "        text-align: right;\n",
       "    }\n",
       "</style>\n",
       "<table border=\"1\" class=\"dataframe\">\n",
       "  <thead>\n",
       "    <tr style=\"text-align: right;\">\n",
       "      <th></th>\n",
       "      <th>0</th>\n",
       "      <th>1</th>\n",
       "      <th>2</th>\n",
       "      <th>3</th>\n",
       "      <th>4</th>\n",
       "      <th>5</th>\n",
       "      <th>6</th>\n",
       "    </tr>\n",
       "  </thead>\n",
       "  <tbody>\n",
       "    <tr>\n",
       "      <th>0</th>\n",
       "      <td>1200851</td>\n",
       "      <td>4</td>\n",
       "      <td>1985574428</td>\n",
       "      <td>Sun May 31 17:21:59 PDT 2009</td>\n",
       "      <td>NO_QUERY</td>\n",
       "      <td>kaitfoley</td>\n",
       "      <td>@anasqtiesh this is informal US English we're ...</td>\n",
       "    </tr>\n",
       "    <tr>\n",
       "      <th>1</th>\n",
       "      <td>498563</td>\n",
       "      <td>0</td>\n",
       "      <td>2186245511</td>\n",
       "      <td>Mon Jun 15 18:33:51 PDT 2009</td>\n",
       "      <td>NO_QUERY</td>\n",
       "      <td>ImJenBunny</td>\n",
       "      <td>I'm super really hot.</td>\n",
       "    </tr>\n",
       "    <tr>\n",
       "      <th>2</th>\n",
       "      <td>26186</td>\n",
       "      <td>0</td>\n",
       "      <td>1558641460</td>\n",
       "      <td>Sun Apr 19 08:59:10 PDT 2009</td>\n",
       "      <td>NO_QUERY</td>\n",
       "      <td>hazelcoleman94</td>\n",
       "      <td>@rhia_mara Yeah same. History tomorrow</td>\n",
       "    </tr>\n",
       "    <tr>\n",
       "      <th>3</th>\n",
       "      <td>83081</td>\n",
       "      <td>0</td>\n",
       "      <td>1753246997</td>\n",
       "      <td>Sun May 10 00:44:44 PDT 2009</td>\n",
       "      <td>NO_QUERY</td>\n",
       "      <td>putriputreey</td>\n",
       "      <td>@saffanah same like you nih   what we do tomor...</td>\n",
       "    </tr>\n",
       "    <tr>\n",
       "      <th>4</th>\n",
       "      <td>1504598</td>\n",
       "      <td>4</td>\n",
       "      <td>2072207039</td>\n",
       "      <td>Sun Jun 07 20:35:28 PDT 2009</td>\n",
       "      <td>NO_QUERY</td>\n",
       "      <td>Madddd_</td>\n",
       "      <td>@admirableashlee uh i cant tell you that but y...</td>\n",
       "    </tr>\n",
       "    <tr>\n",
       "      <th>5</th>\n",
       "      <td>975691</td>\n",
       "      <td>4</td>\n",
       "      <td>1833546468</td>\n",
       "      <td>Sun May 17 23:38:18 PDT 2009</td>\n",
       "      <td>NO_QUERY</td>\n",
       "      <td>KishaLynn</td>\n",
       "      <td>@The_Leedog yep.    it works for me.</td>\n",
       "    </tr>\n",
       "    <tr>\n",
       "      <th>6</th>\n",
       "      <td>139153</td>\n",
       "      <td>0</td>\n",
       "      <td>1880739625</td>\n",
       "      <td>Fri May 22 02:19:46 PDT 2009</td>\n",
       "      <td>NO_QUERY</td>\n",
       "      <td>Jadey93</td>\n",
       "      <td>is watchin jeremy kyle, feelin rough</td>\n",
       "    </tr>\n",
       "  </tbody>\n",
       "</table>\n",
       "</div>"
      ],
      "text/plain": [
       "         0  1           2                             3         4  \\\n",
       "0  1200851  4  1985574428  Sun May 31 17:21:59 PDT 2009  NO_QUERY   \n",
       "1   498563  0  2186245511  Mon Jun 15 18:33:51 PDT 2009  NO_QUERY   \n",
       "2    26186  0  1558641460  Sun Apr 19 08:59:10 PDT 2009  NO_QUERY   \n",
       "3    83081  0  1753246997  Sun May 10 00:44:44 PDT 2009  NO_QUERY   \n",
       "4  1504598  4  2072207039  Sun Jun 07 20:35:28 PDT 2009  NO_QUERY   \n",
       "5   975691  4  1833546468  Sun May 17 23:38:18 PDT 2009  NO_QUERY   \n",
       "6   139153  0  1880739625  Fri May 22 02:19:46 PDT 2009  NO_QUERY   \n",
       "\n",
       "                5                                                  6  \n",
       "0       kaitfoley  @anasqtiesh this is informal US English we're ...  \n",
       "1      ImJenBunny                             I'm super really hot.   \n",
       "2  hazelcoleman94            @rhia_mara Yeah same. History tomorrow   \n",
       "3    putriputreey  @saffanah same like you nih   what we do tomor...  \n",
       "4         Madddd_  @admirableashlee uh i cant tell you that but y...  \n",
       "5       KishaLynn               @The_Leedog yep.    it works for me.  \n",
       "6         Jadey93              is watchin jeremy kyle, feelin rough   "
      ]
     },
     "execution_count": 7,
     "metadata": {},
     "output_type": "execute_result"
    }
   ],
   "source": [
    "twitter.head(7)"
   ]
  },
  {
   "cell_type": "code",
   "execution_count": 8,
   "metadata": {},
   "outputs": [],
   "source": [
    "tag=twitter[1]\n",
    "sen=twitter[6]"
   ]
  },
  {
   "cell_type": "code",
   "execution_count": 9,
   "metadata": {},
   "outputs": [],
   "source": [
    "sent=[sen[i].lower() for i in range(len(twitter))]"
   ]
  },
  {
   "cell_type": "code",
   "execution_count": 10,
   "metadata": {},
   "outputs": [],
   "source": [
    "def p(v):\n",
    "    temp=len(tag[tag==v])\n",
    "    prob=temp/len(twitter)\n",
    "    return prob"
   ]
  },
  {
   "cell_type": "code",
   "execution_count": 11,
   "metadata": {},
   "outputs": [
    {
     "data": {
      "text/plain": [
       "0.500124"
      ]
     },
     "execution_count": 11,
     "metadata": {},
     "output_type": "execute_result"
    }
   ],
   "source": [
    "p(0)"
   ]
  },
  {
   "cell_type": "code",
   "execution_count": 12,
   "metadata": {},
   "outputs": [
    {
     "data": {
      "text/plain": [
       "0.499876"
      ]
     },
     "execution_count": 12,
     "metadata": {},
     "output_type": "execute_result"
    }
   ],
   "source": [
    "p(4)"
   ]
  },
  {
   "cell_type": "code",
   "execution_count": 13,
   "metadata": {},
   "outputs": [],
   "source": [
    "def concatData(size):\n",
    "    ls={}\n",
    "    for i in range(size):\n",
    "        ls['l{}'.format(i)]=''\n",
    "        for s in sent[i*100000:(i+1)*100000]:\n",
    "            ls['l{}'.format(i)]=s+ls['l{}'.format(i)]\n",
    "    l=''\n",
    "    for i in range(size):\n",
    "        l=ls['l{}'.format(i)]+l\n",
    "    return l"
   ]
  },
  {
   "cell_type": "code",
   "execution_count": 14,
   "metadata": {},
   "outputs": [],
   "source": [
    "l=concatData(4)"
   ]
  },
  {
   "cell_type": "code",
   "execution_count": 15,
   "metadata": {},
   "outputs": [],
   "source": [
    "allsent=l"
   ]
  },
  {
   "cell_type": "code",
   "execution_count": 16,
   "metadata": {},
   "outputs": [],
   "source": [
    "vocabulary=word_tokenize(allsent)"
   ]
  },
  {
   "cell_type": "code",
   "execution_count": 18,
   "metadata": {},
   "outputs": [],
   "source": [
    "#vocabulary"
   ]
  },
  {
   "cell_type": "code",
   "execution_count": 19,
   "metadata": {},
   "outputs": [],
   "source": [
    "import re\n",
    "s='sent with @punct and? @someone with #teeth ate people in 1979! and 3.14 is pi number'\n",
    "s2=re.sub('\\w*[0-9]\\w*|@\\w*|[!,?,#,~,&,%,£]|\\.','',s)"
   ]
  },
  {
   "cell_type": "code",
   "execution_count": 20,
   "metadata": {},
   "outputs": [
    {
     "data": {
      "text/plain": [
       "'sent with  and  with teeth ate people in  and  is pi number'"
      ]
     },
     "execution_count": 20,
     "metadata": {},
     "output_type": "execute_result"
    }
   ],
   "source": [
    "s2"
   ]
  },
  {
   "cell_type": "code",
   "execution_count": 21,
   "metadata": {},
   "outputs": [],
   "source": [
    "filter_all=re.sub('\\w*[0-9]\\w*|@\\w*|[!,?,#,~,&,%,£]|\\.','',allsent)"
   ]
  },
  {
   "cell_type": "code",
   "execution_count": 22,
   "metadata": {},
   "outputs": [],
   "source": [
    "#filter_all"
   ]
  },
  {
   "cell_type": "code",
   "execution_count": 23,
   "metadata": {},
   "outputs": [],
   "source": [
    "new_all=word_tokenize(filter_all)"
   ]
  },
  {
   "cell_type": "code",
   "execution_count": 24,
   "metadata": {},
   "outputs": [],
   "source": [
    "frdis=FreqDist(new_all)"
   ]
  },
  {
   "cell_type": "code",
   "execution_count": 25,
   "metadata": {},
   "outputs": [
    {
     "data": {
      "image/png": "[encoded data removed]",
      "text/plain": [
       "<Figure size 432x288 with 1 Axes>"
      ]
     },
     "metadata": {
      "needs_background": "light"
     },
     "output_type": "display_data"
    },
    {
     "data": {
      "text/plain": [
       "<matplotlib.axes._subplots.AxesSubplot at 0x7fcd96b61940>"
      ]
     },
     "execution_count": 25,
     "metadata": {},
     "output_type": "execute_result"
    }
   ],
   "source": [
    "frdis.plot(10)"
   ]
  },
  {
   "cell_type": "code",
   "execution_count": 26,
   "metadata": {},
   "outputs": [],
   "source": [
    "dictionary=set(filter_all)"
   ]
  },
  {
   "cell_type": "code",
   "execution_count": 27,
   "metadata": {},
   "outputs": [],
   "source": [
    "whole_sent=np.concatenate([sent])"
   ]
  },
  {
   "cell_type": "code",
   "execution_count": 28,
   "metadata": {},
   "outputs": [],
   "source": [
    "dc={}\n",
    "for i in range(len(whole_sent)):\n",
    "    dc['s{}'.format(i)]=word_tokenize(whole_sent[i])\n"
   ]
  },
  {
   "cell_type": "code",
   "execution_count": 29,
   "metadata": {},
   "outputs": [],
   "source": [
    "sent_0=[]\n",
    "sent_4=[]\n",
    "for i in range(len(whole_sent)):\n",
    "    if tag[i]==0:\n",
    "        sent_0.append(dc['s{}'.format(i)])\n",
    "    elif tag[i]==4:\n",
    "        sent_4.append(dc['s{}'.format(i)])\n",
    "        \n",
    "        "
   ]
  },
  {
   "cell_type": "code",
   "execution_count": 30,
   "metadata": {},
   "outputs": [],
   "source": [
    "text_0=set(np.concatenate(sent_0))\n",
    "text_4=set(np.concatenate(sent_4))"
   ]
  },
  {
   "cell_type": "code",
   "execution_count": 31,
   "metadata": {},
   "outputs": [],
   "source": [
    "voc1=set(new_all)"
   ]
  },
  {
   "cell_type": "code",
   "execution_count": 32,
   "metadata": {},
   "outputs": [],
   "source": [
    "#word_0"
   ]
  },
  {
   "cell_type": "markdown",
   "metadata": {},
   "source": [
    "$$p(word|C_k)$$"
   ]
  },
  {
   "cell_type": "code",
   "execution_count": 33,
   "metadata": {},
   "outputs": [],
   "source": [
    "def nk(word,given_tag,data):\n",
    "    if word not in voc1:\n",
    "        return 0\n",
    "    else:\n",
    "        word_in_sen=[(word in dc['s{}'.format(i)]) and (tag[i]==given_tag) for i in range(len(data))]\n",
    "        return sum(word_in_sen)"
   ]
  },
  {
   "cell_type": "code",
   "execution_count": 34,
   "metadata": {},
   "outputs": [
    {
     "data": {
      "text/plain": [
       "1487"
      ]
     },
     "execution_count": 34,
     "metadata": {},
     "output_type": "execute_result"
    }
   ],
   "source": [
    "nk('find',4,twitter)"
   ]
  },
  {
   "cell_type": "code",
   "execution_count": 35,
   "metadata": {},
   "outputs": [],
   "source": [
    "def n(given_tag):\n",
    "    if given_tag==0:\n",
    "        return len(text_0)\n",
    "    elif given_tag==4:\n",
    "        return len(text_4)\n",
    "    else:\n",
    "        return 0"
   ]
  },
  {
   "cell_type": "code",
   "execution_count": 36,
   "metadata": {},
   "outputs": [],
   "source": [
    "def pr(w,given_tag,data):\n",
    "    n_k=nk(w,given_tag,data)\n",
    "    n_n=n(given_tag)\n",
    "    prob=(n_k+1)/(n_n+len(voc1))\n",
    "    return prob"
   ]
  },
  {
   "cell_type": "code",
   "execution_count": 37,
   "metadata": {},
   "outputs": [
    {
     "data": {
      "text/plain": [
       "2.56554321529269e-06"
      ]
     },
     "execution_count": 37,
     "metadata": {},
     "output_type": "execute_result"
    }
   ],
   "source": [
    "pr('@',0,twitter)"
   ]
  },
  {
   "cell_type": "code",
   "execution_count": 38,
   "metadata": {},
   "outputs": [],
   "source": [
    "def sentiment(new,data):\n",
    "    tkn=word_tokenize(new)\n",
    "    p1=p(0)\n",
    "    q1=p(4)\n",
    "    for w in tkn:\n",
    "        p1=p1*pr(w,0,data)\n",
    "        q1=q1*pr(w,4,data)\n",
    "        \n",
    "    if p1>q1:\n",
    "        return \"Sentence is Negative\"\n",
    "    else:\n",
    "        return \"Sentence is Positive\"\n",
    "    \n",
    "    \n",
    "    "
   ]
  },
  {
   "cell_type": "code",
   "execution_count": 39,
   "metadata": {},
   "outputs": [
    {
     "data": {
      "text/plain": [
       "'Sentence is Positive'"
      ]
     },
     "execution_count": 39,
     "metadata": {},
     "output_type": "execute_result"
    }
   ],
   "source": [
    "sentiment('I love nature',twitter)"
   ]
  },
  {
   "cell_type": "code",
   "execution_count": 45,
   "metadata": {},
   "outputs": [
    {
     "data": {
      "text/plain": [
       "'Sentence is Positive'"
      ]
     },
     "execution_count": 45,
     "metadata": {},
     "output_type": "execute_result"
    }
   ],
   "source": [
    "sentiment('trust',twitter)"
   ]
  },
  {
   "cell_type": "code",
   "execution_count": null,
   "metadata": {},
   "outputs": [],
   "source": []
  }
 ],
 "metadata": {
  "kernelspec": {
   "display_name": "Python 3",
   "language": "python",
   "name": "python3"
  },
  "language_info": {
   "codemirror_mode": {
    "name": "ipython",
    "version": 3
   },
   "file_extension": ".py",
   "mimetype": "text/x-python",
   "name": "python",
   "nbconvert_exporter": "python",
   "pygments_lexer": "ipython3",
   "version": "3.7.3"
  }
 },
 "nbformat": 4,
 "nbformat_minor": 2
}
