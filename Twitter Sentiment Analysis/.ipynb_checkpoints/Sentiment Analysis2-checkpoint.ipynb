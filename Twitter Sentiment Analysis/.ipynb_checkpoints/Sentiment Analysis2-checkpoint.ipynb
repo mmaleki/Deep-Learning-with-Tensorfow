{
 "cells": [
  {
   "cell_type": "code",
   "execution_count": 1,
   "metadata": {},
   "outputs": [],
   "source": [
    "import numpy as np\n",
    "import pandas as pd\n",
    "import matplotlib.pyplot as plt\n",
    "import nltk\n",
    "from nltk import word_tokenize\n",
    "from nltk import sent_tokenize"
   ]
  },
  {
   "cell_type": "code",
   "execution_count": 2,
   "metadata": {},
   "outputs": [],
   "source": [
    "twitter=pd.read_csv('twitter.csv',header=None,encoding='latin-1')"
   ]
  },
  {
   "cell_type": "code",
   "execution_count": 3,
   "metadata": {},
   "outputs": [],
   "source": [
    "twitter=twitter.sample(frac=1)"
   ]
  },
  {
   "cell_type": "code",
   "execution_count": 4,
   "metadata": {},
   "outputs": [],
   "source": [
    "twitter.to_csv(\"twitter3.csv\",header=None)"
   ]
  },
  {
   "cell_type": "code",
   "execution_count": 5,
   "metadata": {},
   "outputs": [],
   "source": [
    "twitter=pd.read_csv('twitter3.csv',header=None,encoding='latin-1')"
   ]
  },
  {
   "cell_type": "code",
   "execution_count": 6,
   "metadata": {},
   "outputs": [],
   "source": [
    "twitter=twitter[:500000]"
   ]
  },
  {
   "cell_type": "code",
   "execution_count": 7,
   "metadata": {},
   "outputs": [
    {
     "data": {
      "text/html": [
       "<div>\n",
       "<style scoped>\n",
       "    .dataframe tbody tr th:only-of-type {\n",
       "        vertical-align: middle;\n",
       "    }\n",
       "\n",
       "    .dataframe tbody tr th {\n",
       "        vertical-align: top;\n",
       "    }\n",
       "\n",
       "    .dataframe thead th {\n",
       "        text-align: right;\n",
       "    }\n",
       "</style>\n",
       "<table border=\"1\" class=\"dataframe\">\n",
       "  <thead>\n",
       "    <tr style=\"text-align: right;\">\n",
       "      <th></th>\n",
       "      <th>0</th>\n",
       "      <th>1</th>\n",
       "      <th>2</th>\n",
       "      <th>3</th>\n",
       "      <th>4</th>\n",
       "      <th>5</th>\n",
       "      <th>6</th>\n",
       "    </tr>\n",
       "  </thead>\n",
       "  <tbody>\n",
       "    <tr>\n",
       "      <th>0</th>\n",
       "      <td>638217</td>\n",
       "      <td>0</td>\n",
       "      <td>2234397387</td>\n",
       "      <td>Thu Jun 18 22:58:59 PDT 2009</td>\n",
       "      <td>NO_QUERY</td>\n",
       "      <td>edashwood</td>\n",
       "      <td>On my way to work,btw it's 8 at morning in Ger...</td>\n",
       "    </tr>\n",
       "    <tr>\n",
       "      <th>1</th>\n",
       "      <td>310252</td>\n",
       "      <td>0</td>\n",
       "      <td>2001068452</td>\n",
       "      <td>Mon Jun 01 23:45:00 PDT 2009</td>\n",
       "      <td>NO_QUERY</td>\n",
       "      <td>josrox</td>\n",
       "      <td>@Sarcia sorry! I've been busy so haven't even ...</td>\n",
       "    </tr>\n",
       "    <tr>\n",
       "      <th>2</th>\n",
       "      <td>741527</td>\n",
       "      <td>0</td>\n",
       "      <td>2266288730</td>\n",
       "      <td>Sun Jun 21 08:14:37 PDT 2009</td>\n",
       "      <td>NO_QUERY</td>\n",
       "      <td>mmckayylaa</td>\n",
       "      <td>@ELLEohhELLExxx i know  we need to start texti...</td>\n",
       "    </tr>\n",
       "    <tr>\n",
       "      <th>3</th>\n",
       "      <td>876991</td>\n",
       "      <td>4</td>\n",
       "      <td>1684874865</td>\n",
       "      <td>Sat May 02 22:19:00 PDT 2009</td>\n",
       "      <td>NO_QUERY</td>\n",
       "      <td>littlejojoe</td>\n",
       "      <td>@AJEntertainment and I'm here aswell looking a...</td>\n",
       "    </tr>\n",
       "    <tr>\n",
       "      <th>4</th>\n",
       "      <td>1124080</td>\n",
       "      <td>4</td>\n",
       "      <td>1974609374</td>\n",
       "      <td>Sat May 30 13:29:03 PDT 2009</td>\n",
       "      <td>NO_QUERY</td>\n",
       "      <td>ShayBears</td>\n",
       "      <td>One of six people to gets callback</td>\n",
       "    </tr>\n",
       "  </tbody>\n",
       "</table>\n",
       "</div>"
      ],
      "text/plain": [
       "         0  1           2                             3         4  \\\n",
       "0   638217  0  2234397387  Thu Jun 18 22:58:59 PDT 2009  NO_QUERY   \n",
       "1   310252  0  2001068452  Mon Jun 01 23:45:00 PDT 2009  NO_QUERY   \n",
       "2   741527  0  2266288730  Sun Jun 21 08:14:37 PDT 2009  NO_QUERY   \n",
       "3   876991  4  1684874865  Sat May 02 22:19:00 PDT 2009  NO_QUERY   \n",
       "4  1124080  4  1974609374  Sat May 30 13:29:03 PDT 2009  NO_QUERY   \n",
       "\n",
       "             5                                                  6  \n",
       "0    edashwood  On my way to work,btw it's 8 at morning in Ger...  \n",
       "1       josrox  @Sarcia sorry! I've been busy so haven't even ...  \n",
       "2   mmckayylaa  @ELLEohhELLExxx i know  we need to start texti...  \n",
       "3  littlejojoe  @AJEntertainment and I'm here aswell looking a...  \n",
       "4    ShayBears                One of six people to gets callback   "
      ]
     },
     "execution_count": 7,
     "metadata": {},
     "output_type": "execute_result"
    }
   ],
   "source": [
    "twitter.head(5)"
   ]
  },
  {
   "cell_type": "code",
   "execution_count": 8,
   "metadata": {},
   "outputs": [],
   "source": [
    "sen=twitter[6]"
   ]
  },
  {
   "cell_type": "code",
   "execution_count": 9,
   "metadata": {},
   "outputs": [
    {
     "data": {
      "text/plain": [
       "'@ELLEohhELLExxx i know  we need to start texting/fb or some shit. &lt;3'"
      ]
     },
     "execution_count": 9,
     "metadata": {},
     "output_type": "execute_result"
    }
   ],
   "source": [
    "twitter[6][2]"
   ]
  },
  {
   "cell_type": "code",
   "execution_count": 10,
   "metadata": {},
   "outputs": [],
   "source": [
    "sent=[sen[i].lower() for i in range(len(twitter))]"
   ]
  },
  {
   "cell_type": "code",
   "execution_count": 66,
   "metadata": {},
   "outputs": [],
   "source": [
    "tag=twitter[1]"
   ]
  },
  {
   "cell_type": "code",
   "execution_count": 67,
   "metadata": {},
   "outputs": [
    {
     "data": {
      "text/plain": [
       "4"
      ]
     },
     "execution_count": 67,
     "metadata": {},
     "output_type": "execute_result"
    }
   ],
   "source": [
    "twitter[1][2]"
   ]
  },
  {
   "cell_type": "code",
   "execution_count": 68,
   "metadata": {},
   "outputs": [
    {
     "data": {
      "text/plain": [
       "500000"
      ]
     },
     "execution_count": 68,
     "metadata": {},
     "output_type": "execute_result"
    }
   ],
   "source": [
    "len(twitter)"
   ]
  },
  {
   "cell_type": "code",
   "execution_count": 69,
   "metadata": {},
   "outputs": [],
   "source": [
    "def p(v):\n",
    "    return len(tag[tag==v])/(len(twitter))"
   ]
  },
  {
   "cell_type": "code",
   "execution_count": 70,
   "metadata": {},
   "outputs": [
    {
     "data": {
      "text/plain": [
       "0.499894"
      ]
     },
     "execution_count": 70,
     "metadata": {},
     "output_type": "execute_result"
    }
   ],
   "source": [
    "p(0)"
   ]
  },
  {
   "cell_type": "code",
   "execution_count": 71,
   "metadata": {},
   "outputs": [
    {
     "data": {
      "text/plain": [
       "0.500106"
      ]
     },
     "execution_count": 71,
     "metadata": {},
     "output_type": "execute_result"
    }
   ],
   "source": [
    "p(4)"
   ]
  },
  {
   "cell_type": "code",
   "execution_count": 72,
   "metadata": {},
   "outputs": [],
   "source": [
    "ls={}\n",
    "for i in range(4):\n",
    "    ls[\"l{}\".format(i)]=''\n",
    "    for s in sent[i*100000:(i+1)*100000]:\n",
    "        ls[\"l{}\".format(i)]=s+ls[\"l{}\".format(i)]\n",
    "    "
   ]
  },
  {
   "cell_type": "code",
   "execution_count": null,
   "metadata": {},
   "outputs": [],
   "source": []
  },
  {
   "cell_type": "code",
   "execution_count": 73,
   "metadata": {},
   "outputs": [],
   "source": [
    "l=''\n",
    "for i in range(4):\n",
    "    l=ls['l{}'.format(i)]+l"
   ]
  },
  {
   "cell_type": "code",
   "execution_count": 74,
   "metadata": {},
   "outputs": [],
   "source": [
    "vocabulary=word_tokenize(l)"
   ]
  },
  {
   "cell_type": "code",
   "execution_count": 75,
   "metadata": {},
   "outputs": [
    {
     "data": {
      "text/plain": [
       "['@', 'kittehhh', 'awww', 'i', 'am', 'too', '.', 'lolz', '@', 'jdohy']"
      ]
     },
     "execution_count": 75,
     "metadata": {},
     "output_type": "execute_result"
    }
   ],
   "source": [
    "vocabulary[:10]"
   ]
  },
  {
   "cell_type": "code",
   "execution_count": 76,
   "metadata": {},
   "outputs": [
    {
     "data": {
      "text/plain": [
       "6514527"
      ]
     },
     "execution_count": 76,
     "metadata": {},
     "output_type": "execute_result"
    }
   ],
   "source": [
    "len(vocabulary)"
   ]
  },
  {
   "cell_type": "code",
   "execution_count": 77,
   "metadata": {},
   "outputs": [],
   "source": [
    "voc=set(vocabulary)"
   ]
  },
  {
   "cell_type": "code",
   "execution_count": 78,
   "metadata": {},
   "outputs": [
    {
     "data": {
      "text/plain": [
       "311428"
      ]
     },
     "execution_count": 78,
     "metadata": {},
     "output_type": "execute_result"
    }
   ],
   "source": [
    "len(voc)"
   ]
  },
  {
   "cell_type": "code",
   "execution_count": 79,
   "metadata": {},
   "outputs": [
    {
     "data": {
      "text/plain": [
       "{'fashionesedaily',\n",
       " 'yaawasting',\n",
       " 'popjudaica.and',\n",
       " 'frowning',\n",
       " '//twitpic.com/6o15e',\n",
       " 'carriehill',\n",
       " '//baxiabhishek.info/yaymen/7',\n",
       " 'tonight.ahh',\n",
       " 'alexalltimelow',\n",
       " 'smokeless',\n",
       " 'lightsnoise',\n",
       " 'really2',\n",
       " 'lauraechilds',\n",
       " 'paintbrush',\n",
       " 'wedding.visit',\n",
       " 'robpattz_addict',\n",
       " 'again.packed',\n",
       " 'hovered',\n",
       " '710am',\n",
       " 'lisa_mccoy',\n",
       " 'sad.come',\n",
       " 'volvic',\n",
       " 'lexlamont',\n",
       " 'sooooooooooooooooooo',\n",
       " 'rahat',\n",
       " 'richter',\n",
       " 'oepn',\n",
       " 'meter',\n",
       " 'footinmouth',\n",
       " 'nikkii',\n",
       " 'groundskeeper',\n",
       " 'fightycat',\n",
       " 'countrymusiclvr',\n",
       " 'hikss',\n",
       " 'dayhmm',\n",
       " 'andy_seddon',\n",
       " 'amsterdan',\n",
       " 'neldaffodil',\n",
       " 'mase',\n",
       " 'slashdot',\n",
       " 'qronoz',\n",
       " 'merylincise',\n",
       " 'lolactually',\n",
       " 'perdana',\n",
       " 'cã\\x83â©li',\n",
       " 'mikeystrength',\n",
       " 'jungleegirl',\n",
       " 'lolinsommnia',\n",
       " '8pm-close',\n",
       " 'kady',\n",
       " 'dnacowboy',\n",
       " 'magazine',\n",
       " 'lisatron',\n",
       " 'symptom',\n",
       " 'jpi',\n",
       " 'hehemy',\n",
       " 'batmitza',\n",
       " '-nadzhmm',\n",
       " 'macintom',\n",
       " 'tarah',\n",
       " 'www.farttr.com',\n",
       " 'shmeaton',\n",
       " 'friend.so',\n",
       " 'mandapants',\n",
       " 'supposing',\n",
       " 'incwell',\n",
       " 'kpft',\n",
       " '33is',\n",
       " 'lies',\n",
       " '//digg.com/u14ikb',\n",
       " 'ashleyrthompson',\n",
       " 'mediavixen',\n",
       " 'heyapprceiate',\n",
       " 'rella',\n",
       " 'seemissd',\n",
       " 'sayruhfosho',\n",
       " 'kknyrass',\n",
       " 'yulianasari',\n",
       " 'internet',\n",
       " 'heauiheiuaheiae',\n",
       " 'stlm',\n",
       " 'oparks5683',\n",
       " 'jennidunnreed',\n",
       " 'turnip',\n",
       " 'mikey_nw19',\n",
       " 'realdustinmoody',\n",
       " 'verdi',\n",
       " '//blip.fm/~7ooca',\n",
       " 'hannahhurrle',\n",
       " 'emyquant',\n",
       " 'w498',\n",
       " 'katrchrdsn',\n",
       " 'cutenesstv',\n",
       " 'shwars',\n",
       " 'intruder',\n",
       " 'o/s',\n",
       " '//bit.ly/lfnuljust',\n",
       " 'eleesha',\n",
       " \"have'nt\",\n",
       " 'plusss',\n",
       " 'rusoul',\n",
       " 'gd900',\n",
       " 'navy-prom',\n",
       " 'apologies',\n",
       " 'grasshoppers',\n",
       " 'person.hols',\n",
       " 'siiiiiiiick',\n",
       " 'picshaving',\n",
       " 'curvaceousdee',\n",
       " 'vasser40',\n",
       " 'calypsominerals',\n",
       " 'pianofingerz',\n",
       " 'enforce',\n",
       " 'tnt-one',\n",
       " 'whyyyyyyyy',\n",
       " '378/391',\n",
       " 'taylormadeinc',\n",
       " 'dethrone',\n",
       " 'bstoy',\n",
       " 'thelarderlout',\n",
       " 'agentbooth',\n",
       " 'southridge',\n",
       " 'buries',\n",
       " 'briitttanyyyy',\n",
       " 'sakurasyaoran',\n",
       " 'oinking',\n",
       " '//twitpic.com/675q8',\n",
       " 'lovly',\n",
       " 'markcrilley',\n",
       " 'jpadilla_',\n",
       " 'pastorclinton',\n",
       " 'escaping',\n",
       " 'man.late',\n",
       " 'freshtodeath',\n",
       " 'andysgoodelife',\n",
       " '//twitpic.com/7i9xl',\n",
       " 'janine345',\n",
       " '//bit.ly/s0oze',\n",
       " 'mnm',\n",
       " '//twitpic.com/4w7yp',\n",
       " 'mortengregersen',\n",
       " 'ceriq',\n",
       " 'franka2000',\n",
       " 'oklahoman',\n",
       " 'emilyss2086',\n",
       " 'wafflesgirls',\n",
       " 'robynn94',\n",
       " 'perfyes',\n",
       " 'magyar',\n",
       " 'poder',\n",
       " 'sands',\n",
       " 'marci',\n",
       " 'mlment',\n",
       " 'thegraysadie',\n",
       " 'miz_j_rock',\n",
       " 'peytonluvsjoe',\n",
       " 'geeexballin',\n",
       " 'a5eeran',\n",
       " 'tokyo_pearl',\n",
       " 'randomdayslolx',\n",
       " 'lastnight',\n",
       " 'talkinq',\n",
       " 'bazbruce',\n",
       " 'physigory',\n",
       " 'oppinite',\n",
       " 'protip',\n",
       " 'jencook522',\n",
       " 'etphonehome42',\n",
       " '//twitpic.com/6d6ri',\n",
       " 'gentleman_luke',\n",
       " 'pitchy',\n",
       " 'meomoriesssyooo',\n",
       " 'pradmilly',\n",
       " 'bootsie',\n",
       " 'blakeybelle',\n",
       " 'b4',\n",
       " 'panget',\n",
       " '2awkward',\n",
       " 'alisynh',\n",
       " 'allyxox',\n",
       " 'nuuww',\n",
       " 'niiicolebby',\n",
       " 'cathygellis',\n",
       " 'bofflespoffle',\n",
       " 'natgeo',\n",
       " 'katip',\n",
       " 'xoxotwinsiekinz',\n",
       " 'forgets',\n",
       " 'suf',\n",
       " 'ã¢â\\x99âª',\n",
       " 'pieta',\n",
       " 'wttttf',\n",
       " 'fail.says',\n",
       " 'coloronline',\n",
       " '11wdnick',\n",
       " 'william9999',\n",
       " 'ohhkayla',\n",
       " 'sabe',\n",
       " 'hottieeees',\n",
       " 'giã¡âºâ¥c',\n",
       " '-kp',\n",
       " '/hate',\n",
       " 'fershizzy',\n",
       " 'tinyurl.com/nu6qrs',\n",
       " 'sizeeating',\n",
       " 'lemontcalhoun',\n",
       " '//blip.fm/~5jbohmashable',\n",
       " 'peeeps',\n",
       " 'relys',\n",
       " 'iceasfire',\n",
       " 'paul_werewolf',\n",
       " 'odie',\n",
       " 'dougbellenger',\n",
       " 'dementia',\n",
       " 'omfg_leah',\n",
       " 'mes',\n",
       " 'crashes',\n",
       " 'wealthy23',\n",
       " 'markget',\n",
       " 'stilettoes',\n",
       " '//tinyurl.com/lb59oc',\n",
       " 'jayrunway',\n",
       " 'hufff',\n",
       " 'honeydip206',\n",
       " 'lezzles',\n",
       " 'missfarrah',\n",
       " 'leighsh',\n",
       " 'ã\\x90âºã\\x91â\\x80ã\\x90â°ã\\x91',\n",
       " 'undivided',\n",
       " 'betcha',\n",
       " '//blip.fm/~7eb3fhey',\n",
       " 'zeldaphan',\n",
       " 'ikasper',\n",
       " 'door-to-door',\n",
       " '520',\n",
       " 'ã',\n",
       " 'ciaomari',\n",
       " 'timecavs',\n",
       " 'officily',\n",
       " 'biggb973',\n",
       " 'trademarking',\n",
       " '//short.to/fr5ci',\n",
       " 'tsmm',\n",
       " 'synching',\n",
       " 'lotgoing',\n",
       " 'emesky',\n",
       " 'itsmissatl',\n",
       " 'hj1georg',\n",
       " 'koz',\n",
       " 'sparksthetoby',\n",
       " 'alluring',\n",
       " 'eviiiiiiiil',\n",
       " 'wow.just',\n",
       " 'fmlyou',\n",
       " 'jonas-',\n",
       " 'greatscott',\n",
       " 'ã\\x90â\\x9bã\\x91â\\x8cã\\x90â²ã\\x90â¾ã\\x90â²ã\\x90âµ',\n",
       " 'skunked',\n",
       " 'safs',\n",
       " 'tussauds',\n",
       " 'day-guess',\n",
       " 'batcavehotbox',\n",
       " 'tradus',\n",
       " 'notep',\n",
       " 'winning',\n",
       " 'zombiefarmer',\n",
       " 'gjdhdwveue',\n",
       " 'tomdelonge',\n",
       " 'stephenackroyd',\n",
       " 'jphamilton',\n",
       " 'couriered',\n",
       " 'australia=here',\n",
       " 'konas',\n",
       " 'pohrã¯â¿â½l',\n",
       " 'resssssst',\n",
       " 'quick',\n",
       " 'dreadboyz',\n",
       " '~smiles~i',\n",
       " 'philcoyne',\n",
       " 'aceman808',\n",
       " 'mebplanner',\n",
       " 'www.ifuseekmusic.com',\n",
       " '48hrs',\n",
       " 'primates',\n",
       " 'aljd',\n",
       " 'eternelle',\n",
       " 'lolchem',\n",
       " 'pecota',\n",
       " \"'theory\",\n",
       " 'abbeyemm',\n",
       " 'stevie-g.',\n",
       " 'raina14',\n",
       " 'exaaams',\n",
       " 'rachtaylor',\n",
       " 'kristaboo',\n",
       " 'aeonhack',\n",
       " 'aaahhhhhhhhh',\n",
       " 'kuzumochi',\n",
       " 'kamarichelsea',\n",
       " 'axl',\n",
       " 'tammy85',\n",
       " 'hawwwwwt',\n",
       " 'efron',\n",
       " 'blossoming',\n",
       " 'neopetless',\n",
       " 'eew',\n",
       " 'romance',\n",
       " 'hellivina',\n",
       " 'konstellation',\n",
       " 'cursedjezzy',\n",
       " 'ambershine29',\n",
       " 'daelement',\n",
       " 'ã\\x84â\\x91ã\\x83â³',\n",
       " 'grenacher',\n",
       " \"'sin\",\n",
       " 'freshmen08',\n",
       " 'nicoletta',\n",
       " 'lawrencedudley',\n",
       " 'emmyatl',\n",
       " 'remeber',\n",
       " 'ellisblackman',\n",
       " 'adaptations',\n",
       " 'auchentrae',\n",
       " 'coupon',\n",
       " 'jahzielcarleen',\n",
       " 'flossgenius',\n",
       " 'cardcaptors',\n",
       " '5erg',\n",
       " 'coff',\n",
       " 'ragingquiet26',\n",
       " 'jbruggers',\n",
       " 'fireing',\n",
       " 'trueshellz',\n",
       " 'vanitiiluv',\n",
       " 'bananasgoround',\n",
       " 'iasuhfiysafygasifgs',\n",
       " 'sarahsdandelion',\n",
       " 'hahalast',\n",
       " 'delerium',\n",
       " 'happen.no',\n",
       " 'vicious696',\n",
       " 'ã\\x98â¹ã\\x99â\\x8aã\\x99â\\x86',\n",
       " 'burnaway',\n",
       " 'lemington',\n",
       " 'zita',\n",
       " 'honey',\n",
       " 'jeopardize',\n",
       " 'beaugiles',\n",
       " 'chotu',\n",
       " 'suzysak',\n",
       " 'le_macabroso',\n",
       " 'rinkesh621',\n",
       " 'deta',\n",
       " 'laundrylane',\n",
       " 'impound',\n",
       " 'emmabaggadonuts',\n",
       " 'malinnabarbie',\n",
       " 'manics',\n",
       " 'cmtwitterhouse',\n",
       " 'passi0n',\n",
       " 'katieburson',\n",
       " 'daitchan',\n",
       " 'michaeldinoff',\n",
       " 'ng',\n",
       " 'workstough',\n",
       " 'alfie',\n",
       " 'alwaysdumhi',\n",
       " 'fortman',\n",
       " 'ephramyfan',\n",
       " 'old-middle',\n",
       " 'aii',\n",
       " 'teedramosesthere',\n",
       " 'lakeeffectskid',\n",
       " 'twitstick',\n",
       " 'dealyay',\n",
       " 'batting',\n",
       " 'rawritsbryony',\n",
       " '//tumblr.com/xhc1wyl2mis',\n",
       " 'sharted',\n",
       " 'tiskkk',\n",
       " 'ohsleepyhead',\n",
       " 'sargent_peppers',\n",
       " 'cã¡âºâ¡nh',\n",
       " 'late-already',\n",
       " 'yeahhpp',\n",
       " 'attemting',\n",
       " 'gps-trace',\n",
       " 'xoxohayley',\n",
       " 'rosee',\n",
       " 'taragon',\n",
       " 'operaplot',\n",
       " 'thattrying',\n",
       " 'maternalspark',\n",
       " 'revisee',\n",
       " 'abbyjohns',\n",
       " 'bryanpford',\n",
       " '//www.pgatour.com/r/leaderboard/going',\n",
       " 'musicalangel911',\n",
       " 'aryans',\n",
       " 'ongo',\n",
       " 'formulag2',\n",
       " 'shoots',\n",
       " 'pannora',\n",
       " 'ddrdark',\n",
       " 'fbwow',\n",
       " 'lurre',\n",
       " 'teach_beach',\n",
       " 'h0tcommodity',\n",
       " 'ugghhhh',\n",
       " 'are.you',\n",
       " 'bealocwealm',\n",
       " 'brennanrusnell',\n",
       " '//twitpic.com/6ub3n',\n",
       " 'angryrobotbooks',\n",
       " \"'oul\",\n",
       " 'ã\\x90â\\x92ã\\x90â¿ã\\x90âµã\\x91â\\x80ã\\x90â²ã\\x91â\\x8bã\\x90âµ',\n",
       " 'lynellmarie',\n",
       " 'rshanableh',\n",
       " 'stupidtroll',\n",
       " '//tinyurl.com/d39x4ni',\n",
       " 'stockwell',\n",
       " 'peeeeee',\n",
       " '//www.thirteen23.com/experiences/desktop/blu/',\n",
       " \"'tweetie\",\n",
       " 'tonight/tomorrow',\n",
       " 'adorkable_zarah',\n",
       " 'song.the',\n",
       " 'godparents',\n",
       " 'timeroseanne',\n",
       " 'breanaskiles',\n",
       " 'stinabeana10',\n",
       " 'smts41',\n",
       " 'unlimited',\n",
       " 'canonchristine',\n",
       " 'fmp',\n",
       " 'jllovesjesus-crust',\n",
       " 'v23heartsxf',\n",
       " 'djmeeks',\n",
       " 'longport',\n",
       " 'hajjar',\n",
       " 'paintgrl',\n",
       " '//riphertoshreds.wordpress.com/i',\n",
       " 'pauliesantilli',\n",
       " 'gazpacho',\n",
       " 'lelame',\n",
       " 'samjane',\n",
       " 'wks',\n",
       " 'dismantle',\n",
       " 'hmc',\n",
       " 'chichi',\n",
       " 'nextgenradio',\n",
       " 'pancha',\n",
       " '23gs',\n",
       " 'nima',\n",
       " 'arthwollipot',\n",
       " 'hal_pomeranz',\n",
       " 'winston',\n",
       " 'muffins',\n",
       " 'skrobertson',\n",
       " '//plurk.com/p/ytrw3',\n",
       " '//twitpic.com/86fp1',\n",
       " 'cafetaria',\n",
       " 'graduation-related',\n",
       " 'pour',\n",
       " 'sgcatalyst',\n",
       " 'kimlegge',\n",
       " 'ncltweetup',\n",
       " 'reidsan',\n",
       " 'cloth',\n",
       " 'saraahpcd',\n",
       " 'ciskowasapirate',\n",
       " 'nazli',\n",
       " 'myinnerjules',\n",
       " 'royally',\n",
       " 'luckwent',\n",
       " 'darkmatter',\n",
       " 'maryssfromparis',\n",
       " 'hinduism',\n",
       " '//blip.fm/~7jptajust',\n",
       " 'og_nitty',\n",
       " 'umployed',\n",
       " 'together.waiting',\n",
       " '49key',\n",
       " 'comforts',\n",
       " 'r1ckr1ckr1ck',\n",
       " 'mrgrtbarr',\n",
       " 'know/',\n",
       " '70mph',\n",
       " 'phewww',\n",
       " 'ashburn',\n",
       " 'demirox613',\n",
       " 'codebase',\n",
       " 'mellon__',\n",
       " 'mã\\x83âµnusa',\n",
       " '//myloc.me/55dgsomething',\n",
       " 'suptabinator',\n",
       " 'u-da-mon',\n",
       " 'jewelss',\n",
       " '//twitpic.com/471l3',\n",
       " 'bnelsonn',\n",
       " 'esmie',\n",
       " '_anshul',\n",
       " 'engrossed',\n",
       " 'paneer',\n",
       " 'entreprini',\n",
       " '3000miles',\n",
       " 'bedfail',\n",
       " 'adama',\n",
       " 'chst',\n",
       " 'cynicalpixie',\n",
       " 'boysnightout899',\n",
       " 'vedddy',\n",
       " 'wmhsrebelmom',\n",
       " 'washboard',\n",
       " 'lejeanbart',\n",
       " 'duncn',\n",
       " 'cinqo',\n",
       " 'putes',\n",
       " '//twitpic.com/69mgi',\n",
       " 'yworking',\n",
       " 'nosulragal',\n",
       " 'sbksha',\n",
       " 'giftofbreath',\n",
       " 'www.mizsmith.com',\n",
       " 'bluebirds',\n",
       " 'list.hubby',\n",
       " 'teebs33',\n",
       " 'bslistener',\n",
       " 'emma_balletbabe',\n",
       " 'earlybird44',\n",
       " 'less',\n",
       " 'xothanx',\n",
       " 'fishball/isaw',\n",
       " 'nigguhs',\n",
       " 'dylancuthbert',\n",
       " 'yakinthon',\n",
       " 'ffshout',\n",
       " 'college-',\n",
       " 'outis',\n",
       " '//twitpic.com/6bpaq',\n",
       " 'syazanaa',\n",
       " 'ericksilvas',\n",
       " 'kahapon',\n",
       " 'camillethejonas',\n",
       " 'dominicpotter1',\n",
       " '//bit.ly/idycn',\n",
       " 'prohibit',\n",
       " 'onthelow',\n",
       " 'fuhub',\n",
       " 'bajahyena',\n",
       " 'prosser',\n",
       " 'sirgrant618',\n",
       " 'aaarghhh',\n",
       " 'climbfind',\n",
       " 'betch.',\n",
       " '.m2t',\n",
       " 'ã¢â\\x98â´',\n",
       " 'kempequine',\n",
       " 'wyland',\n",
       " 'burdock',\n",
       " 'participants',\n",
       " 'sarahjbray',\n",
       " 'mundoo',\n",
       " '//www.nowtoronto.com/daily/story.cfm',\n",
       " '//bit.ly/qq2hw',\n",
       " 'warroirs150',\n",
       " 'happinessiseasy',\n",
       " 'mikeinsd77',\n",
       " 'mousewings',\n",
       " 'destinations',\n",
       " '//plurk.com/p/132jkythinking',\n",
       " 'shaunmichaelb',\n",
       " 'missyau',\n",
       " 'howe',\n",
       " 'ã\\x8eâ\\x91ã\\x8eâ½',\n",
       " 'shermaineee',\n",
       " 'frolicking',\n",
       " 'xxfound',\n",
       " 'airstreams',\n",
       " 'lungs',\n",
       " 'twazack',\n",
       " 'fairgrounds',\n",
       " 'ivanbernat',\n",
       " 'awp',\n",
       " 'pure.come',\n",
       " 'faceplates',\n",
       " '20-30min',\n",
       " 'lol.in',\n",
       " 'suckis',\n",
       " '//twitpic.com/6smxrnew',\n",
       " 'irawq',\n",
       " 'sariyille',\n",
       " 'druconus',\n",
       " 'kruzty',\n",
       " 'espngirl2',\n",
       " 'saturated',\n",
       " 'laylakayleigh',\n",
       " 'governors',\n",
       " 'odessy',\n",
       " 'electic',\n",
       " '//tinyurl.com/qptl8f',\n",
       " 'teckinika',\n",
       " 'kuniyoshi',\n",
       " 'peacee',\n",
       " 'afteeer',\n",
       " 'lewicka',\n",
       " 'i-95',\n",
       " 'hangoverfinnaly',\n",
       " 'soome',\n",
       " 'pjaramirez16',\n",
       " 'greek85goddess',\n",
       " 'mommmma',\n",
       " 'lewisbeechey',\n",
       " '//apps.facebook.com/dogbook/profile/view/5163638jus',\n",
       " 'w/one',\n",
       " 'tshirts',\n",
       " 'mother.',\n",
       " '1500+',\n",
       " 'onehmm',\n",
       " 'ollieparsley.com',\n",
       " 'bardavon',\n",
       " 'messeges',\n",
       " 'gangland',\n",
       " 'soundtrack-y',\n",
       " '_i_am_jack_',\n",
       " 'sammy_ammy_ooh',\n",
       " 'knocternal',\n",
       " 'naughtyallie',\n",
       " 'bicyclehabitat',\n",
       " 'met',\n",
       " 'richardmackney',\n",
       " 'rnaganuma',\n",
       " 'gertrude',\n",
       " '//twitter.com/amelia_aye',\n",
       " 'northernskeptic',\n",
       " 'shekhar',\n",
       " 'nickspov',\n",
       " 'kdenise',\n",
       " 'diverted',\n",
       " 'wizardgold',\n",
       " 'carolynabolt',\n",
       " 'lovebollywood',\n",
       " 'gotsa',\n",
       " 'stfu_',\n",
       " 'diamondhead94',\n",
       " 'room-',\n",
       " \"'power\",\n",
       " '//plurk.com/p/rjvdcjob',\n",
       " 'wirah',\n",
       " 'scooby_gritboys',\n",
       " 'larrycarroll',\n",
       " 'im',\n",
       " '//plurk.com/p/vgdyc',\n",
       " 'ashiketchum',\n",
       " 'melbee85',\n",
       " '558',\n",
       " 'gracefulstalker',\n",
       " 'dj_phat',\n",
       " 'bkramer17',\n",
       " 'butterface',\n",
       " '//twitpic.com/4wwohultimately',\n",
       " 'syammasri',\n",
       " 'hand-in',\n",
       " 'kenneyjacob',\n",
       " 'mrsbee12',\n",
       " 'melissaljonas',\n",
       " 'cooold',\n",
       " 't_nuh',\n",
       " '//twitpic.com/6qkp1',\n",
       " 'sharonhowell',\n",
       " '//bit.ly/11f6az',\n",
       " 'retires',\n",
       " 'exclusive',\n",
       " 'mike_dodson',\n",
       " 'vic',\n",
       " 'ageees',\n",
       " 'skillzhurachi',\n",
       " 'sunrisenz',\n",
       " 'smile.initiation',\n",
       " 'waltbabyluv83',\n",
       " 'awesome_steve',\n",
       " 'yveshanoulle',\n",
       " 'peterocc',\n",
       " 'birbrilo',\n",
       " \"'entry\",\n",
       " \"y'all.social\",\n",
       " 'linettejo',\n",
       " 'hahahaim',\n",
       " 'kenkostick',\n",
       " 'jbagley',\n",
       " 'trapes',\n",
       " \"'honey\",\n",
       " 'jono',\n",
       " 'advisory',\n",
       " 'lipsynching',\n",
       " 'tonyvirtual',\n",
       " 'duskdargent',\n",
       " 't_ricia',\n",
       " 'etta',\n",
       " 'whoops.bed',\n",
       " 'sandwitches.bought',\n",
       " 'gottn',\n",
       " 'hphillips94',\n",
       " 'think_beyond',\n",
       " \"'flagged\",\n",
       " 'shirlyhardjono',\n",
       " 'kraftleuchte',\n",
       " 'easy1126',\n",
       " 'biscuits',\n",
       " 'christina4683',\n",
       " 'www.crystaldollies.com',\n",
       " 'repro',\n",
       " '//mypict.me/tmpi',\n",
       " 'viggo',\n",
       " '5920g',\n",
       " 'duber',\n",
       " 'bmdakin',\n",
       " 'amypalko',\n",
       " 'jopsonb',\n",
       " 'nowhates',\n",
       " 'â¸ã\\xadâ\\x95â\\x9cã',\n",
       " 'vibrates',\n",
       " 'yayyyyyyyyyyyyyyyyyyyyyyyyyyyyyyyyyyyyyyyyyyyyyyyy',\n",
       " 'cashout',\n",
       " \"'id3\",\n",
       " 'kbethlee',\n",
       " 'goldennnn',\n",
       " 'enjoy',\n",
       " 'bhas',\n",
       " 'worlddddd',\n",
       " 'ginovalencia',\n",
       " 'trishaashley',\n",
       " 'squidwizard',\n",
       " 'xxfb',\n",
       " 'snookfisherman',\n",
       " 'jizbsb',\n",
       " 'kgrey38',\n",
       " 'haresh',\n",
       " 'refreshments',\n",
       " 'pro-active',\n",
       " 'k12',\n",
       " 'basking',\n",
       " 'alexjr85',\n",
       " 'oklittle',\n",
       " 'booohooo',\n",
       " 'billymonks',\n",
       " 'cathbx',\n",
       " 'gpg',\n",
       " 'paramoreband',\n",
       " 'soneones',\n",
       " 'ginaheartsnkotb',\n",
       " 'yum.in',\n",
       " 'exceted',\n",
       " 'annaelizc',\n",
       " 'lowkey',\n",
       " 'ibabycurlzi',\n",
       " 'babybird',\n",
       " 'mbaas',\n",
       " 'tho.wishes',\n",
       " 'mmarquit',\n",
       " ',ggrrr',\n",
       " 'seahorsemystic',\n",
       " 'mlb.com',\n",
       " 'naa',\n",
       " '12.05.08',\n",
       " 'wach',\n",
       " 'attagirl11',\n",
       " 'rovedaily',\n",
       " '//twitpic.com/6dio2',\n",
       " 'fujin_',\n",
       " 'mobilphone',\n",
       " 'auntywainright',\n",
       " 'sweetzofficial',\n",
       " 'masyadong',\n",
       " 'jenai',\n",
       " 'quesmoney',\n",
       " 'courtcosmetics',\n",
       " 'wy_licious',\n",
       " '//twitpic.com/69asz',\n",
       " 'im1',\n",
       " 'smeone',\n",
       " 'matthewpruitt',\n",
       " '//tinyurl.com/mluhzwjust',\n",
       " 'quã¯â¿â½',\n",
       " 'tomlapille',\n",
       " 'abortionists',\n",
       " 'firescarecrow',\n",
       " 'malcolli',\n",
       " 'pao_villacastin',\n",
       " 'amyg__x',\n",
       " '//tr.im/nh48so',\n",
       " 'jjacobowitz',\n",
       " 'justdancewivme',\n",
       " 'ys2alni',\n",
       " 'yungjuggz',\n",
       " 'old_soul_song',\n",
       " 'jkevolution',\n",
       " 'britdior',\n",
       " 'glamorousjess',\n",
       " '//www.tektek.org/avatar/27675236',\n",
       " 'â\\x8bit',\n",
       " 'cutieit',\n",
       " 're-blip',\n",
       " '//ff.im/2c4gsmorning',\n",
       " 'marlenewells',\n",
       " 'onlywade',\n",
       " 'pus',\n",
       " 'capiz',\n",
       " '//twitpic.com/6cfdu',\n",
       " 'acheivements',\n",
       " 'â\\x95â\\x8c',\n",
       " 'rrrrroooooaaaaarrrrr',\n",
       " 'ones.still',\n",
       " 'hannahbeck8',\n",
       " 'entupido',\n",
       " 'heatherblount',\n",
       " 'yfeofficial',\n",
       " 'g0ddessbaby',\n",
       " 'northpoint',\n",
       " 'preethzzz',\n",
       " 'mommybeebee',\n",
       " \"what'chu\",\n",
       " 'harleywonderpug',\n",
       " 'hexlord',\n",
       " 'hongrraaaay',\n",
       " 'xjonberg',\n",
       " 'harknesslabs',\n",
       " 'cameraboy56',\n",
       " 'mickykewwy',\n",
       " '//plurk.com/p/stq3fthe',\n",
       " 'hepburn',\n",
       " 'supermissing',\n",
       " 'srna',\n",
       " 'prebacila',\n",
       " 'lã¯â¿â½c',\n",
       " 'otalialess',\n",
       " 'gayy',\n",
       " 'teal64',\n",
       " 'twentysixcats',\n",
       " 'taas-palda',\n",
       " 'ojasil',\n",
       " 'water-day',\n",
       " 'plans',\n",
       " \"'head-slain\",\n",
       " 'eddie_poole',\n",
       " 'you.wtf',\n",
       " 'bunnieblog',\n",
       " 'awesun',\n",
       " 'takinganewtack',\n",
       " 'twitter.lol',\n",
       " 'fantastically',\n",
       " 'dammit.is',\n",
       " 'ooooooooooo',\n",
       " 'pottering',\n",
       " 'phpmyadmin',\n",
       " 'neighborhoood',\n",
       " 'right-',\n",
       " 'surprisingly-',\n",
       " 'tiffunnyfranco',\n",
       " 'pa.',\n",
       " 'kennutter',\n",
       " 'hours.i',\n",
       " 'kellyg5',\n",
       " 'sexciii',\n",
       " 'rarity',\n",
       " '.hows',\n",
       " 'emilio',\n",
       " 'xx_jessicab_xx',\n",
       " 'leed',\n",
       " 'isbtat',\n",
       " 'marysolm',\n",
       " 'racheal0920',\n",
       " 'kitschensink',\n",
       " 'www.mtprinceton.org',\n",
       " 'chemicalzombie',\n",
       " 'tw1tt3rr4t1ng',\n",
       " 'idledays',\n",
       " 'knbtfm',\n",
       " 'funhouse_',\n",
       " 'yoyoyogurt',\n",
       " 'freshyung21',\n",
       " 'devynbaron',\n",
       " 'partytime',\n",
       " 'stock.wanted',\n",
       " 'loll',\n",
       " 'sumtype',\n",
       " 'theghost',\n",
       " 'piginthepoke',\n",
       " 'erinjanus',\n",
       " 'juillet',\n",
       " 'ossia',\n",
       " 'overallbeauty',\n",
       " 'hsm',\n",
       " 'emshu8',\n",
       " 'shovelling',\n",
       " 'hermie',\n",
       " 'theaã¢â\\x99â¥',\n",
       " 'nipper',\n",
       " '//migre.me/1gbk',\n",
       " 'birfday',\n",
       " '//twitpic.com/6a5kj',\n",
       " 'jiriteach',\n",
       " 'udahan',\n",
       " 'ã\\x82â£1700',\n",
       " 'appriciated',\n",
       " 'krahl',\n",
       " 'minuet',\n",
       " 'glorify',\n",
       " '//twitpic.com/6sfqb',\n",
       " 'immeria',\n",
       " \"s'cool\",\n",
       " 'underwire',\n",
       " 'agreenberg',\n",
       " '//twitpic.com/6orc8',\n",
       " 'ormeau',\n",
       " 'hasslin',\n",
       " 'skaar',\n",
       " 'kidscrafts',\n",
       " 'studnet',\n",
       " '4fauxfr',\n",
       " 'dede',\n",
       " 'chiiip',\n",
       " \"'crossroads\",\n",
       " 'ã\\x97â\\x91ã\\x97â\\x94ã\\x97â¦ã\\x97â\\x9cã\\x97â\\x97ã\\x97â\\x94',\n",
       " 'plainte',\n",
       " 'eh-',\n",
       " 'jensuelang',\n",
       " 'jern',\n",
       " 'anmathews7154',\n",
       " 'jabogan',\n",
       " \"'invalid\",\n",
       " 'protean1',\n",
       " 'atreides322',\n",
       " 'mjinak',\n",
       " 'awakening',\n",
       " '96lbbaby',\n",
       " 'rhettneckga',\n",
       " 'aesiron',\n",
       " 'ã¢â\\x99â¥ã¢â\\x99â¡',\n",
       " 'ayrmitch',\n",
       " 'copiedandpastedno',\n",
       " 'diex',\n",
       " 'cozylady',\n",
       " 'delivery',\n",
       " 'appleton',\n",
       " 'greenlasagna',\n",
       " 'discomaulvi',\n",
       " 'meggan88',\n",
       " 'co-players',\n",
       " 'architects',\n",
       " 'ellens',\n",
       " '12+v',\n",
       " 'wancornelius',\n",
       " 'gracefully',\n",
       " 'cucking',\n",
       " 'atã\\x83â©',\n",
       " 'finallllly',\n",
       " 'ã\\x98â\\x9fã\\x98â\\x9fã\\x98â\\x9f',\n",
       " 'ceji',\n",
       " 'lawraa',\n",
       " 'hosea24hours',\n",
       " 'winespectator',\n",
       " 'rum4life',\n",
       " 'mrsstudmuffin',\n",
       " 'ceciliaa_',\n",
       " 'jiggawhatjulie',\n",
       " 'health',\n",
       " 'fiino',\n",
       " 'chefmaxient',\n",
       " 'whacky',\n",
       " 'eleniepoulos',\n",
       " 'clashcityrocker',\n",
       " 'twasnt',\n",
       " '//plurk.com/p/xe5diconsider',\n",
       " 'exprnce',\n",
       " 'heroesobsessed',\n",
       " 'nieman',\n",
       " 'lastday',\n",
       " 'years.thanks',\n",
       " 'bagelry',\n",
       " 'rainbowdonkeys',\n",
       " 'lifeless',\n",
       " 'expire',\n",
       " 'shankargan',\n",
       " 'screencaps',\n",
       " 'mamy',\n",
       " '//twitpic.com/6t1ou',\n",
       " 'jorbajorsa',\n",
       " 'xanthe',\n",
       " 'phishing',\n",
       " 'smilin808hapa',\n",
       " 'jsem',\n",
       " 'webireland',\n",
       " 'natashastabler',\n",
       " '1045',\n",
       " 'sky',\n",
       " 'perenna',\n",
       " 'checkedeeda',\n",
       " 'felonita',\n",
       " 'dragonmystic',\n",
       " ...}"
      ]
     },
     "execution_count": 79,
     "metadata": {},
     "output_type": "execute_result"
    }
   ],
   "source": [
    "voc"
   ]
  },
  {
   "cell_type": "code",
   "execution_count": 80,
   "metadata": {},
   "outputs": [],
   "source": [
    "fr1=nltk.FreqDist(vocabulary)"
   ]
  },
  {
   "cell_type": "code",
   "execution_count": 81,
   "metadata": {},
   "outputs": [
    {
     "data": {
      "image/png": "[encoded data removed]",
      "text/plain": [
       "<Figure size 432x288 with 1 Axes>"
      ]
     },
     "metadata": {
      "needs_background": "light"
     },
     "output_type": "display_data"
    },
    {
     "data": {
      "text/plain": [
       "<matplotlib.axes._subplots.AxesSubplot at 0x7fbe829effd0>"
      ]
     },
     "execution_count": 81,
     "metadata": {},
     "output_type": "execute_result"
    }
   ],
   "source": [
    "fr1.plot(20)"
   ]
  },
  {
   "cell_type": "code",
   "execution_count": 82,
   "metadata": {},
   "outputs": [],
   "source": [
    "fr2=nltk.FreqDist(voc)"
   ]
  },
  {
   "cell_type": "code",
   "execution_count": 83,
   "metadata": {},
   "outputs": [
    {
     "data": {
      "image/png": "[encoded data removed]",
      "text/plain": [
       "<Figure size 432x288 with 1 Axes>"
      ]
     },
     "metadata": {
      "needs_background": "light"
     },
     "output_type": "display_data"
    },
    {
     "data": {
      "text/plain": [
       "<matplotlib.axes._subplots.AxesSubplot at 0x7fbe8091d390>"
      ]
     },
     "execution_count": 83,
     "metadata": {},
     "output_type": "execute_result"
    }
   ],
   "source": [
    "fr2.plot(10)"
   ]
  },
  {
   "cell_type": "code",
   "execution_count": 84,
   "metadata": {},
   "outputs": [
    {
     "data": {
      "text/plain": [
       "False"
      ]
     },
     "execution_count": 84,
     "metadata": {},
     "output_type": "execute_result"
    }
   ],
   "source": [
    "'times' in word_tokenize(sent[2])"
   ]
  },
  {
   "cell_type": "code",
   "execution_count": 85,
   "metadata": {},
   "outputs": [],
   "source": [
    "#word=[('times' in word_tokenize(sent[i])) and (tag[i]==0) for i in range(len(twitter))]"
   ]
  },
  {
   "cell_type": "code",
   "execution_count": 86,
   "metadata": {},
   "outputs": [],
   "source": [
    "#sum(word)"
   ]
  },
  {
   "cell_type": "code",
   "execution_count": 87,
   "metadata": {},
   "outputs": [],
   "source": [
    "def nk(word,given_tag):#total number of words whose tag is given_tag\n",
    "    word_in_sen=[((word in word_tokenize(sent[i])) and (tag[i]==given_tag)) for i in range(len(twitter))]\n",
    "    nj=sum(word_in_sen)\n",
    "    return nj"
   ]
  },
  {
   "cell_type": "code",
   "execution_count": 88,
   "metadata": {},
   "outputs": [
    {
     "data": {
      "text/plain": [
       "1200"
      ]
     },
     "execution_count": 88,
     "metadata": {},
     "output_type": "execute_result"
    }
   ],
   "source": [
    "nk('times',4)"
   ]
  },
  {
   "cell_type": "code",
   "execution_count": 109,
   "metadata": {},
   "outputs": [
    {
     "data": {
      "text/plain": [
       "3         glad i followed instincts to come today cos no...\n",
       "4         nervous about my new job tomorrow.  i have com...\n",
       "5         @_Daniellaaa, summer with you is going to be a...\n",
       "6         @watchout4snakes great news - go, sara!!  my b...\n",
       "8         why are finance questions so long winded? argh...\n",
       "                                ...                        \n",
       "499991    @anatty The OC is awesome, I miss it  It start...\n",
       "499992    @carolc5 how was church? getting ready to head...\n",
       "499993    Home alone for a. Few hours but no xbox  mom h...\n",
       "499994                             math homework...formeln \n",
       "499996    Completely wiped and reloaded the 8900.... Los...\n",
       "Name: 6, Length: 249947, dtype: object"
      ]
     },
     "execution_count": 109,
     "metadata": {},
     "output_type": "execute_result"
    }
   ],
   "source": [
    "twitter[tag==0][6]"
   ]
  },
  {
   "cell_type": "code",
   "execution_count": 113,
   "metadata": {},
   "outputs": [],
   "source": [
    "def n(given_tag):\n",
    "    m1=[word_tokenize(w) for w in twitter[tag==given_tag][6]]\n",
    "    m2=np.concatenate(m1)\n",
    "    m3=set(m2)\n",
    "    return len(m3)\n",
    "\n",
    "\n",
    "    "
   ]
  },
  {
   "cell_type": "code",
   "execution_count": 115,
   "metadata": {},
   "outputs": [],
   "source": [
    "def pr(w,given_tag):\n",
    "    n_k=nk(w,given_tag)\n",
    "    n_n=n(given_tag)\n",
    "    prob=(n_k+1)/(n_n+len(voc))\n",
    "    return prob\n",
    "    \n",
    "        "
   ]
  },
  {
   "cell_type": "code",
   "execution_count": 116,
   "metadata": {},
   "outputs": [
    {
     "data": {
      "text/plain": [
       "209199"
      ]
     },
     "execution_count": 116,
     "metadata": {},
     "output_type": "execute_result"
    }
   ],
   "source": [
    "n(0)"
   ]
  },
  {
   "cell_type": "code",
   "execution_count": 123,
   "metadata": {},
   "outputs": [],
   "source": [
    "def sentiment(new):\n",
    "    tkn=word_tokenize(new)\n",
    "    p1=1\n",
    "    q1=1\n",
    "    for w in tkn:\n",
    "        p1=p1*pr(w,0)\n",
    "        q1=q1*pr(w,4)\n",
    "    p1=p(0)*p1\n",
    "    q1=p(4)*q1\n",
    "    if p1>q1:\n",
    "        return \"Negative\"\n",
    "    else:\n",
    "        return \"Positive\"\n",
    "    \n",
    "        \n",
    "        \n",
    "    "
   ]
  },
  {
   "cell_type": "code",
   "execution_count": 124,
   "metadata": {},
   "outputs": [
    {
     "data": {
      "text/plain": [
       "'Negative'"
      ]
     },
     "execution_count": 124,
     "metadata": {},
     "output_type": "execute_result"
    }
   ],
   "source": [
    "sentiment('i like movie')"
   ]
  },
  {
   "cell_type": "code",
   "execution_count": 126,
   "metadata": {},
   "outputs": [
    {
     "data": {
      "text/plain": [
       "'Negative'"
      ]
     },
     "execution_count": 126,
     "metadata": {},
     "output_type": "execute_result"
    }
   ],
   "source": [
    "sentiment('i love my wife very much. she is my heart')"
   ]
  },
  {
   "cell_type": "code",
   "execution_count": 127,
   "metadata": {},
   "outputs": [
    {
     "data": {
      "text/plain": [
       "'Negative'"
      ]
     },
     "execution_count": 127,
     "metadata": {},
     "output_type": "execute_result"
    }
   ],
   "source": [
    "sentiment('hate')"
   ]
  },
  {
   "cell_type": "code",
   "execution_count": 128,
   "metadata": {},
   "outputs": [
    {
     "data": {
      "text/plain": [
       "'Positive'"
      ]
     },
     "execution_count": 128,
     "metadata": {},
     "output_type": "execute_result"
    }
   ],
   "source": [
    "sentiment('happy')"
   ]
  },
  {
   "cell_type": "code",
   "execution_count": 129,
   "metadata": {},
   "outputs": [
    {
     "data": {
      "text/plain": [
       "'Positive'"
      ]
     },
     "execution_count": 129,
     "metadata": {},
     "output_type": "execute_result"
    }
   ],
   "source": [
    "sentiment('i love you')"
   ]
  },
  {
   "cell_type": "code",
   "execution_count": null,
   "metadata": {},
   "outputs": [],
   "source": []
  }
 ],
 "metadata": {
  "kernelspec": {
   "display_name": "Python 3",
   "language": "python",
   "name": "python3"
  },
  "language_info": {
   "codemirror_mode": {
    "name": "ipython",
    "version": 3
   },
   "file_extension": ".py",
   "mimetype": "text/x-python",
   "name": "python",
   "nbconvert_exporter": "python",
   "pygments_lexer": "ipython3",
   "version": "3.7.3"
  }
 },
 "nbformat": 4,
 "nbformat_minor": 2
}
