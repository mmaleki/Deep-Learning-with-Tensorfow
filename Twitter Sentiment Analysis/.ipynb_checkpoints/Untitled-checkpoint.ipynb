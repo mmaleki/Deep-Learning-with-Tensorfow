{
 "cells": [
  {
   "cell_type": "code",
   "execution_count": 7,
   "metadata": {},
   "outputs": [],
   "source": [
    "from nltk.tokenize import sent_tokenize"
   ]
  },
  {
   "cell_type": "code",
   "execution_count": 87,
   "metadata": {},
   "outputs": [],
   "source": [
    "kahneman='''The second section offers explanations for why humans struggle\n",
    "to think statistically. It begins by documenting a variety of situations in\n",
    "which we either arrive at binary decisions or fail to associate precisely \n",
    "reasonable probabilities with outcomes. Kahneman explains this phenomenon \n",
    "using the theory of heuristics. Kahneman and Tversky originally discussed this\n",
    "topic in their 1974 article titled Judgment Under Uncertainty: Heuristics and \n",
    "Biases.[7] I think it is true. The pi number is 3. 14 and is a irrational number.\n",
    "Kahneman uses heuristics to assert that System 1 thinking involves associating\n",
    "new information with existing patterns, or thoughts, rather than creating new \n",
    "patterns for each new experience. For example, a child who has only seen shapes\n",
    "with straight edges might perceive an octagon when first viewing a circle. As a \n",
    "legal metaphor, a judge limited to heuristic thinking would only be able to think \n",
    "of similar historical cases when presented with a new dispute, rather than \n",
    "considering the unique aspects of that case. In addition to offering an\n",
    "explanation for the statistical problem, the theory also offers an explanation\n",
    "for human biases.'''"
   ]
  },
  {
   "cell_type": "code",
   "execution_count": 88,
   "metadata": {},
   "outputs": [
    {
     "data": {
      "text/plain": [
       "1175"
      ]
     },
     "execution_count": 88,
     "metadata": {},
     "output_type": "execute_result"
    }
   ],
   "source": [
    "len(kahneman)"
   ]
  },
  {
   "cell_type": "code",
   "execution_count": 57,
   "metadata": {},
   "outputs": [
    {
     "data": {
      "text/plain": [
       "5"
      ]
     },
     "execution_count": 57,
     "metadata": {},
     "output_type": "execute_result"
    }
   ],
   "source": [
    "len('abc d')"
   ]
  },
  {
   "cell_type": "code",
   "execution_count": 58,
   "metadata": {},
   "outputs": [],
   "source": [
    "kan_tokenize=sent_tokenize(kahneman)"
   ]
  },
  {
   "cell_type": "code",
   "execution_count": 59,
   "metadata": {},
   "outputs": [
    {
     "data": {
      "text/plain": [
       "12"
      ]
     },
     "execution_count": 59,
     "metadata": {},
     "output_type": "execute_result"
    }
   ],
   "source": [
    "len(kan_tokenize)"
   ]
  },
  {
   "cell_type": "code",
   "execution_count": 60,
   "metadata": {},
   "outputs": [
    {
     "data": {
      "text/plain": [
       "['The second section offers explanations for why humans struggle\\nto think statistically.',\n",
       " 'It begins by documenting a variety of situations in\\nwhich we either arrive at binary decisions or fail to associate precisely \\nreasonable probabilities with outcomes.',\n",
       " 'Kahneman explains this phenomenon \\nusing the theory of heuristics.',\n",
       " 'Kahneman and Tversky originally discussed this\\ntopic in their 1974 article titled Judgment Under Uncertainty: Heuristics and \\nBiases.',\n",
       " '[7] I think it is true.',\n",
       " 'The pi number is 3.',\n",
       " '14 and is a irrational number.',\n",
       " 'Kahneman uses heuristics to assert that System 1 thinking involves associating\\nnew information with existing patterns, or thoughts, rather than creating new \\npatterns for each new experience.',\n",
       " 'For example, a child who has only seen shapes\\nwith straight edges might perceive an octagon when first viewing a circle.',\n",
       " 'As a \\nlegal metaphor, a judge limited to heuristic thinking would only be able to think \\nof similar historical cases when presented with a new dispute, rather than \\nconsidering the unique aspects of that case.',\n",
       " 'In addition to offering an\\nexplanation for the statistical problem, the theory also offers an explanation\\nfor human biases.',\n",
       " 'befor1940 in1950mid and 1960after he got 8 prize']"
      ]
     },
     "execution_count": 60,
     "metadata": {},
     "output_type": "execute_result"
    }
   ],
   "source": [
    "kan_tokenize"
   ]
  },
  {
   "cell_type": "code",
   "execution_count": 61,
   "metadata": {},
   "outputs": [],
   "source": [
    "from nltk.tokenize import word_tokenize"
   ]
  },
  {
   "cell_type": "code",
   "execution_count": 62,
   "metadata": {},
   "outputs": [],
   "source": [
    "kan_word_tokenize=word_tokenize(kahneman)"
   ]
  },
  {
   "cell_type": "code",
   "execution_count": 63,
   "metadata": {},
   "outputs": [
    {
     "data": {
      "text/plain": [
       "211"
      ]
     },
     "execution_count": 63,
     "metadata": {},
     "output_type": "execute_result"
    }
   ],
   "source": [
    "len(kan_word_tokenize)"
   ]
  },
  {
   "cell_type": "code",
   "execution_count": 64,
   "metadata": {},
   "outputs": [],
   "source": [
    "from nltk.tokenize import RegexpTokenizer"
   ]
  },
  {
   "cell_type": "code",
   "execution_count": 85,
   "metadata": {},
   "outputs": [],
   "source": [
    "reg1=RegexpTokenizer('[TI]\\w*')\n",
    "reg2=RegexpTokenizer('[A-Z]\\w+')\n",
    "reg3=RegexpTokenizer('[0-9]\\w*')\n",
    "reg4=RegexpTokenizer('\\n\\w*')"
   ]
  },
  {
   "cell_type": "code",
   "execution_count": 86,
   "metadata": {},
   "outputs": [],
   "source": [
    "reg1_kan=reg1.tokenize(kahneman)\n",
    "reg2_kan=reg2.tokenize(kahneman)\n",
    "reg3_kan=reg3.tokenize(kahneman)\n",
    "reg4_kan=reg4.tokenize(kahneman)"
   ]
  },
  {
   "cell_type": "code",
   "execution_count": 81,
   "metadata": {},
   "outputs": [
    {
     "data": {
      "text/plain": [
       "['The', 'It', 'Tversky', 'I', 'The', 'In']"
      ]
     },
     "execution_count": 81,
     "metadata": {},
     "output_type": "execute_result"
    }
   ],
   "source": [
    "reg1_kan"
   ]
  },
  {
   "cell_type": "code",
   "execution_count": 76,
   "metadata": {},
   "outputs": [
    {
     "data": {
      "text/plain": [
       "['The',\n",
       " 'It',\n",
       " 'Kahneman',\n",
       " 'Kahneman',\n",
       " 'Tversky',\n",
       " 'Judgment',\n",
       " 'Under',\n",
       " 'Uncertainty',\n",
       " 'Heuristics',\n",
       " 'Biases',\n",
       " 'The',\n",
       " 'Kahneman',\n",
       " 'System',\n",
       " 'For',\n",
       " 'As',\n",
       " 'In']"
      ]
     },
     "execution_count": 76,
     "metadata": {},
     "output_type": "execute_result"
    }
   ],
   "source": [
    "reg2_kan"
   ]
  },
  {
   "cell_type": "code",
   "execution_count": 77,
   "metadata": {},
   "outputs": [
    {
     "data": {
      "text/plain": [
       "['1974', '7', '3', '14', '1']"
      ]
     },
     "execution_count": 77,
     "metadata": {},
     "output_type": "execute_result"
    }
   ],
   "source": [
    "reg3_kan"
   ]
  },
  {
   "cell_type": "code",
   "execution_count": 78,
   "metadata": {
    "scrolled": true
   },
   "outputs": [
    {
     "data": {
      "text/plain": [
       "['\\nto',\n",
       " '\\nwhich',\n",
       " '\\nreasonable',\n",
       " '\\nusing',\n",
       " '\\ntopic',\n",
       " '\\nBiases',\n",
       " '\\nKahneman',\n",
       " '\\nnew',\n",
       " '\\npatterns',\n",
       " '\\nwith',\n",
       " '\\nlegal',\n",
       " '\\nof',\n",
       " '\\nconsidering',\n",
       " '\\nexplanation',\n",
       " '\\nfor']"
      ]
     },
     "execution_count": 78,
     "metadata": {},
     "output_type": "execute_result"
    }
   ],
   "source": [
    "reg4_kan"
   ]
  },
  {
   "cell_type": "code",
   "execution_count": 79,
   "metadata": {},
   "outputs": [],
   "source": [
    "from nltk.probability import FreqDist"
   ]
  },
  {
   "cell_type": "code",
   "execution_count": 80,
   "metadata": {},
   "outputs": [
    {
     "data": {
      "text/plain": [
       "FreqDist({'.': 11, 'a': 7, 'to': 6, ',': 6, 'for': 4, 'of': 4, 'with': 4, 'the': 4, 'new': 4, 'think': 3, ...})"
      ]
     },
     "execution_count": 80,
     "metadata": {},
     "output_type": "execute_result"
    }
   ],
   "source": [
    "FreqDist(kan_word_tokenize)"
   ]
  },
  {
   "cell_type": "code",
   "execution_count": 81,
   "metadata": {},
   "outputs": [
    {
     "data": {
      "text/plain": [
       "3"
      ]
     },
     "execution_count": 81,
     "metadata": {},
     "output_type": "execute_result"
    }
   ],
   "source": [
    "FreqDist(kan_word_tokenize)['Kahneman']"
   ]
  },
  {
   "cell_type": "code",
   "execution_count": 82,
   "metadata": {},
   "outputs": [],
   "source": [
    "fdist=FreqDist(kan_word_tokenize)"
   ]
  },
  {
   "cell_type": "code",
   "execution_count": 85,
   "metadata": {
    "scrolled": true
   },
   "outputs": [
    {
     "data": {
      "image/png": "[encoded data removed]",
      "text/plain": [
       "<Figure size 432x288 with 1 Axes>"
      ]
     },
     "metadata": {
      "needs_background": "light"
     },
     "output_type": "display_data"
    },
    {
     "data": {
      "text/plain": [
       "<matplotlib.axes._subplots.AxesSubplot at 0x7f76ac79ab38>"
      ]
     },
     "execution_count": 85,
     "metadata": {},
     "output_type": "execute_result"
    }
   ],
   "source": [
    "fdist.plot(15)"
   ]
  },
  {
   "cell_type": "code",
   "execution_count": 86,
   "metadata": {},
   "outputs": [],
   "source": [
    "from nltk.corpus import stopwords"
   ]
  },
  {
   "cell_type": "code",
   "execution_count": 87,
   "metadata": {},
   "outputs": [],
   "source": [
    "stop_words=stopwords.words('english')"
   ]
  },
  {
   "cell_type": "code",
   "execution_count": 98,
   "metadata": {},
   "outputs": [],
   "source": [
    "filtered_words=[]"
   ]
  },
  {
   "cell_type": "code",
   "execution_count": 99,
   "metadata": {},
   "outputs": [],
   "source": [
    "for w in kan_word_tokenize:\n",
    "    v=w.lower()\n",
    "    if v not in stop_words:\n",
    "        filtered_words.append(v)"
   ]
  },
  {
   "cell_type": "code",
   "execution_count": 100,
   "metadata": {},
   "outputs": [
    {
     "data": {
      "text/plain": [
       "'abcd'"
      ]
     },
     "execution_count": 100,
     "metadata": {},
     "output_type": "execute_result"
    }
   ],
   "source": [
    "'AbcD'.lower()"
   ]
  },
  {
   "cell_type": "code",
   "execution_count": 101,
   "metadata": {},
   "outputs": [
    {
     "data": {
      "text/plain": [
       "['second',\n",
       " 'section',\n",
       " 'offers',\n",
       " 'explanations',\n",
       " 'humans',\n",
       " 'struggle',\n",
       " 'think',\n",
       " 'statistically',\n",
       " '.',\n",
       " 'begins',\n",
       " 'documenting',\n",
       " 'variety',\n",
       " 'situations',\n",
       " 'either',\n",
       " 'arrive',\n",
       " 'binary',\n",
       " 'decisions',\n",
       " 'fail',\n",
       " 'associate',\n",
       " 'precisely',\n",
       " 'reasonable',\n",
       " 'probabilities',\n",
       " 'outcomes',\n",
       " '.',\n",
       " 'kahneman',\n",
       " 'explains',\n",
       " 'phenomenon',\n",
       " 'using',\n",
       " 'theory',\n",
       " 'heuristics',\n",
       " '.',\n",
       " 'kahneman',\n",
       " 'tversky',\n",
       " 'originally',\n",
       " 'discussed',\n",
       " 'topic',\n",
       " '1974',\n",
       " 'article',\n",
       " 'titled',\n",
       " 'judgment',\n",
       " 'uncertainty',\n",
       " ':',\n",
       " 'heuristics',\n",
       " 'biases',\n",
       " '.',\n",
       " '[',\n",
       " '7',\n",
       " ']',\n",
       " 'think',\n",
       " 'true',\n",
       " '.',\n",
       " 'pi',\n",
       " 'number',\n",
       " '3',\n",
       " '.',\n",
       " '14',\n",
       " 'irrational',\n",
       " 'number',\n",
       " '.',\n",
       " 'kahneman',\n",
       " 'uses',\n",
       " 'heuristics',\n",
       " 'assert',\n",
       " 'system',\n",
       " '1',\n",
       " 'thinking',\n",
       " 'involves',\n",
       " 'associating',\n",
       " 'new',\n",
       " 'information',\n",
       " 'existing',\n",
       " 'patterns',\n",
       " ',',\n",
       " 'thoughts',\n",
       " ',',\n",
       " 'rather',\n",
       " 'creating',\n",
       " 'new',\n",
       " 'patterns',\n",
       " 'new',\n",
       " 'experience',\n",
       " '.',\n",
       " 'example',\n",
       " ',',\n",
       " 'child',\n",
       " 'seen',\n",
       " 'shapes',\n",
       " 'straight',\n",
       " 'edges',\n",
       " 'might',\n",
       " 'perceive',\n",
       " 'octagon',\n",
       " 'first',\n",
       " 'viewing',\n",
       " 'circle',\n",
       " '.',\n",
       " 'legal',\n",
       " 'metaphor',\n",
       " ',',\n",
       " 'judge',\n",
       " 'limited',\n",
       " 'heuristic',\n",
       " 'thinking',\n",
       " 'would',\n",
       " 'able',\n",
       " 'think',\n",
       " 'similar',\n",
       " 'historical',\n",
       " 'cases',\n",
       " 'presented',\n",
       " 'new',\n",
       " 'dispute',\n",
       " ',',\n",
       " 'rather',\n",
       " 'considering',\n",
       " 'unique',\n",
       " 'aspects',\n",
       " 'case',\n",
       " '.',\n",
       " 'addition',\n",
       " 'offering',\n",
       " 'explanation',\n",
       " 'statistical',\n",
       " 'problem',\n",
       " ',',\n",
       " 'theory',\n",
       " 'also',\n",
       " 'offers',\n",
       " 'explanation',\n",
       " 'human',\n",
       " 'biases',\n",
       " '.']"
      ]
     },
     "execution_count": 101,
     "metadata": {},
     "output_type": "execute_result"
    }
   ],
   "source": [
    "filtered_words"
   ]
  },
  {
   "cell_type": "code",
   "execution_count": 102,
   "metadata": {},
   "outputs": [],
   "source": [
    "fdis2=FreqDist(filtered_words)"
   ]
  },
  {
   "cell_type": "code",
   "execution_count": 103,
   "metadata": {},
   "outputs": [
    {
     "data": {
      "text/plain": [
       "RegexpTokenizer(pattern='[TI]\\\\w*', gaps=False, discard_empty=True, flags=<RegexFlag.UNICODE|DOTALL|MULTILINE: 56>)"
      ]
     },
     "execution_count": 103,
     "metadata": {},
     "output_type": "execute_result"
    }
   ],
   "source": [
    "reg1"
   ]
  },
  {
   "cell_type": "code",
   "execution_count": 104,
   "metadata": {},
   "outputs": [
    {
     "data": {
      "text/plain": [
       "RegexpTokenizer(pattern='[TI]\\\\w*', gaps=False, discard_empty=True, flags=<RegexFlag.UNICODE|DOTALL|MULTILINE: 56>)"
      ]
     },
     "execution_count": 104,
     "metadata": {},
     "output_type": "execute_result"
    }
   ],
   "source": [
    "reg1"
   ]
  },
  {
   "cell_type": "code",
   "execution_count": 105,
   "metadata": {},
   "outputs": [
    {
     "data": {
      "image/png": "[encoded data removed]",
      "text/plain": [
       "<Figure size 432x288 with 1 Axes>"
      ]
     },
     "metadata": {
      "needs_background": "light"
     },
     "output_type": "display_data"
    },
    {
     "data": {
      "text/plain": [
       "<matplotlib.axes._subplots.AxesSubplot at 0x7f76abfb92e8>"
      ]
     },
     "execution_count": 105,
     "metadata": {},
     "output_type": "execute_result"
    }
   ],
   "source": [
    "fdis2.plot(10)"
   ]
  },
  {
   "cell_type": "code",
   "execution_count": 106,
   "metadata": {},
   "outputs": [],
   "source": [
    "from nltk import bigrams"
   ]
  },
  {
   "cell_type": "code",
   "execution_count": 107,
   "metadata": {},
   "outputs": [],
   "source": [
    "kan_text=[w.lower() for w in kan_word_tokenize]"
   ]
  },
  {
   "cell_type": "code",
   "execution_count": 109,
   "metadata": {},
   "outputs": [],
   "source": [
    "stop_words=set(stop_words)"
   ]
  },
  {
   "cell_type": "code",
   "execution_count": 110,
   "metadata": {},
   "outputs": [],
   "source": [
    "A=bigrams(filtered_words)"
   ]
  },
  {
   "cell_type": "code",
   "execution_count": 111,
   "metadata": {},
   "outputs": [],
   "source": [
    "fdis3=FreqDist(A)"
   ]
  },
  {
   "cell_type": "code",
   "execution_count": 112,
   "metadata": {},
   "outputs": [
    {
     "data": {
      "image/png": "[encoded data removed]",
      "text/plain": [
       "<Figure size 432x288 with 1 Axes>"
      ]
     },
     "metadata": {
      "needs_background": "light"
     },
     "output_type": "display_data"
    },
    {
     "data": {
      "text/plain": [
       "<matplotlib.axes._subplots.AxesSubplot at 0x7f76abf16908>"
      ]
     },
     "execution_count": 112,
     "metadata": {},
     "output_type": "execute_result"
    }
   ],
   "source": [
    "fdis3.plot(6)"
   ]
  },
  {
   "cell_type": "code",
   "execution_count": 113,
   "metadata": {},
   "outputs": [],
   "source": [
    "from nltk import trigrams"
   ]
  },
  {
   "cell_type": "code",
   "execution_count": 114,
   "metadata": {},
   "outputs": [],
   "source": [
    "B=trigrams(filtered_words)"
   ]
  },
  {
   "cell_type": "code",
   "execution_count": 115,
   "metadata": {},
   "outputs": [],
   "source": [
    "fdis4=FreqDist(B)"
   ]
  },
  {
   "cell_type": "code",
   "execution_count": 116,
   "metadata": {},
   "outputs": [
    {
     "data": {
      "image/png": "[encoded data removed]",
      "text/plain": [
       "<Figure size 432x288 with 1 Axes>"
      ]
     },
     "metadata": {
      "needs_background": "light"
     },
     "output_type": "display_data"
    },
    {
     "data": {
      "text/plain": [
       "<matplotlib.axes._subplots.AxesSubplot at 0x7f76abe942e8>"
      ]
     },
     "execution_count": 116,
     "metadata": {},
     "output_type": "execute_result"
    }
   ],
   "source": [
    "fdis4.plot(5)"
   ]
  },
  {
   "cell_type": "code",
   "execution_count": 117,
   "metadata": {},
   "outputs": [],
   "source": [
    "from nltk import ngrams"
   ]
  },
  {
   "cell_type": "code",
   "execution_count": 118,
   "metadata": {},
   "outputs": [],
   "source": [
    "C=ngrams(filtered_words,5)"
   ]
  },
  {
   "cell_type": "code",
   "execution_count": 119,
   "metadata": {},
   "outputs": [],
   "source": [
    "fdis5=FreqDist(C)"
   ]
  },
  {
   "cell_type": "code",
   "execution_count": 120,
   "metadata": {},
   "outputs": [
    {
     "data": {
      "image/png": "[encoded data removed]",
      "text/plain": [
       "<Figure size 432x288 with 1 Axes>"
      ]
     },
     "metadata": {
      "needs_background": "light"
     },
     "output_type": "display_data"
    },
    {
     "data": {
      "text/plain": [
       "<matplotlib.axes._subplots.AxesSubplot at 0x7f76abe735f8>"
      ]
     },
     "execution_count": 120,
     "metadata": {},
     "output_type": "execute_result"
    }
   ],
   "source": [
    "fdis5.plot(5)"
   ]
  },
  {
   "cell_type": "code",
   "execution_count": null,
   "metadata": {},
   "outputs": [],
   "source": []
  }
 ],
 "metadata": {
  "kernelspec": {
   "display_name": "Python 3",
   "language": "python",
   "name": "python3"
  },
  "language_info": {
   "codemirror_mode": {
    "name": "ipython",
    "version": 3
   },
   "file_extension": ".py",
   "mimetype": "text/x-python",
   "name": "python",
   "nbconvert_exporter": "python",
   "pygments_lexer": "ipython3",
   "version": "3.7.3"
  }
 },
 "nbformat": 4,
 "nbformat_minor": 2
}
